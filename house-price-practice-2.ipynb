{
 "cells": [
  {
   "cell_type": "code",
   "execution_count": 1,
   "id": "36eb3480",
   "metadata": {
    "_cell_guid": "b1076dfc-b9ad-4769-8c92-a6c4dae69d19",
    "_uuid": "8f2839f25d086af736a60e9eeb907d3b93b6e0e5",
    "execution": {
     "iopub.execute_input": "2022-08-08T00:46:06.370887Z",
     "iopub.status.busy": "2022-08-08T00:46:06.370343Z",
     "iopub.status.idle": "2022-08-08T00:46:07.697147Z",
     "shell.execute_reply": "2022-08-08T00:46:07.694382Z"
    },
    "papermill": {
     "duration": 1.351295,
     "end_time": "2022-08-08T00:46:07.701342",
     "exception": false,
     "start_time": "2022-08-08T00:46:06.350047",
     "status": "completed"
    },
    "tags": []
   },
   "outputs": [
    {
     "name": "stdout",
     "output_type": "stream",
     "text": [
      "/kaggle/input/house-prices-advanced-regression-techniques/sample_submission.csv\n",
      "/kaggle/input/house-prices-advanced-regression-techniques/data_description.txt\n",
      "/kaggle/input/house-prices-advanced-regression-techniques/train.csv\n",
      "/kaggle/input/house-prices-advanced-regression-techniques/test.csv\n"
     ]
    }
   ],
   "source": [
    "# This Python 3 environment comes with many helpful analytics libraries installed\n",
    "# It is defined by the kaggle/python Docker image: https://github.com/kaggle/docker-python\n",
    "# For example, here's several helpful packages to load\n",
    "\n",
    "import numpy as np # linear algebra\n",
    "import pandas as pd # data processing, CSV file I/O (e.g. pd.read_csv)\n",
    "%matplotlib inline\n",
    "import matplotlib.pyplot as plt  # Matlab-style plotting\n",
    "import seaborn as sns\n",
    "\n",
    "from scipy import stats\n",
    "from scipy.stats import norm, skew #for some statistics\n",
    "\n",
    "# Input data files are available in the read-only \"../input/\" directory\n",
    "# For example, running this (by clicking run or pressing Shift+Enter) will list all files under the input directory\n",
    "\n",
    "import os\n",
    "for dirname, _, filenames in os.walk('/kaggle/input'):\n",
    "    for filename in filenames:\n",
    "        print(os.path.join(dirname, filename))\n",
    "\n",
    "# You can write up to 20GB to the current directory (/kaggle/working/) that gets preserved as output when you create a version using \"Save & Run All\" \n",
    "# You can also write temporary files to /kaggle/temp/, but they won't be saved outside of the current session"
   ]
  },
  {
   "cell_type": "code",
   "execution_count": 2,
   "id": "5c04c65b",
   "metadata": {
    "execution": {
     "iopub.execute_input": "2022-08-08T00:46:07.741832Z",
     "iopub.status.busy": "2022-08-08T00:46:07.741348Z",
     "iopub.status.idle": "2022-08-08T00:46:07.821408Z",
     "shell.execute_reply": "2022-08-08T00:46:07.820232Z"
    },
    "papermill": {
     "duration": 0.102635,
     "end_time": "2022-08-08T00:46:07.824571",
     "exception": false,
     "start_time": "2022-08-08T00:46:07.721936",
     "status": "completed"
    },
    "tags": []
   },
   "outputs": [],
   "source": [
    "train = pd.read_csv('../input/house-prices-advanced-regression-techniques/train.csv')\n",
    "test = pd.read_csv('../input/house-prices-advanced-regression-techniques/test.csv')"
   ]
  },
  {
   "cell_type": "code",
   "execution_count": 3,
   "id": "dc82428f",
   "metadata": {
    "execution": {
     "iopub.execute_input": "2022-08-08T00:46:07.864430Z",
     "iopub.status.busy": "2022-08-08T00:46:07.863521Z",
     "iopub.status.idle": "2022-08-08T00:46:07.906569Z",
     "shell.execute_reply": "2022-08-08T00:46:07.905565Z"
    },
    "papermill": {
     "duration": 0.066482,
     "end_time": "2022-08-08T00:46:07.909242",
     "exception": false,
     "start_time": "2022-08-08T00:46:07.842760",
     "status": "completed"
    },
    "tags": []
   },
   "outputs": [
    {
     "data": {
      "text/html": [
       "<div>\n",
       "<style scoped>\n",
       "    .dataframe tbody tr th:only-of-type {\n",
       "        vertical-align: middle;\n",
       "    }\n",
       "\n",
       "    .dataframe tbody tr th {\n",
       "        vertical-align: top;\n",
       "    }\n",
       "\n",
       "    .dataframe thead th {\n",
       "        text-align: right;\n",
       "    }\n",
       "</style>\n",
       "<table border=\"1\" class=\"dataframe\">\n",
       "  <thead>\n",
       "    <tr style=\"text-align: right;\">\n",
       "      <th></th>\n",
       "      <th>Id</th>\n",
       "      <th>MSSubClass</th>\n",
       "      <th>MSZoning</th>\n",
       "      <th>LotFrontage</th>\n",
       "      <th>LotArea</th>\n",
       "      <th>Street</th>\n",
       "      <th>Alley</th>\n",
       "      <th>LotShape</th>\n",
       "      <th>LandContour</th>\n",
       "      <th>Utilities</th>\n",
       "      <th>...</th>\n",
       "      <th>PoolArea</th>\n",
       "      <th>PoolQC</th>\n",
       "      <th>Fence</th>\n",
       "      <th>MiscFeature</th>\n",
       "      <th>MiscVal</th>\n",
       "      <th>MoSold</th>\n",
       "      <th>YrSold</th>\n",
       "      <th>SaleType</th>\n",
       "      <th>SaleCondition</th>\n",
       "      <th>SalePrice</th>\n",
       "    </tr>\n",
       "  </thead>\n",
       "  <tbody>\n",
       "    <tr>\n",
       "      <th>0</th>\n",
       "      <td>1</td>\n",
       "      <td>60</td>\n",
       "      <td>RL</td>\n",
       "      <td>65.0</td>\n",
       "      <td>8450</td>\n",
       "      <td>Pave</td>\n",
       "      <td>NaN</td>\n",
       "      <td>Reg</td>\n",
       "      <td>Lvl</td>\n",
       "      <td>AllPub</td>\n",
       "      <td>...</td>\n",
       "      <td>0</td>\n",
       "      <td>NaN</td>\n",
       "      <td>NaN</td>\n",
       "      <td>NaN</td>\n",
       "      <td>0</td>\n",
       "      <td>2</td>\n",
       "      <td>2008</td>\n",
       "      <td>WD</td>\n",
       "      <td>Normal</td>\n",
       "      <td>208500</td>\n",
       "    </tr>\n",
       "    <tr>\n",
       "      <th>1</th>\n",
       "      <td>2</td>\n",
       "      <td>20</td>\n",
       "      <td>RL</td>\n",
       "      <td>80.0</td>\n",
       "      <td>9600</td>\n",
       "      <td>Pave</td>\n",
       "      <td>NaN</td>\n",
       "      <td>Reg</td>\n",
       "      <td>Lvl</td>\n",
       "      <td>AllPub</td>\n",
       "      <td>...</td>\n",
       "      <td>0</td>\n",
       "      <td>NaN</td>\n",
       "      <td>NaN</td>\n",
       "      <td>NaN</td>\n",
       "      <td>0</td>\n",
       "      <td>5</td>\n",
       "      <td>2007</td>\n",
       "      <td>WD</td>\n",
       "      <td>Normal</td>\n",
       "      <td>181500</td>\n",
       "    </tr>\n",
       "    <tr>\n",
       "      <th>2</th>\n",
       "      <td>3</td>\n",
       "      <td>60</td>\n",
       "      <td>RL</td>\n",
       "      <td>68.0</td>\n",
       "      <td>11250</td>\n",
       "      <td>Pave</td>\n",
       "      <td>NaN</td>\n",
       "      <td>IR1</td>\n",
       "      <td>Lvl</td>\n",
       "      <td>AllPub</td>\n",
       "      <td>...</td>\n",
       "      <td>0</td>\n",
       "      <td>NaN</td>\n",
       "      <td>NaN</td>\n",
       "      <td>NaN</td>\n",
       "      <td>0</td>\n",
       "      <td>9</td>\n",
       "      <td>2008</td>\n",
       "      <td>WD</td>\n",
       "      <td>Normal</td>\n",
       "      <td>223500</td>\n",
       "    </tr>\n",
       "    <tr>\n",
       "      <th>3</th>\n",
       "      <td>4</td>\n",
       "      <td>70</td>\n",
       "      <td>RL</td>\n",
       "      <td>60.0</td>\n",
       "      <td>9550</td>\n",
       "      <td>Pave</td>\n",
       "      <td>NaN</td>\n",
       "      <td>IR1</td>\n",
       "      <td>Lvl</td>\n",
       "      <td>AllPub</td>\n",
       "      <td>...</td>\n",
       "      <td>0</td>\n",
       "      <td>NaN</td>\n",
       "      <td>NaN</td>\n",
       "      <td>NaN</td>\n",
       "      <td>0</td>\n",
       "      <td>2</td>\n",
       "      <td>2006</td>\n",
       "      <td>WD</td>\n",
       "      <td>Abnorml</td>\n",
       "      <td>140000</td>\n",
       "    </tr>\n",
       "    <tr>\n",
       "      <th>4</th>\n",
       "      <td>5</td>\n",
       "      <td>60</td>\n",
       "      <td>RL</td>\n",
       "      <td>84.0</td>\n",
       "      <td>14260</td>\n",
       "      <td>Pave</td>\n",
       "      <td>NaN</td>\n",
       "      <td>IR1</td>\n",
       "      <td>Lvl</td>\n",
       "      <td>AllPub</td>\n",
       "      <td>...</td>\n",
       "      <td>0</td>\n",
       "      <td>NaN</td>\n",
       "      <td>NaN</td>\n",
       "      <td>NaN</td>\n",
       "      <td>0</td>\n",
       "      <td>12</td>\n",
       "      <td>2008</td>\n",
       "      <td>WD</td>\n",
       "      <td>Normal</td>\n",
       "      <td>250000</td>\n",
       "    </tr>\n",
       "  </tbody>\n",
       "</table>\n",
       "<p>5 rows × 81 columns</p>\n",
       "</div>"
      ],
      "text/plain": [
       "   Id  MSSubClass MSZoning  LotFrontage  LotArea Street Alley LotShape  \\\n",
       "0   1          60       RL         65.0     8450   Pave   NaN      Reg   \n",
       "1   2          20       RL         80.0     9600   Pave   NaN      Reg   \n",
       "2   3          60       RL         68.0    11250   Pave   NaN      IR1   \n",
       "3   4          70       RL         60.0     9550   Pave   NaN      IR1   \n",
       "4   5          60       RL         84.0    14260   Pave   NaN      IR1   \n",
       "\n",
       "  LandContour Utilities  ... PoolArea PoolQC Fence MiscFeature MiscVal MoSold  \\\n",
       "0         Lvl    AllPub  ...        0    NaN   NaN         NaN       0      2   \n",
       "1         Lvl    AllPub  ...        0    NaN   NaN         NaN       0      5   \n",
       "2         Lvl    AllPub  ...        0    NaN   NaN         NaN       0      9   \n",
       "3         Lvl    AllPub  ...        0    NaN   NaN         NaN       0      2   \n",
       "4         Lvl    AllPub  ...        0    NaN   NaN         NaN       0     12   \n",
       "\n",
       "  YrSold  SaleType  SaleCondition  SalePrice  \n",
       "0   2008        WD         Normal     208500  \n",
       "1   2007        WD         Normal     181500  \n",
       "2   2008        WD         Normal     223500  \n",
       "3   2006        WD        Abnorml     140000  \n",
       "4   2008        WD         Normal     250000  \n",
       "\n",
       "[5 rows x 81 columns]"
      ]
     },
     "execution_count": 3,
     "metadata": {},
     "output_type": "execute_result"
    }
   ],
   "source": [
    "train.head()"
   ]
  },
  {
   "cell_type": "code",
   "execution_count": 4,
   "id": "6655f361",
   "metadata": {
    "execution": {
     "iopub.execute_input": "2022-08-08T00:46:07.949638Z",
     "iopub.status.busy": "2022-08-08T00:46:07.948918Z",
     "iopub.status.idle": "2022-08-08T00:46:07.977979Z",
     "shell.execute_reply": "2022-08-08T00:46:07.976624Z"
    },
    "papermill": {
     "duration": 0.052408,
     "end_time": "2022-08-08T00:46:07.981286",
     "exception": false,
     "start_time": "2022-08-08T00:46:07.928878",
     "status": "completed"
    },
    "tags": []
   },
   "outputs": [
    {
     "data": {
      "text/html": [
       "<div>\n",
       "<style scoped>\n",
       "    .dataframe tbody tr th:only-of-type {\n",
       "        vertical-align: middle;\n",
       "    }\n",
       "\n",
       "    .dataframe tbody tr th {\n",
       "        vertical-align: top;\n",
       "    }\n",
       "\n",
       "    .dataframe thead th {\n",
       "        text-align: right;\n",
       "    }\n",
       "</style>\n",
       "<table border=\"1\" class=\"dataframe\">\n",
       "  <thead>\n",
       "    <tr style=\"text-align: right;\">\n",
       "      <th></th>\n",
       "      <th>Id</th>\n",
       "      <th>MSSubClass</th>\n",
       "      <th>MSZoning</th>\n",
       "      <th>LotFrontage</th>\n",
       "      <th>LotArea</th>\n",
       "      <th>Street</th>\n",
       "      <th>Alley</th>\n",
       "      <th>LotShape</th>\n",
       "      <th>LandContour</th>\n",
       "      <th>Utilities</th>\n",
       "      <th>...</th>\n",
       "      <th>ScreenPorch</th>\n",
       "      <th>PoolArea</th>\n",
       "      <th>PoolQC</th>\n",
       "      <th>Fence</th>\n",
       "      <th>MiscFeature</th>\n",
       "      <th>MiscVal</th>\n",
       "      <th>MoSold</th>\n",
       "      <th>YrSold</th>\n",
       "      <th>SaleType</th>\n",
       "      <th>SaleCondition</th>\n",
       "    </tr>\n",
       "  </thead>\n",
       "  <tbody>\n",
       "    <tr>\n",
       "      <th>0</th>\n",
       "      <td>1461</td>\n",
       "      <td>20</td>\n",
       "      <td>RH</td>\n",
       "      <td>80.0</td>\n",
       "      <td>11622</td>\n",
       "      <td>Pave</td>\n",
       "      <td>NaN</td>\n",
       "      <td>Reg</td>\n",
       "      <td>Lvl</td>\n",
       "      <td>AllPub</td>\n",
       "      <td>...</td>\n",
       "      <td>120</td>\n",
       "      <td>0</td>\n",
       "      <td>NaN</td>\n",
       "      <td>MnPrv</td>\n",
       "      <td>NaN</td>\n",
       "      <td>0</td>\n",
       "      <td>6</td>\n",
       "      <td>2010</td>\n",
       "      <td>WD</td>\n",
       "      <td>Normal</td>\n",
       "    </tr>\n",
       "    <tr>\n",
       "      <th>1</th>\n",
       "      <td>1462</td>\n",
       "      <td>20</td>\n",
       "      <td>RL</td>\n",
       "      <td>81.0</td>\n",
       "      <td>14267</td>\n",
       "      <td>Pave</td>\n",
       "      <td>NaN</td>\n",
       "      <td>IR1</td>\n",
       "      <td>Lvl</td>\n",
       "      <td>AllPub</td>\n",
       "      <td>...</td>\n",
       "      <td>0</td>\n",
       "      <td>0</td>\n",
       "      <td>NaN</td>\n",
       "      <td>NaN</td>\n",
       "      <td>Gar2</td>\n",
       "      <td>12500</td>\n",
       "      <td>6</td>\n",
       "      <td>2010</td>\n",
       "      <td>WD</td>\n",
       "      <td>Normal</td>\n",
       "    </tr>\n",
       "    <tr>\n",
       "      <th>2</th>\n",
       "      <td>1463</td>\n",
       "      <td>60</td>\n",
       "      <td>RL</td>\n",
       "      <td>74.0</td>\n",
       "      <td>13830</td>\n",
       "      <td>Pave</td>\n",
       "      <td>NaN</td>\n",
       "      <td>IR1</td>\n",
       "      <td>Lvl</td>\n",
       "      <td>AllPub</td>\n",
       "      <td>...</td>\n",
       "      <td>0</td>\n",
       "      <td>0</td>\n",
       "      <td>NaN</td>\n",
       "      <td>MnPrv</td>\n",
       "      <td>NaN</td>\n",
       "      <td>0</td>\n",
       "      <td>3</td>\n",
       "      <td>2010</td>\n",
       "      <td>WD</td>\n",
       "      <td>Normal</td>\n",
       "    </tr>\n",
       "    <tr>\n",
       "      <th>3</th>\n",
       "      <td>1464</td>\n",
       "      <td>60</td>\n",
       "      <td>RL</td>\n",
       "      <td>78.0</td>\n",
       "      <td>9978</td>\n",
       "      <td>Pave</td>\n",
       "      <td>NaN</td>\n",
       "      <td>IR1</td>\n",
       "      <td>Lvl</td>\n",
       "      <td>AllPub</td>\n",
       "      <td>...</td>\n",
       "      <td>0</td>\n",
       "      <td>0</td>\n",
       "      <td>NaN</td>\n",
       "      <td>NaN</td>\n",
       "      <td>NaN</td>\n",
       "      <td>0</td>\n",
       "      <td>6</td>\n",
       "      <td>2010</td>\n",
       "      <td>WD</td>\n",
       "      <td>Normal</td>\n",
       "    </tr>\n",
       "    <tr>\n",
       "      <th>4</th>\n",
       "      <td>1465</td>\n",
       "      <td>120</td>\n",
       "      <td>RL</td>\n",
       "      <td>43.0</td>\n",
       "      <td>5005</td>\n",
       "      <td>Pave</td>\n",
       "      <td>NaN</td>\n",
       "      <td>IR1</td>\n",
       "      <td>HLS</td>\n",
       "      <td>AllPub</td>\n",
       "      <td>...</td>\n",
       "      <td>144</td>\n",
       "      <td>0</td>\n",
       "      <td>NaN</td>\n",
       "      <td>NaN</td>\n",
       "      <td>NaN</td>\n",
       "      <td>0</td>\n",
       "      <td>1</td>\n",
       "      <td>2010</td>\n",
       "      <td>WD</td>\n",
       "      <td>Normal</td>\n",
       "    </tr>\n",
       "  </tbody>\n",
       "</table>\n",
       "<p>5 rows × 80 columns</p>\n",
       "</div>"
      ],
      "text/plain": [
       "     Id  MSSubClass MSZoning  LotFrontage  LotArea Street Alley LotShape  \\\n",
       "0  1461          20       RH         80.0    11622   Pave   NaN      Reg   \n",
       "1  1462          20       RL         81.0    14267   Pave   NaN      IR1   \n",
       "2  1463          60       RL         74.0    13830   Pave   NaN      IR1   \n",
       "3  1464          60       RL         78.0     9978   Pave   NaN      IR1   \n",
       "4  1465         120       RL         43.0     5005   Pave   NaN      IR1   \n",
       "\n",
       "  LandContour Utilities  ... ScreenPorch PoolArea PoolQC  Fence MiscFeature  \\\n",
       "0         Lvl    AllPub  ...         120        0    NaN  MnPrv         NaN   \n",
       "1         Lvl    AllPub  ...           0        0    NaN    NaN        Gar2   \n",
       "2         Lvl    AllPub  ...           0        0    NaN  MnPrv         NaN   \n",
       "3         Lvl    AllPub  ...           0        0    NaN    NaN         NaN   \n",
       "4         HLS    AllPub  ...         144        0    NaN    NaN         NaN   \n",
       "\n",
       "  MiscVal MoSold  YrSold  SaleType  SaleCondition  \n",
       "0       0      6    2010        WD         Normal  \n",
       "1   12500      6    2010        WD         Normal  \n",
       "2       0      3    2010        WD         Normal  \n",
       "3       0      6    2010        WD         Normal  \n",
       "4       0      1    2010        WD         Normal  \n",
       "\n",
       "[5 rows x 80 columns]"
      ]
     },
     "execution_count": 4,
     "metadata": {},
     "output_type": "execute_result"
    }
   ],
   "source": [
    "test.head()"
   ]
  },
  {
   "cell_type": "code",
   "execution_count": 5,
   "id": "12dcce10",
   "metadata": {
    "execution": {
     "iopub.execute_input": "2022-08-08T00:46:08.025274Z",
     "iopub.status.busy": "2022-08-08T00:46:08.024670Z",
     "iopub.status.idle": "2022-08-08T00:46:08.051071Z",
     "shell.execute_reply": "2022-08-08T00:46:08.048515Z"
    },
    "papermill": {
     "duration": 0.053097,
     "end_time": "2022-08-08T00:46:08.055544",
     "exception": false,
     "start_time": "2022-08-08T00:46:08.002447",
     "status": "completed"
    },
    "tags": []
   },
   "outputs": [
    {
     "name": "stdout",
     "output_type": "stream",
     "text": [
      "The train data size before dropping Id feature is : (1460, 81) \n",
      "The test data size before dropping Id feature is : (1459, 80) \n",
      "\n",
      "The train data size after dropping Id feature is : (1460, 80) \n",
      "The test data size after dropping Id feature is : (1459, 79) \n"
     ]
    }
   ],
   "source": [
    "#check the numbers of samples and features\n",
    "print(\"The train data size before dropping Id feature is : {} \".format(train.shape))\n",
    "print(\"The test data size before dropping Id feature is : {} \".format(test.shape))\n",
    "\n",
    "#Save the 'Id' column\n",
    "train_ID = train['Id']\n",
    "test_ID = test['Id']\n",
    "\n",
    "#Now drop the  'Id' colum since it's unnecessary for  the prediction process.\n",
    "train.drop(\"Id\", axis = 1, inplace = True)\n",
    "test.drop(\"Id\", axis = 1, inplace = True)\n",
    "\n",
    "#check again the data size after dropping the 'Id' variable\n",
    "print(\"\\nThe train data size after dropping Id feature is : {} \".format(train.shape)) \n",
    "print(\"The test data size after dropping Id feature is : {} \".format(test.shape))"
   ]
  },
  {
   "cell_type": "code",
   "execution_count": 6,
   "id": "de77aff3",
   "metadata": {
    "execution": {
     "iopub.execute_input": "2022-08-08T00:46:08.098954Z",
     "iopub.status.busy": "2022-08-08T00:46:08.098449Z",
     "iopub.status.idle": "2022-08-08T00:46:08.392694Z",
     "shell.execute_reply": "2022-08-08T00:46:08.391381Z"
    },
    "papermill": {
     "duration": 0.319345,
     "end_time": "2022-08-08T00:46:08.395720",
     "exception": false,
     "start_time": "2022-08-08T00:46:08.076375",
     "status": "completed"
    },
    "tags": []
   },
   "outputs": [
    {
     "data": {
      "image/png": "[encoded data removed]",
      "text/plain": [
       "<Figure size 432x288 with 1 Axes>"
      ]
     },
     "metadata": {
      "needs_background": "light"
     },
     "output_type": "display_data"
    }
   ],
   "source": [
    "fig, ax = plt.subplots()\n",
    "ax.scatter(x = train['GrLivArea'], y = train['SalePrice'])\n",
    "plt.ylabel('SalePrice', fontsize=13)\n",
    "plt.xlabel('GrLivArea', fontsize=13)\n",
    "plt.show()"
   ]
  },
  {
   "cell_type": "code",
   "execution_count": 7,
   "id": "daaddeba",
   "metadata": {
    "execution": {
     "iopub.execute_input": "2022-08-08T00:46:08.437285Z",
     "iopub.status.busy": "2022-08-08T00:46:08.436561Z",
     "iopub.status.idle": "2022-08-08T00:46:08.663068Z",
     "shell.execute_reply": "2022-08-08T00:46:08.662013Z"
    },
    "papermill": {
     "duration": 0.250101,
     "end_time": "2022-08-08T00:46:08.665757",
     "exception": false,
     "start_time": "2022-08-08T00:46:08.415656",
     "status": "completed"
    },
    "tags": []
   },
   "outputs": [
    {
     "data": {
      "image/png": "[encoded data removed]",
      "text/plain": [
       "<Figure size 432x288 with 1 Axes>"
      ]
     },
     "metadata": {
      "needs_background": "light"
     },
     "output_type": "display_data"
    }
   ],
   "source": [
    "#Deleting outliers\n",
    "train = train.drop(train[(train['GrLivArea']>4000) & (train['SalePrice']<300000)].index)\n",
    "\n",
    "#Check the graphic again\n",
    "fig, ax = plt.subplots()\n",
    "ax.scatter(train['GrLivArea'], train['SalePrice'])\n",
    "plt.ylabel('SalePrice', fontsize=13)\n",
    "plt.xlabel('GrLivArea', fontsize=13)\n",
    "plt.show()"
   ]
  },
  {
   "cell_type": "code",
   "execution_count": 8,
   "id": "3150b174",
   "metadata": {
    "execution": {
     "iopub.execute_input": "2022-08-08T00:46:08.708057Z",
     "iopub.status.busy": "2022-08-08T00:46:08.707065Z",
     "iopub.status.idle": "2022-08-08T00:46:08.717627Z",
     "shell.execute_reply": "2022-08-08T00:46:08.716390Z"
    },
    "papermill": {
     "duration": 0.035277,
     "end_time": "2022-08-08T00:46:08.720224",
     "exception": false,
     "start_time": "2022-08-08T00:46:08.684947",
     "status": "completed"
    },
    "tags": []
   },
   "outputs": [
    {
     "data": {
      "text/plain": [
       "0       208500\n",
       "1       181500\n",
       "2       223500\n",
       "3       140000\n",
       "4       250000\n",
       "         ...  \n",
       "1455    175000\n",
       "1456    210000\n",
       "1457    266500\n",
       "1458    142125\n",
       "1459    147500\n",
       "Name: SalePrice, Length: 1458, dtype: int64"
      ]
     },
     "execution_count": 8,
     "metadata": {},
     "output_type": "execute_result"
    }
   ],
   "source": [
    "train['SalePrice']"
   ]
  },
  {
   "cell_type": "code",
   "execution_count": 9,
   "id": "7fa46438",
   "metadata": {
    "execution": {
     "iopub.execute_input": "2022-08-08T00:46:08.764138Z",
     "iopub.status.busy": "2022-08-08T00:46:08.762995Z",
     "iopub.status.idle": "2022-08-08T00:46:08.772140Z",
     "shell.execute_reply": "2022-08-08T00:46:08.770776Z"
    },
    "papermill": {
     "duration": 0.035185,
     "end_time": "2022-08-08T00:46:08.775770",
     "exception": false,
     "start_time": "2022-08-08T00:46:08.740585",
     "status": "completed"
    },
    "tags": []
   },
   "outputs": [
    {
     "data": {
      "text/plain": [
       "(180932.91906721535, 79467.78892987774)"
      ]
     },
     "execution_count": 9,
     "metadata": {},
     "output_type": "execute_result"
    }
   ],
   "source": [
    "norm.fit(train['SalePrice'])"
   ]
  },
  {
   "cell_type": "code",
   "execution_count": 10,
   "id": "590d5b3c",
   "metadata": {
    "execution": {
     "iopub.execute_input": "2022-08-08T00:46:08.817317Z",
     "iopub.status.busy": "2022-08-08T00:46:08.816492Z",
     "iopub.status.idle": "2022-08-08T00:46:09.618981Z",
     "shell.execute_reply": "2022-08-08T00:46:09.617467Z"
    },
    "papermill": {
     "duration": 0.826082,
     "end_time": "2022-08-08T00:46:09.621825",
     "exception": false,
     "start_time": "2022-08-08T00:46:08.795743",
     "status": "completed"
    },
    "tags": []
   },
   "outputs": [
    {
     "name": "stderr",
     "output_type": "stream",
     "text": [
      "/opt/conda/lib/python3.7/site-packages/seaborn/distributions.py:2619: FutureWarning: `distplot` is a deprecated function and will be removed in a future version. Please adapt your code to use either `displot` (a figure-level function with similar flexibility) or `histplot` (an axes-level function for histograms).\n",
      "  warnings.warn(msg, FutureWarning)\n"
     ]
    },
    {
     "name": "stdout",
     "output_type": "stream",
     "text": [
      "\n",
      " mu = 180932.92 and sigma = 79467.79\n",
      "\n"
     ]
    },
    {
     "data": {
      "image/png": "[encoded data removed]",
      "text/plain": [
       "<Figure size 432x288 with 1 Axes>"
      ]
     },
     "metadata": {
      "needs_background": "light"
     },
     "output_type": "display_data"
    },
    {
     "data": {
      "image/png": "[encoded data removed]",
      "text/plain": [
       "<Figure size 432x288 with 1 Axes>"
      ]
     },
     "metadata": {
      "needs_background": "light"
     },
     "output_type": "display_data"
    }
   ],
   "source": [
    "sns.distplot(train['SalePrice'] , fit=norm);\n",
    "\n",
    "# Get the fitted parameters used by the function\n",
    "(mu, sigma) = norm.fit(train['SalePrice'])\n",
    "print( '\\n mu = {:.2f} and sigma = {:.2f}\\n'.format(mu, sigma))\n",
    "\n",
    "#Now plot the distribution\n",
    "plt.legend(['Normal dist. ($\\mu=$ {:.2f} and $\\sigma=$ {:.2f} )'.format(mu, sigma)],\n",
    "            loc='best')\n",
    "plt.ylabel('Frequency')\n",
    "plt.title('SalePrice distribution')\n",
    "\n",
    "#Get also the QQ-plot\n",
    "fig = plt.figure()\n",
    "res = stats.probplot(train['SalePrice'], plot=plt)\n",
    "plt.show()"
   ]
  },
  {
   "cell_type": "code",
   "execution_count": 11,
   "id": "c15a8bba",
   "metadata": {
    "execution": {
     "iopub.execute_input": "2022-08-08T00:46:09.665008Z",
     "iopub.status.busy": "2022-08-08T00:46:09.664553Z",
     "iopub.status.idle": "2022-08-08T00:46:10.209122Z",
     "shell.execute_reply": "2022-08-08T00:46:10.207767Z"
    },
    "papermill": {
     "duration": 0.569384,
     "end_time": "2022-08-08T00:46:10.212388",
     "exception": false,
     "start_time": "2022-08-08T00:46:09.643004",
     "status": "completed"
    },
    "tags": []
   },
   "outputs": [
    {
     "name": "stderr",
     "output_type": "stream",
     "text": [
      "/opt/conda/lib/python3.7/site-packages/seaborn/distributions.py:2619: FutureWarning: `distplot` is a deprecated function and will be removed in a future version. Please adapt your code to use either `displot` (a figure-level function with similar flexibility) or `histplot` (an axes-level function for histograms).\n",
      "  warnings.warn(msg, FutureWarning)\n"
     ]
    },
    {
     "name": "stdout",
     "output_type": "stream",
     "text": [
      "\n",
      " mu = 12.02 and sigma = 0.40\n",
      "\n"
     ]
    },
    {
     "data": {
      "image/png": "[encoded data removed]",
      "text/plain": [
       "<Figure size 432x288 with 1 Axes>"
      ]
     },
     "metadata": {
      "needs_background": "light"
     },
     "output_type": "display_data"
    },
    {
     "data": {
      "image/png": "[encoded data removed]",
      "text/plain": [
       "<Figure size 432x288 with 1 Axes>"
      ]
     },
     "metadata": {
      "needs_background": "light"
     },
     "output_type": "display_data"
    }
   ],
   "source": [
    "#We use the numpy fuction log1p which  applies log(1+x) to all elements of the column\n",
    "train[\"SalePrice\"] = np.log1p(train[\"SalePrice\"])\n",
    "\n",
    "#Check the new distribution \n",
    "sns.distplot(train['SalePrice'] , fit=norm);\n",
    "\n",
    "# Get the fitted parameters used by the function\n",
    "(mu, sigma) = norm.fit(train['SalePrice'])\n",
    "print( '\\n mu = {:.2f} and sigma = {:.2f}\\n'.format(mu, sigma))\n",
    "\n",
    "#Now plot the distribution\n",
    "plt.legend(['Normal dist. ($\\mu=$ {:.2f} and $\\sigma=$ {:.2f} )'.format(mu, sigma)],\n",
    "            loc='best')\n",
    "plt.ylabel('Frequency')\n",
    "plt.title('SalePrice distribution')\n",
    "\n",
    "#Get also the QQ-plot\n",
    "fig = plt.figure()\n",
    "res = stats.probplot(train['SalePrice'], plot=plt)\n",
    "plt.show()"
   ]
  },
  {
   "cell_type": "code",
   "execution_count": 12,
   "id": "72eb971f",
   "metadata": {
    "execution": {
     "iopub.execute_input": "2022-08-08T00:46:10.264919Z",
     "iopub.status.busy": "2022-08-08T00:46:10.264446Z",
     "iopub.status.idle": "2022-08-08T00:46:10.303718Z",
     "shell.execute_reply": "2022-08-08T00:46:10.302544Z"
    },
    "papermill": {
     "duration": 0.070528,
     "end_time": "2022-08-08T00:46:10.306270",
     "exception": false,
     "start_time": "2022-08-08T00:46:10.235742",
     "status": "completed"
    },
    "tags": []
   },
   "outputs": [
    {
     "name": "stdout",
     "output_type": "stream",
     "text": [
      "all_data size is: (2917, 79)\n"
     ]
    }
   ],
   "source": [
    "ntrain = train.shape[0]\n",
    "ntest = test.shape[0]\n",
    "y_train = train.SalePrice.values\n",
    "all_data = pd.concat((train, test)).reset_index(drop=True)\n",
    "all_data.drop(['SalePrice'], axis=1, inplace=True)\n",
    "print('all_data size is: {}'.format(all_data.shape))"
   ]
  },
  {
   "cell_type": "code",
   "execution_count": 13,
   "id": "8f31c4e4",
   "metadata": {
    "execution": {
     "iopub.execute_input": "2022-08-08T00:46:10.351322Z",
     "iopub.status.busy": "2022-08-08T00:46:10.349648Z",
     "iopub.status.idle": "2022-08-08T00:46:10.374062Z",
     "shell.execute_reply": "2022-08-08T00:46:10.372757Z"
    },
    "papermill": {
     "duration": 0.050204,
     "end_time": "2022-08-08T00:46:10.376943",
     "exception": false,
     "start_time": "2022-08-08T00:46:10.326739",
     "status": "completed"
    },
    "tags": []
   },
   "outputs": [
    {
     "data": {
      "text/html": [
       "<div>\n",
       "<style scoped>\n",
       "    .dataframe tbody tr th:only-of-type {\n",
       "        vertical-align: middle;\n",
       "    }\n",
       "\n",
       "    .dataframe tbody tr th {\n",
       "        vertical-align: top;\n",
       "    }\n",
       "\n",
       "    .dataframe thead th {\n",
       "        text-align: right;\n",
       "    }\n",
       "</style>\n",
       "<table border=\"1\" class=\"dataframe\">\n",
       "  <thead>\n",
       "    <tr style=\"text-align: right;\">\n",
       "      <th></th>\n",
       "      <th>Missing Ratio</th>\n",
       "    </tr>\n",
       "  </thead>\n",
       "  <tbody>\n",
       "    <tr>\n",
       "      <th>PoolQC</th>\n",
       "      <td>99.691464</td>\n",
       "    </tr>\n",
       "    <tr>\n",
       "      <th>MiscFeature</th>\n",
       "      <td>96.400411</td>\n",
       "    </tr>\n",
       "    <tr>\n",
       "      <th>Alley</th>\n",
       "      <td>93.212204</td>\n",
       "    </tr>\n",
       "    <tr>\n",
       "      <th>Fence</th>\n",
       "      <td>80.425094</td>\n",
       "    </tr>\n",
       "    <tr>\n",
       "      <th>FireplaceQu</th>\n",
       "      <td>48.680151</td>\n",
       "    </tr>\n",
       "    <tr>\n",
       "      <th>LotFrontage</th>\n",
       "      <td>16.660953</td>\n",
       "    </tr>\n",
       "    <tr>\n",
       "      <th>GarageFinish</th>\n",
       "      <td>5.450806</td>\n",
       "    </tr>\n",
       "    <tr>\n",
       "      <th>GarageQual</th>\n",
       "      <td>5.450806</td>\n",
       "    </tr>\n",
       "    <tr>\n",
       "      <th>GarageCond</th>\n",
       "      <td>5.450806</td>\n",
       "    </tr>\n",
       "    <tr>\n",
       "      <th>GarageYrBlt</th>\n",
       "      <td>5.450806</td>\n",
       "    </tr>\n",
       "    <tr>\n",
       "      <th>GarageType</th>\n",
       "      <td>5.382242</td>\n",
       "    </tr>\n",
       "    <tr>\n",
       "      <th>BsmtExposure</th>\n",
       "      <td>2.811107</td>\n",
       "    </tr>\n",
       "    <tr>\n",
       "      <th>BsmtCond</th>\n",
       "      <td>2.811107</td>\n",
       "    </tr>\n",
       "    <tr>\n",
       "      <th>BsmtQual</th>\n",
       "      <td>2.776826</td>\n",
       "    </tr>\n",
       "    <tr>\n",
       "      <th>BsmtFinType2</th>\n",
       "      <td>2.742544</td>\n",
       "    </tr>\n",
       "    <tr>\n",
       "      <th>BsmtFinType1</th>\n",
       "      <td>2.708262</td>\n",
       "    </tr>\n",
       "    <tr>\n",
       "      <th>MasVnrType</th>\n",
       "      <td>0.822763</td>\n",
       "    </tr>\n",
       "    <tr>\n",
       "      <th>MasVnrArea</th>\n",
       "      <td>0.788481</td>\n",
       "    </tr>\n",
       "    <tr>\n",
       "      <th>MSZoning</th>\n",
       "      <td>0.137127</td>\n",
       "    </tr>\n",
       "    <tr>\n",
       "      <th>BsmtFullBath</th>\n",
       "      <td>0.068564</td>\n",
       "    </tr>\n",
       "  </tbody>\n",
       "</table>\n",
       "</div>"
      ],
      "text/plain": [
       "              Missing Ratio\n",
       "PoolQC            99.691464\n",
       "MiscFeature       96.400411\n",
       "Alley             93.212204\n",
       "Fence             80.425094\n",
       "FireplaceQu       48.680151\n",
       "LotFrontage       16.660953\n",
       "GarageFinish       5.450806\n",
       "GarageQual         5.450806\n",
       "GarageCond         5.450806\n",
       "GarageYrBlt        5.450806\n",
       "GarageType         5.382242\n",
       "BsmtExposure       2.811107\n",
       "BsmtCond           2.811107\n",
       "BsmtQual           2.776826\n",
       "BsmtFinType2       2.742544\n",
       "BsmtFinType1       2.708262\n",
       "MasVnrType         0.822763\n",
       "MasVnrArea         0.788481\n",
       "MSZoning           0.137127\n",
       "BsmtFullBath       0.068564"
      ]
     },
     "execution_count": 13,
     "metadata": {},
     "output_type": "execute_result"
    }
   ],
   "source": [
    "all_data_na = (all_data.isnull().sum() / len(all_data)) * 100\n",
    "all_data_na = all_data_na.drop(all_data_na[all_data_na == 0].index).sort_values(ascending=False)[:30]\n",
    "missing_data = pd.DataFrame({'Missing Ratio' :all_data_na})\n",
    "missing_data.head(20)"
   ]
  },
  {
   "cell_type": "code",
   "execution_count": 14,
   "id": "752f547b",
   "metadata": {
    "execution": {
     "iopub.execute_input": "2022-08-08T00:46:10.425681Z",
     "iopub.status.busy": "2022-08-08T00:46:10.424618Z",
     "iopub.status.idle": "2022-08-08T00:46:10.906538Z",
     "shell.execute_reply": "2022-08-08T00:46:10.905055Z"
    },
    "papermill": {
     "duration": 0.511734,
     "end_time": "2022-08-08T00:46:10.909225",
     "exception": false,
     "start_time": "2022-08-08T00:46:10.397491",
     "status": "completed"
    },
    "tags": []
   },
   "outputs": [
    {
     "data": {
      "text/plain": [
       "Text(0.5, 1.0, 'Percent Missing Data by Feature')"
      ]
     },
     "execution_count": 14,
     "metadata": {},
     "output_type": "execute_result"
    },
    {
     "data": {
      "image/png": "[encoded data removed]",
      "text/plain": [
       "<Figure size 1080x864 with 1 Axes>"
      ]
     },
     "metadata": {
      "needs_background": "light"
     },
     "output_type": "display_data"
    }
   ],
   "source": [
    "f, ax = plt.subplots(figsize=(15, 12))\n",
    "plt.xticks(rotation='90')\n",
    "sns.barplot(x=all_data_na.index, y=all_data_na)\n",
    "plt.xlabel('Features', fontsize=15)\n",
    "plt.ylabel('Percent of missing values', fontsize=15)\n",
    "plt.title('Percent Missing Data by Feature', fontsize=15)"
   ]
  },
  {
   "cell_type": "code",
   "execution_count": 15,
   "id": "be0526d8",
   "metadata": {
    "execution": {
     "iopub.execute_input": "2022-08-08T00:46:10.956858Z",
     "iopub.status.busy": "2022-08-08T00:46:10.956393Z",
     "iopub.status.idle": "2022-08-08T00:46:11.951584Z",
     "shell.execute_reply": "2022-08-08T00:46:11.950188Z"
    },
    "papermill": {
     "duration": 1.02267,
     "end_time": "2022-08-08T00:46:11.954743",
     "exception": false,
     "start_time": "2022-08-08T00:46:10.932073",
     "status": "completed"
    },
    "tags": []
   },
   "outputs": [
    {
     "data": {
      "text/plain": [
       "<AxesSubplot:>"
      ]
     },
     "execution_count": 15,
     "metadata": {},
     "output_type": "execute_result"
    },
    {
     "data": {
      "image/png": "[encoded data removed]",
      "text/plain": [
       "<Figure size 864x648 with 2 Axes>"
      ]
     },
     "metadata": {
      "needs_background": "light"
     },
     "output_type": "display_data"
    }
   ],
   "source": [
    "corrmat = train.corr()\n",
    "plt.subplots(figsize=(12, 9))\n",
    "sns.heatmap(corrmat, vmax=0.9, square=True)"
   ]
  },
  {
   "cell_type": "code",
   "execution_count": 16,
   "id": "ccda1afc",
   "metadata": {
    "execution": {
     "iopub.execute_input": "2022-08-08T00:46:12.007793Z",
     "iopub.status.busy": "2022-08-08T00:46:12.007330Z",
     "iopub.status.idle": "2022-08-08T00:46:12.014187Z",
     "shell.execute_reply": "2022-08-08T00:46:12.012533Z"
    },
    "papermill": {
     "duration": 0.036581,
     "end_time": "2022-08-08T00:46:12.016910",
     "exception": false,
     "start_time": "2022-08-08T00:46:11.980329",
     "status": "completed"
    },
    "tags": []
   },
   "outputs": [],
   "source": [
    "all_data['PoolQC'] = all_data['PoolQC'].fillna('None')"
   ]
  },
  {
   "cell_type": "code",
   "execution_count": 17,
   "id": "183899d3",
   "metadata": {
    "execution": {
     "iopub.execute_input": "2022-08-08T00:46:12.071725Z",
     "iopub.status.busy": "2022-08-08T00:46:12.070917Z",
     "iopub.status.idle": "2022-08-08T00:46:12.078171Z",
     "shell.execute_reply": "2022-08-08T00:46:12.077120Z"
    },
    "papermill": {
     "duration": 0.03828,
     "end_time": "2022-08-08T00:46:12.080851",
     "exception": false,
     "start_time": "2022-08-08T00:46:12.042571",
     "status": "completed"
    },
    "tags": []
   },
   "outputs": [],
   "source": [
    "all_data['MiscFeature'] = all_data['MiscFeature'].fillna('None')"
   ]
  },
  {
   "cell_type": "code",
   "execution_count": 18,
   "id": "7c2c6cd3",
   "metadata": {
    "execution": {
     "iopub.execute_input": "2022-08-08T00:46:12.129760Z",
     "iopub.status.busy": "2022-08-08T00:46:12.129057Z",
     "iopub.status.idle": "2022-08-08T00:46:12.135996Z",
     "shell.execute_reply": "2022-08-08T00:46:12.134829Z"
    },
    "papermill": {
     "duration": 0.034544,
     "end_time": "2022-08-08T00:46:12.139545",
     "exception": false,
     "start_time": "2022-08-08T00:46:12.105001",
     "status": "completed"
    },
    "tags": []
   },
   "outputs": [],
   "source": [
    "all_data['Alley'] = all_data['Alley'].fillna('None')"
   ]
  },
  {
   "cell_type": "code",
   "execution_count": 19,
   "id": "3f37d7ce",
   "metadata": {
    "execution": {
     "iopub.execute_input": "2022-08-08T00:46:12.190099Z",
     "iopub.status.busy": "2022-08-08T00:46:12.189306Z",
     "iopub.status.idle": "2022-08-08T00:46:12.197053Z",
     "shell.execute_reply": "2022-08-08T00:46:12.196037Z"
    },
    "papermill": {
     "duration": 0.036901,
     "end_time": "2022-08-08T00:46:12.199724",
     "exception": false,
     "start_time": "2022-08-08T00:46:12.162823",
     "status": "completed"
    },
    "tags": []
   },
   "outputs": [],
   "source": [
    "all_data['Fence'] = all_data['Fence'].fillna('None')"
   ]
  },
  {
   "cell_type": "code",
   "execution_count": 20,
   "id": "58f8253d",
   "metadata": {
    "execution": {
     "iopub.execute_input": "2022-08-08T00:46:12.247908Z",
     "iopub.status.busy": "2022-08-08T00:46:12.247449Z",
     "iopub.status.idle": "2022-08-08T00:46:12.256051Z",
     "shell.execute_reply": "2022-08-08T00:46:12.254268Z"
    },
    "papermill": {
     "duration": 0.036034,
     "end_time": "2022-08-08T00:46:12.259003",
     "exception": false,
     "start_time": "2022-08-08T00:46:12.222969",
     "status": "completed"
    },
    "tags": []
   },
   "outputs": [],
   "source": [
    "all_data['FireplaceQu'] = all_data['FireplaceQu'].fillna('None')"
   ]
  },
  {
   "cell_type": "code",
   "execution_count": 21,
   "id": "dfbcd08b",
   "metadata": {
    "execution": {
     "iopub.execute_input": "2022-08-08T00:46:12.308564Z",
     "iopub.status.busy": "2022-08-08T00:46:12.307448Z",
     "iopub.status.idle": "2022-08-08T00:46:12.332946Z",
     "shell.execute_reply": "2022-08-08T00:46:12.331204Z"
    },
    "papermill": {
     "duration": 0.054501,
     "end_time": "2022-08-08T00:46:12.335968",
     "exception": false,
     "start_time": "2022-08-08T00:46:12.281467",
     "status": "completed"
    },
    "tags": []
   },
   "outputs": [],
   "source": [
    "all_data['LotFrontage'] = all_data.groupby(\"Neighborhood\")['LotFrontage'].transform(lambda x: x.fillna(x.median()))"
   ]
  },
  {
   "cell_type": "code",
   "execution_count": 22,
   "id": "f59ed2d0",
   "metadata": {
    "execution": {
     "iopub.execute_input": "2022-08-08T00:46:12.384111Z",
     "iopub.status.busy": "2022-08-08T00:46:12.383463Z",
     "iopub.status.idle": "2022-08-08T00:46:12.393131Z",
     "shell.execute_reply": "2022-08-08T00:46:12.392155Z"
    },
    "papermill": {
     "duration": 0.03646,
     "end_time": "2022-08-08T00:46:12.395509",
     "exception": false,
     "start_time": "2022-08-08T00:46:12.359049",
     "status": "completed"
    },
    "tags": []
   },
   "outputs": [],
   "source": [
    "for col in ('GarageType', 'GarageFinish', 'GarageQual', 'GarageCond'):\n",
    "    all_data[col] = all_data[col].fillna('None')"
   ]
  },
  {
   "cell_type": "code",
   "execution_count": 23,
   "id": "acb9dac9",
   "metadata": {
    "execution": {
     "iopub.execute_input": "2022-08-08T00:46:12.443204Z",
     "iopub.status.busy": "2022-08-08T00:46:12.442215Z",
     "iopub.status.idle": "2022-08-08T00:46:12.449946Z",
     "shell.execute_reply": "2022-08-08T00:46:12.448885Z"
    },
    "papermill": {
     "duration": 0.033877,
     "end_time": "2022-08-08T00:46:12.452436",
     "exception": false,
     "start_time": "2022-08-08T00:46:12.418559",
     "status": "completed"
    },
    "tags": []
   },
   "outputs": [],
   "source": [
    "for col in ('GarageYrBlt', 'GarageArea', 'GarageCars'):\n",
    "    all_data[col] = all_data[col].fillna(0)"
   ]
  },
  {
   "cell_type": "code",
   "execution_count": 24,
   "id": "f5b57168",
   "metadata": {
    "execution": {
     "iopub.execute_input": "2022-08-08T00:46:12.500549Z",
     "iopub.status.busy": "2022-08-08T00:46:12.499389Z",
     "iopub.status.idle": "2022-08-08T00:46:12.509181Z",
     "shell.execute_reply": "2022-08-08T00:46:12.507815Z"
    },
    "papermill": {
     "duration": 0.037443,
     "end_time": "2022-08-08T00:46:12.512105",
     "exception": false,
     "start_time": "2022-08-08T00:46:12.474662",
     "status": "completed"
    },
    "tags": []
   },
   "outputs": [],
   "source": [
    "for col in ('BsmtFinSF1', 'BsmtFinSF2', 'BsmtUnfSF','TotalBsmtSF', 'BsmtFullBath', 'BsmtHalfBath'):\n",
    "    all_data[col] = all_data[col].fillna(0)"
   ]
  },
  {
   "cell_type": "code",
   "execution_count": 25,
   "id": "786bcfc9",
   "metadata": {
    "execution": {
     "iopub.execute_input": "2022-08-08T00:46:12.561293Z",
     "iopub.status.busy": "2022-08-08T00:46:12.560619Z",
     "iopub.status.idle": "2022-08-08T00:46:12.569217Z",
     "shell.execute_reply": "2022-08-08T00:46:12.568250Z"
    },
    "papermill": {
     "duration": 0.036014,
     "end_time": "2022-08-08T00:46:12.571665",
     "exception": false,
     "start_time": "2022-08-08T00:46:12.535651",
     "status": "completed"
    },
    "tags": []
   },
   "outputs": [],
   "source": [
    "for col in ('BsmtQual', 'BsmtCond', 'BsmtExposure', 'BsmtFinType1', 'BsmtFinType2'):\n",
    "    all_data[col] = all_data[col].fillna('None')"
   ]
  },
  {
   "cell_type": "code",
   "execution_count": 26,
   "id": "4ad8898d",
   "metadata": {
    "execution": {
     "iopub.execute_input": "2022-08-08T00:46:12.619475Z",
     "iopub.status.busy": "2022-08-08T00:46:12.618828Z",
     "iopub.status.idle": "2022-08-08T00:46:12.626218Z",
     "shell.execute_reply": "2022-08-08T00:46:12.625136Z"
    },
    "papermill": {
     "duration": 0.03471,
     "end_time": "2022-08-08T00:46:12.628726",
     "exception": false,
     "start_time": "2022-08-08T00:46:12.594016",
     "status": "completed"
    },
    "tags": []
   },
   "outputs": [],
   "source": [
    "all_data[\"MasVnrType\"] = all_data[\"MasVnrType\"].fillna(\"None\")\n",
    "all_data[\"MasVnrArea\"] = all_data[\"MasVnrArea\"].fillna(0)"
   ]
  },
  {
   "cell_type": "code",
   "execution_count": 27,
   "id": "2dc5ebcc",
   "metadata": {
    "execution": {
     "iopub.execute_input": "2022-08-08T00:46:12.676835Z",
     "iopub.status.busy": "2022-08-08T00:46:12.676192Z",
     "iopub.status.idle": "2022-08-08T00:46:12.683028Z",
     "shell.execute_reply": "2022-08-08T00:46:12.682116Z"
    },
    "papermill": {
     "duration": 0.03344,
     "end_time": "2022-08-08T00:46:12.685550",
     "exception": false,
     "start_time": "2022-08-08T00:46:12.652110",
     "status": "completed"
    },
    "tags": []
   },
   "outputs": [],
   "source": [
    "all_data['MSZoning'] = all_data['MSZoning'].fillna(all_data['MSZoning'].mode()[0])"
   ]
  },
  {
   "cell_type": "code",
   "execution_count": 28,
   "id": "adb1d313",
   "metadata": {
    "execution": {
     "iopub.execute_input": "2022-08-08T00:46:12.733407Z",
     "iopub.status.busy": "2022-08-08T00:46:12.732717Z",
     "iopub.status.idle": "2022-08-08T00:46:12.740796Z",
     "shell.execute_reply": "2022-08-08T00:46:12.739862Z"
    },
    "papermill": {
     "duration": 0.035673,
     "end_time": "2022-08-08T00:46:12.743375",
     "exception": false,
     "start_time": "2022-08-08T00:46:12.707702",
     "status": "completed"
    },
    "tags": []
   },
   "outputs": [],
   "source": [
    "all_data = all_data.drop(['Utilities'], axis=1)"
   ]
  },
  {
   "cell_type": "code",
   "execution_count": 29,
   "id": "6f76f53c",
   "metadata": {
    "execution": {
     "iopub.execute_input": "2022-08-08T00:46:12.790593Z",
     "iopub.status.busy": "2022-08-08T00:46:12.789969Z",
     "iopub.status.idle": "2022-08-08T00:46:12.796703Z",
     "shell.execute_reply": "2022-08-08T00:46:12.795185Z"
    },
    "papermill": {
     "duration": 0.033692,
     "end_time": "2022-08-08T00:46:12.799742",
     "exception": false,
     "start_time": "2022-08-08T00:46:12.766050",
     "status": "completed"
    },
    "tags": []
   },
   "outputs": [],
   "source": [
    "all_data[\"Functional\"] = all_data[\"Functional\"].fillna(\"Typ\")"
   ]
  },
  {
   "cell_type": "code",
   "execution_count": 30,
   "id": "e2bb6bce",
   "metadata": {
    "execution": {
     "iopub.execute_input": "2022-08-08T00:46:12.850333Z",
     "iopub.status.busy": "2022-08-08T00:46:12.849354Z",
     "iopub.status.idle": "2022-08-08T00:46:12.857929Z",
     "shell.execute_reply": "2022-08-08T00:46:12.856795Z"
    },
    "papermill": {
     "duration": 0.037685,
     "end_time": "2022-08-08T00:46:12.860527",
     "exception": false,
     "start_time": "2022-08-08T00:46:12.822842",
     "status": "completed"
    },
    "tags": []
   },
   "outputs": [],
   "source": [
    "all_data['Electrical'] = all_data['Electrical'].fillna(all_data['Electrical'].mode()[0])"
   ]
  },
  {
   "cell_type": "code",
   "execution_count": 31,
   "id": "985a9fee",
   "metadata": {
    "execution": {
     "iopub.execute_input": "2022-08-08T00:46:12.908729Z",
     "iopub.status.busy": "2022-08-08T00:46:12.907962Z",
     "iopub.status.idle": "2022-08-08T00:46:12.915260Z",
     "shell.execute_reply": "2022-08-08T00:46:12.913921Z"
    },
    "papermill": {
     "duration": 0.034356,
     "end_time": "2022-08-08T00:46:12.917876",
     "exception": false,
     "start_time": "2022-08-08T00:46:12.883520",
     "status": "completed"
    },
    "tags": []
   },
   "outputs": [],
   "source": [
    "all_data['KitchenQual'] = all_data['KitchenQual'].fillna(all_data['KitchenQual'].mode()[0])"
   ]
  },
  {
   "cell_type": "code",
   "execution_count": 32,
   "id": "a906754a",
   "metadata": {
    "execution": {
     "iopub.execute_input": "2022-08-08T00:46:12.966051Z",
     "iopub.status.busy": "2022-08-08T00:46:12.965633Z",
     "iopub.status.idle": "2022-08-08T00:46:12.974332Z",
     "shell.execute_reply": "2022-08-08T00:46:12.973275Z"
    },
    "papermill": {
     "duration": 0.036585,
     "end_time": "2022-08-08T00:46:12.977269",
     "exception": false,
     "start_time": "2022-08-08T00:46:12.940684",
     "status": "completed"
    },
    "tags": []
   },
   "outputs": [],
   "source": [
    "all_data['Exterior1st'] = all_data['Exterior1st'].fillna(all_data['Exterior1st'].mode()[0])\n",
    "all_data['Exterior2nd'] = all_data['Exterior2nd'].fillna(all_data['Exterior2nd'].mode()[0])"
   ]
  },
  {
   "cell_type": "code",
   "execution_count": 33,
   "id": "4c57b6ea",
   "metadata": {
    "execution": {
     "iopub.execute_input": "2022-08-08T00:46:13.026181Z",
     "iopub.status.busy": "2022-08-08T00:46:13.024848Z",
     "iopub.status.idle": "2022-08-08T00:46:13.033391Z",
     "shell.execute_reply": "2022-08-08T00:46:13.032106Z"
    },
    "papermill": {
     "duration": 0.036162,
     "end_time": "2022-08-08T00:46:13.036663",
     "exception": false,
     "start_time": "2022-08-08T00:46:13.000501",
     "status": "completed"
    },
    "tags": []
   },
   "outputs": [],
   "source": [
    "all_data['SaleType'] = all_data['SaleType'].fillna(all_data['SaleType'].mode()[0])"
   ]
  },
  {
   "cell_type": "code",
   "execution_count": 34,
   "id": "123d9be7",
   "metadata": {
    "execution": {
     "iopub.execute_input": "2022-08-08T00:46:13.086947Z",
     "iopub.status.busy": "2022-08-08T00:46:13.085611Z",
     "iopub.status.idle": "2022-08-08T00:46:13.092306Z",
     "shell.execute_reply": "2022-08-08T00:46:13.091248Z"
    },
    "papermill": {
     "duration": 0.034181,
     "end_time": "2022-08-08T00:46:13.094658",
     "exception": false,
     "start_time": "2022-08-08T00:46:13.060477",
     "status": "completed"
    },
    "tags": []
   },
   "outputs": [],
   "source": [
    "all_data['MSSubClass'] = all_data['MSSubClass'].fillna(\"None\")"
   ]
  },
  {
   "cell_type": "code",
   "execution_count": 35,
   "id": "f6bbe378",
   "metadata": {
    "execution": {
     "iopub.execute_input": "2022-08-08T00:46:13.144735Z",
     "iopub.status.busy": "2022-08-08T00:46:13.143912Z",
     "iopub.status.idle": "2022-08-08T00:46:13.164258Z",
     "shell.execute_reply": "2022-08-08T00:46:13.163213Z"
    },
    "papermill": {
     "duration": 0.048353,
     "end_time": "2022-08-08T00:46:13.167035",
     "exception": false,
     "start_time": "2022-08-08T00:46:13.118682",
     "status": "completed"
    },
    "tags": []
   },
   "outputs": [
    {
     "data": {
      "text/html": [
       "<div>\n",
       "<style scoped>\n",
       "    .dataframe tbody tr th:only-of-type {\n",
       "        vertical-align: middle;\n",
       "    }\n",
       "\n",
       "    .dataframe tbody tr th {\n",
       "        vertical-align: top;\n",
       "    }\n",
       "\n",
       "    .dataframe thead th {\n",
       "        text-align: right;\n",
       "    }\n",
       "</style>\n",
       "<table border=\"1\" class=\"dataframe\">\n",
       "  <thead>\n",
       "    <tr style=\"text-align: right;\">\n",
       "      <th></th>\n",
       "      <th>Missing Ratio</th>\n",
       "    </tr>\n",
       "  </thead>\n",
       "  <tbody>\n",
       "  </tbody>\n",
       "</table>\n",
       "</div>"
      ],
      "text/plain": [
       "Empty DataFrame\n",
       "Columns: [Missing Ratio]\n",
       "Index: []"
      ]
     },
     "execution_count": 35,
     "metadata": {},
     "output_type": "execute_result"
    }
   ],
   "source": [
    "all_data_na = (all_data.isnull().sum() / len(all_data)) * 100\n",
    "all_data_na = all_data_na.drop(all_data_na[all_data_na == 0].index).sort_values(ascending=False)\n",
    "missing_data = pd.DataFrame({'Missing Ratio' :all_data_na})\n",
    "missing_data.head()"
   ]
  },
  {
   "cell_type": "code",
   "execution_count": 36,
   "id": "3f4fa433",
   "metadata": {
    "execution": {
     "iopub.execute_input": "2022-08-08T00:46:13.216110Z",
     "iopub.status.busy": "2022-08-08T00:46:13.215362Z",
     "iopub.status.idle": "2022-08-08T00:46:13.222949Z",
     "shell.execute_reply": "2022-08-08T00:46:13.221860Z"
    },
    "papermill": {
     "duration": 0.034701,
     "end_time": "2022-08-08T00:46:13.225425",
     "exception": false,
     "start_time": "2022-08-08T00:46:13.190724",
     "status": "completed"
    },
    "tags": []
   },
   "outputs": [],
   "source": [
    "all_data['MSSubClass'] = all_data['MSSubClass'].apply(str)"
   ]
  },
  {
   "cell_type": "code",
   "execution_count": 37,
   "id": "bce8bead",
   "metadata": {
    "execution": {
     "iopub.execute_input": "2022-08-08T00:46:13.273094Z",
     "iopub.status.busy": "2022-08-08T00:46:13.272537Z",
     "iopub.status.idle": "2022-08-08T00:46:13.280116Z",
     "shell.execute_reply": "2022-08-08T00:46:13.279039Z"
    },
    "papermill": {
     "duration": 0.033504,
     "end_time": "2022-08-08T00:46:13.282287",
     "exception": false,
     "start_time": "2022-08-08T00:46:13.248783",
     "status": "completed"
    },
    "tags": []
   },
   "outputs": [],
   "source": [
    "all_data['OverallCond'] = all_data['OverallCond'].astype(str)"
   ]
  },
  {
   "cell_type": "code",
   "execution_count": 38,
   "id": "0f660156",
   "metadata": {
    "execution": {
     "iopub.execute_input": "2022-08-08T00:46:13.331085Z",
     "iopub.status.busy": "2022-08-08T00:46:13.330384Z",
     "iopub.status.idle": "2022-08-08T00:46:13.340858Z",
     "shell.execute_reply": "2022-08-08T00:46:13.339179Z"
    },
    "papermill": {
     "duration": 0.03729,
     "end_time": "2022-08-08T00:46:13.343616",
     "exception": false,
     "start_time": "2022-08-08T00:46:13.306326",
     "status": "completed"
    },
    "tags": []
   },
   "outputs": [],
   "source": [
    "all_data['YrSold'] = all_data['YrSold'].astype(str)\n",
    "all_data['MoSold'] = all_data['MoSold'].astype(str)"
   ]
  },
  {
   "cell_type": "code",
   "execution_count": 39,
   "id": "2fc6af4d",
   "metadata": {
    "execution": {
     "iopub.execute_input": "2022-08-08T00:46:13.390964Z",
     "iopub.status.busy": "2022-08-08T00:46:13.390547Z",
     "iopub.status.idle": "2022-08-08T00:46:13.772444Z",
     "shell.execute_reply": "2022-08-08T00:46:13.770909Z"
    },
    "papermill": {
     "duration": 0.409327,
     "end_time": "2022-08-08T00:46:13.776006",
     "exception": false,
     "start_time": "2022-08-08T00:46:13.366679",
     "status": "completed"
    },
    "tags": []
   },
   "outputs": [
    {
     "name": "stdout",
     "output_type": "stream",
     "text": [
      "Shape all_data: (2917, 78)\n"
     ]
    }
   ],
   "source": [
    "from sklearn.preprocessing import LabelEncoder\n",
    "\n",
    "cols = ('FireplaceQu', 'BsmtQual', 'BsmtCond', 'GarageQual', 'GarageCond', \n",
    "        'ExterQual', 'ExterCond','HeatingQC', 'PoolQC', 'KitchenQual', 'BsmtFinType1', \n",
    "        'BsmtFinType2', 'Functional', 'Fence', 'BsmtExposure', 'GarageFinish', 'LandSlope',\n",
    "        'LotShape', 'PavedDrive', 'Street', 'Alley', 'CentralAir', 'MSSubClass', 'OverallCond', \n",
    "        'YrSold', 'MoSold')\n",
    "\n",
    "for c in cols:\n",
    "    lbl = LabelEncoder()\n",
    "    lbl.fit(list(all_data[c].values))\n",
    "    all_data[c] = lbl.transform(list(all_data[c].values))\n",
    "\n",
    "print(f\"Shape all_data: {all_data.shape}\")"
   ]
  },
  {
   "cell_type": "code",
   "execution_count": 40,
   "id": "7e6b1e33",
   "metadata": {
    "execution": {
     "iopub.execute_input": "2022-08-08T00:46:13.824043Z",
     "iopub.status.busy": "2022-08-08T00:46:13.823082Z",
     "iopub.status.idle": "2022-08-08T00:46:13.830053Z",
     "shell.execute_reply": "2022-08-08T00:46:13.828838Z"
    },
    "papermill": {
     "duration": 0.033544,
     "end_time": "2022-08-08T00:46:13.832265",
     "exception": false,
     "start_time": "2022-08-08T00:46:13.798721",
     "status": "completed"
    },
    "tags": []
   },
   "outputs": [],
   "source": [
    "all_data['TotalSF'] = all_data['TotalBsmtSF'] + all_data['1stFlrSF'] + all_data['2ndFlrSF']"
   ]
  },
  {
   "cell_type": "code",
   "execution_count": 41,
   "id": "da00a601",
   "metadata": {
    "execution": {
     "iopub.execute_input": "2022-08-08T00:46:13.880252Z",
     "iopub.status.busy": "2022-08-08T00:46:13.879221Z",
     "iopub.status.idle": "2022-08-08T00:46:13.914207Z",
     "shell.execute_reply": "2022-08-08T00:46:13.912883Z"
    },
    "papermill": {
     "duration": 0.062171,
     "end_time": "2022-08-08T00:46:13.916735",
     "exception": false,
     "start_time": "2022-08-08T00:46:13.854564",
     "status": "completed"
    },
    "tags": []
   },
   "outputs": [
    {
     "name": "stdout",
     "output_type": "stream",
     "text": [
      "\n",
      "Skew in numeric features\n",
      "\n"
     ]
    },
    {
     "data": {
      "text/html": [
       "<div>\n",
       "<style scoped>\n",
       "    .dataframe tbody tr th:only-of-type {\n",
       "        vertical-align: middle;\n",
       "    }\n",
       "\n",
       "    .dataframe tbody tr th {\n",
       "        vertical-align: top;\n",
       "    }\n",
       "\n",
       "    .dataframe thead th {\n",
       "        text-align: right;\n",
       "    }\n",
       "</style>\n",
       "<table border=\"1\" class=\"dataframe\">\n",
       "  <thead>\n",
       "    <tr style=\"text-align: right;\">\n",
       "      <th></th>\n",
       "      <th>Skew</th>\n",
       "    </tr>\n",
       "  </thead>\n",
       "  <tbody>\n",
       "    <tr>\n",
       "      <th>MiscVal</th>\n",
       "      <td>21.939672</td>\n",
       "    </tr>\n",
       "    <tr>\n",
       "      <th>PoolArea</th>\n",
       "      <td>17.688664</td>\n",
       "    </tr>\n",
       "    <tr>\n",
       "      <th>LotArea</th>\n",
       "      <td>13.109495</td>\n",
       "    </tr>\n",
       "    <tr>\n",
       "      <th>LowQualFinSF</th>\n",
       "      <td>12.084539</td>\n",
       "    </tr>\n",
       "    <tr>\n",
       "      <th>3SsnPorch</th>\n",
       "      <td>11.372080</td>\n",
       "    </tr>\n",
       "    <tr>\n",
       "      <th>LandSlope</th>\n",
       "      <td>4.973254</td>\n",
       "    </tr>\n",
       "    <tr>\n",
       "      <th>KitchenAbvGr</th>\n",
       "      <td>4.300550</td>\n",
       "    </tr>\n",
       "    <tr>\n",
       "      <th>BsmtFinSF2</th>\n",
       "      <td>4.144503</td>\n",
       "    </tr>\n",
       "    <tr>\n",
       "      <th>EnclosedPorch</th>\n",
       "      <td>4.002344</td>\n",
       "    </tr>\n",
       "    <tr>\n",
       "      <th>ScreenPorch</th>\n",
       "      <td>3.945101</td>\n",
       "    </tr>\n",
       "  </tbody>\n",
       "</table>\n",
       "</div>"
      ],
      "text/plain": [
       "                    Skew\n",
       "MiscVal        21.939672\n",
       "PoolArea       17.688664\n",
       "LotArea        13.109495\n",
       "LowQualFinSF   12.084539\n",
       "3SsnPorch      11.372080\n",
       "LandSlope       4.973254\n",
       "KitchenAbvGr    4.300550\n",
       "BsmtFinSF2      4.144503\n",
       "EnclosedPorch   4.002344\n",
       "ScreenPorch     3.945101"
      ]
     },
     "execution_count": 41,
     "metadata": {},
     "output_type": "execute_result"
    }
   ],
   "source": [
    "numeric_feats = all_data.dtypes[all_data.dtypes != 'object'].index\n",
    "\n",
    "skewed_feats = all_data[numeric_feats].apply(lambda x: skew(x.dropna())).sort_values(ascending=False)\n",
    "print(f\"\\nSkew in numeric features\\n\")\n",
    "skewness = pd.DataFrame({'Skew': skewed_feats})\n",
    "skewness.head(10)"
   ]
  },
  {
   "cell_type": "code",
   "execution_count": 42,
   "id": "fbd7d1a2",
   "metadata": {
    "execution": {
     "iopub.execute_input": "2022-08-08T00:46:13.965880Z",
     "iopub.status.busy": "2022-08-08T00:46:13.965089Z",
     "iopub.status.idle": "2022-08-08T00:46:13.971160Z",
     "shell.execute_reply": "2022-08-08T00:46:13.970110Z"
    },
    "papermill": {
     "duration": 0.033568,
     "end_time": "2022-08-08T00:46:13.973615",
     "exception": false,
     "start_time": "2022-08-08T00:46:13.940047",
     "status": "completed"
    },
    "tags": []
   },
   "outputs": [],
   "source": [
    "skewness = skewness[abs(skewness) > 0.75]"
   ]
  },
  {
   "cell_type": "code",
   "execution_count": 43,
   "id": "faec2ac7",
   "metadata": {
    "execution": {
     "iopub.execute_input": "2022-08-08T00:46:14.022084Z",
     "iopub.status.busy": "2022-08-08T00:46:14.021647Z",
     "iopub.status.idle": "2022-08-08T00:46:14.029470Z",
     "shell.execute_reply": "2022-08-08T00:46:14.027013Z"
    },
    "papermill": {
     "duration": 0.035772,
     "end_time": "2022-08-08T00:46:14.032278",
     "exception": false,
     "start_time": "2022-08-08T00:46:13.996506",
     "status": "completed"
    },
    "tags": []
   },
   "outputs": [
    {
     "name": "stdout",
     "output_type": "stream",
     "text": [
      "There are 59 skewed numerical features to Box Cox transform\n"
     ]
    }
   ],
   "source": [
    "print(\"There are {} skewed numerical features to Box Cox transform\".format(skewness.shape[0]))"
   ]
  },
  {
   "cell_type": "code",
   "execution_count": 44,
   "id": "bc271fc3",
   "metadata": {
    "execution": {
     "iopub.execute_input": "2022-08-08T00:46:14.082148Z",
     "iopub.status.busy": "2022-08-08T00:46:14.081180Z",
     "iopub.status.idle": "2022-08-08T00:46:14.120851Z",
     "shell.execute_reply": "2022-08-08T00:46:14.119554Z"
    },
    "papermill": {
     "duration": 0.068467,
     "end_time": "2022-08-08T00:46:14.124020",
     "exception": false,
     "start_time": "2022-08-08T00:46:14.055553",
     "status": "completed"
    },
    "tags": []
   },
   "outputs": [],
   "source": [
    "from scipy.special import boxcox1p\n",
    "skewed_features = skewness.index\n",
    "lam = 0.15\n",
    "\n",
    "for feat in skewed_features:\n",
    "    all_data[feat] = boxcox1p(all_data[feat], lam)"
   ]
  },
  {
   "cell_type": "code",
   "execution_count": 45,
   "id": "a672d0b5",
   "metadata": {
    "execution": {
     "iopub.execute_input": "2022-08-08T00:46:14.175734Z",
     "iopub.status.busy": "2022-08-08T00:46:14.174703Z",
     "iopub.status.idle": "2022-08-08T00:46:14.213417Z",
     "shell.execute_reply": "2022-08-08T00:46:14.211982Z"
    },
    "papermill": {
     "duration": 0.070082,
     "end_time": "2022-08-08T00:46:14.217070",
     "exception": false,
     "start_time": "2022-08-08T00:46:14.146988",
     "status": "completed"
    },
    "tags": []
   },
   "outputs": [
    {
     "name": "stdout",
     "output_type": "stream",
     "text": [
      "(2917, 220)\n"
     ]
    }
   ],
   "source": [
    "all_data = pd.get_dummies(all_data)\n",
    "print(all_data.shape)"
   ]
  },
  {
   "cell_type": "code",
   "execution_count": 46,
   "id": "02039c44",
   "metadata": {
    "execution": {
     "iopub.execute_input": "2022-08-08T00:46:14.268195Z",
     "iopub.status.busy": "2022-08-08T00:46:14.267017Z",
     "iopub.status.idle": "2022-08-08T00:46:14.273477Z",
     "shell.execute_reply": "2022-08-08T00:46:14.272455Z"
    },
    "papermill": {
     "duration": 0.034983,
     "end_time": "2022-08-08T00:46:14.276528",
     "exception": false,
     "start_time": "2022-08-08T00:46:14.241545",
     "status": "completed"
    },
    "tags": []
   },
   "outputs": [],
   "source": [
    "train = all_data[:ntrain]\n",
    "test = all_data[ntrain:]"
   ]
  },
  {
   "cell_type": "markdown",
   "id": "05d00928",
   "metadata": {
    "papermill": {
     "duration": 0.026746,
     "end_time": "2022-08-08T00:46:14.328169",
     "exception": false,
     "start_time": "2022-08-08T00:46:14.301423",
     "status": "completed"
    },
    "tags": []
   },
   "source": [
    "## Modelling"
   ]
  },
  {
   "cell_type": "code",
   "execution_count": 47,
   "id": "5a1680b9",
   "metadata": {
    "execution": {
     "iopub.execute_input": "2022-08-08T00:46:14.389827Z",
     "iopub.status.busy": "2022-08-08T00:46:14.387904Z",
     "iopub.status.idle": "2022-08-08T00:46:16.008743Z",
     "shell.execute_reply": "2022-08-08T00:46:16.007329Z"
    },
    "papermill": {
     "duration": 1.657291,
     "end_time": "2022-08-08T00:46:16.011555",
     "exception": false,
     "start_time": "2022-08-08T00:46:14.354264",
     "status": "completed"
    },
    "tags": []
   },
   "outputs": [
    {
     "data": {
      "text/html": [
       "<style type='text/css'>\n",
       ".datatable table.frame { margin-bottom: 0; }\n",
       ".datatable table.frame thead { border-bottom: none; }\n",
       ".datatable table.frame tr.coltypes td {  color: #FFFFFF;  line-height: 6px;  padding: 0 0.5em;}\n",
       ".datatable .bool    { background: #DDDD99; }\n",
       ".datatable .object  { background: #565656; }\n",
       ".datatable .int     { background: #5D9E5D; }\n",
       ".datatable .float   { background: #4040CC; }\n",
       ".datatable .str     { background: #CC4040; }\n",
       ".datatable .time    { background: #40CC40; }\n",
       ".datatable .row_index {  background: var(--jp-border-color3);  border-right: 1px solid var(--jp-border-color0);  color: var(--jp-ui-font-color3);  font-size: 9px;}\n",
       ".datatable .frame tbody td { text-align: left; }\n",
       ".datatable .frame tr.coltypes .row_index {  background: var(--jp-border-color0);}\n",
       ".datatable th:nth-child(2) { padding-left: 12px; }\n",
       ".datatable .hellipsis {  color: var(--jp-cell-editor-border-color);}\n",
       ".datatable .vellipsis {  background: var(--jp-layout-color0);  color: var(--jp-cell-editor-border-color);}\n",
       ".datatable .na {  color: var(--jp-cell-editor-border-color);  font-size: 80%;}\n",
       ".datatable .sp {  opacity: 0.25;}\n",
       ".datatable .footer { font-size: 9px; }\n",
       ".datatable .frame_dimensions {  background: var(--jp-border-color3);  border-top: 1px solid var(--jp-border-color0);  color: var(--jp-ui-font-color3);  display: inline-block;  opacity: 0.6;  padding: 1px 10px 1px 5px;}\n",
       "</style>\n"
      ],
      "text/plain": [
       "<IPython.core.display.HTML object>"
      ]
     },
     "metadata": {},
     "output_type": "display_data"
    }
   ],
   "source": [
    "from sklearn.linear_model import ElasticNet, Lasso, BayesianRidge, LassoLarsIC\n",
    "from sklearn.ensemble import RandomForestRegressor, GradientBoostingRegressor\n",
    "from sklearn.kernel_ridge import KernelRidge\n",
    "from sklearn.pipeline import make_pipeline\n",
    "from sklearn.preprocessing import RobustScaler\n",
    "from sklearn.base import BaseEstimator, TransformerMixin, RegressorMixin, clone\n",
    "from sklearn.model_selection import KFold, cross_val_score, train_test_split\n",
    "from sklearn.metrics import mean_squared_error\n",
    "import xgboost as xgb\n",
    "import lightgbm as lgb"
   ]
  },
  {
   "cell_type": "code",
   "execution_count": 48,
   "id": "8e258325",
   "metadata": {
    "execution": {
     "iopub.execute_input": "2022-08-08T00:46:16.064836Z",
     "iopub.status.busy": "2022-08-08T00:46:16.064366Z",
     "iopub.status.idle": "2022-08-08T00:46:16.071193Z",
     "shell.execute_reply": "2022-08-08T00:46:16.069980Z"
    },
    "papermill": {
     "duration": 0.037545,
     "end_time": "2022-08-08T00:46:16.074295",
     "exception": false,
     "start_time": "2022-08-08T00:46:16.036750",
     "status": "completed"
    },
    "tags": []
   },
   "outputs": [],
   "source": [
    "n_folds = 5\n",
    "\n",
    "def rmsle_cv(model):\n",
    "    kf = KFold(n_folds, shuffle=True, random_state=42).get_n_splits(train.values)\n",
    "    rmse = np.sqrt(-cross_val_score(model, train.values, y_train, scoring=\"neg_mean_squared_error\", cv=kf))\n",
    "    return (rmse)"
   ]
  },
  {
   "cell_type": "code",
   "execution_count": 49,
   "id": "79254471",
   "metadata": {
    "execution": {
     "iopub.execute_input": "2022-08-08T00:46:16.133232Z",
     "iopub.status.busy": "2022-08-08T00:46:16.132004Z",
     "iopub.status.idle": "2022-08-08T00:46:16.137984Z",
     "shell.execute_reply": "2022-08-08T00:46:16.137020Z"
    },
    "papermill": {
     "duration": 0.037762,
     "end_time": "2022-08-08T00:46:16.140856",
     "exception": false,
     "start_time": "2022-08-08T00:46:16.103094",
     "status": "completed"
    },
    "tags": []
   },
   "outputs": [],
   "source": [
    "lasso = make_pipeline(RobustScaler(), Lasso(alpha=0.0005, random_state=1))"
   ]
  },
  {
   "cell_type": "code",
   "execution_count": 50,
   "id": "eee3cd4e",
   "metadata": {
    "execution": {
     "iopub.execute_input": "2022-08-08T00:46:16.192690Z",
     "iopub.status.busy": "2022-08-08T00:46:16.191737Z",
     "iopub.status.idle": "2022-08-08T00:46:16.199248Z",
     "shell.execute_reply": "2022-08-08T00:46:16.197693Z"
    },
    "papermill": {
     "duration": 0.036119,
     "end_time": "2022-08-08T00:46:16.202313",
     "exception": false,
     "start_time": "2022-08-08T00:46:16.166194",
     "status": "completed"
    },
    "tags": []
   },
   "outputs": [],
   "source": [
    "ENet = make_pipeline(RobustScaler(), ElasticNet(alpha=0.0005, l1_ratio=0.9, random_state=3))"
   ]
  },
  {
   "cell_type": "code",
   "execution_count": 51,
   "id": "37ad913d",
   "metadata": {
    "execution": {
     "iopub.execute_input": "2022-08-08T00:46:16.258608Z",
     "iopub.status.busy": "2022-08-08T00:46:16.257750Z",
     "iopub.status.idle": "2022-08-08T00:46:16.264064Z",
     "shell.execute_reply": "2022-08-08T00:46:16.262666Z"
    },
    "papermill": {
     "duration": 0.036314,
     "end_time": "2022-08-08T00:46:16.266620",
     "exception": false,
     "start_time": "2022-08-08T00:46:16.230306",
     "status": "completed"
    },
    "tags": []
   },
   "outputs": [],
   "source": [
    "KRR = KernelRidge(alpha=0.6, kernel='polynomial', degree=2, coef0=2.5)"
   ]
  },
  {
   "cell_type": "code",
   "execution_count": 52,
   "id": "f3579bd7",
   "metadata": {
    "execution": {
     "iopub.execute_input": "2022-08-08T00:46:16.320481Z",
     "iopub.status.busy": "2022-08-08T00:46:16.319465Z",
     "iopub.status.idle": "2022-08-08T00:46:16.325232Z",
     "shell.execute_reply": "2022-08-08T00:46:16.324231Z"
    },
    "papermill": {
     "duration": 0.035717,
     "end_time": "2022-08-08T00:46:16.328625",
     "exception": false,
     "start_time": "2022-08-08T00:46:16.292908",
     "status": "completed"
    },
    "tags": []
   },
   "outputs": [],
   "source": [
    "GBoost = GradientBoostingRegressor(n_estimators=3000, learning_rate=0.05,\n",
    "                                   max_depth=4, max_features='sqrt',\n",
    "                                   min_samples_leaf=15, min_samples_split=10, \n",
    "                                   loss='huber', random_state =5)"
   ]
  },
  {
   "cell_type": "code",
   "execution_count": 53,
   "id": "f673b10b",
   "metadata": {
    "execution": {
     "iopub.execute_input": "2022-08-08T00:46:16.389303Z",
     "iopub.status.busy": "2022-08-08T00:46:16.388324Z",
     "iopub.status.idle": "2022-08-08T00:46:16.395186Z",
     "shell.execute_reply": "2022-08-08T00:46:16.393469Z"
    },
    "papermill": {
     "duration": 0.040574,
     "end_time": "2022-08-08T00:46:16.398529",
     "exception": false,
     "start_time": "2022-08-08T00:46:16.357955",
     "status": "completed"
    },
    "tags": []
   },
   "outputs": [],
   "source": [
    "model_xgb = xgb.XGBRegressor(colsample_bytree=0.4603, gamma=0.0468, \n",
    "                             learning_rate=0.05, max_depth=3, \n",
    "                             min_child_weight=1.7817, n_estimators=2200,\n",
    "                             reg_alpha=0.4640, reg_lambda=0.8571,\n",
    "                             subsample=0.5213, silent=1,\n",
    "                             random_state =7, nthread = -1)"
   ]
  },
  {
   "cell_type": "code",
   "execution_count": 54,
   "id": "a3aa03a2",
   "metadata": {
    "execution": {
     "iopub.execute_input": "2022-08-08T00:46:16.456185Z",
     "iopub.status.busy": "2022-08-08T00:46:16.455482Z",
     "iopub.status.idle": "2022-08-08T00:46:16.463155Z",
     "shell.execute_reply": "2022-08-08T00:46:16.461719Z"
    },
    "papermill": {
     "duration": 0.039647,
     "end_time": "2022-08-08T00:46:16.465831",
     "exception": false,
     "start_time": "2022-08-08T00:46:16.426184",
     "status": "completed"
    },
    "tags": []
   },
   "outputs": [],
   "source": [
    "model_lgb = lgb.LGBMRegressor(objective='regression',num_leaves=5,\n",
    "                              learning_rate=0.05, n_estimators=720,\n",
    "                              max_bin = 55, bagging_fraction = 0.8,\n",
    "                              bagging_freq = 5, feature_fraction = 0.2319,\n",
    "                              feature_fraction_seed=9, bagging_seed=9,\n",
    "                              min_data_in_leaf =6, min_sum_hessian_in_leaf = 11)"
   ]
  },
  {
   "cell_type": "code",
   "execution_count": 55,
   "id": "f83fb71b",
   "metadata": {
    "execution": {
     "iopub.execute_input": "2022-08-08T00:46:16.520775Z",
     "iopub.status.busy": "2022-08-08T00:46:16.519936Z",
     "iopub.status.idle": "2022-08-08T00:46:17.517660Z",
     "shell.execute_reply": "2022-08-08T00:46:17.516465Z"
    },
    "papermill": {
     "duration": 1.031052,
     "end_time": "2022-08-08T00:46:17.522965",
     "exception": false,
     "start_time": "2022-08-08T00:46:16.491913",
     "status": "completed"
    },
    "tags": []
   },
   "outputs": [
    {
     "name": "stdout",
     "output_type": "stream",
     "text": [
      "\n",
      "Lasso score: 0.1115 (0.0074)\n",
      "\n"
     ]
    }
   ],
   "source": [
    "score = rmsle_cv(lasso)\n",
    "print(\"\\nLasso score: {:.4f} ({:.4f})\\n\".format(score.mean(), score.std()))"
   ]
  },
  {
   "cell_type": "code",
   "execution_count": 56,
   "id": "f1b491c9",
   "metadata": {
    "execution": {
     "iopub.execute_input": "2022-08-08T00:46:17.653009Z",
     "iopub.status.busy": "2022-08-08T00:46:17.652614Z",
     "iopub.status.idle": "2022-08-08T00:46:18.626487Z",
     "shell.execute_reply": "2022-08-08T00:46:18.625182Z"
    },
    "papermill": {
     "duration": 1.030082,
     "end_time": "2022-08-08T00:46:18.630564",
     "exception": false,
     "start_time": "2022-08-08T00:46:17.600482",
     "status": "completed"
    },
    "tags": []
   },
   "outputs": [
    {
     "name": "stdout",
     "output_type": "stream",
     "text": [
      "ElasticNet score: 0.1116 (0.0074)\n",
      "\n"
     ]
    }
   ],
   "source": [
    "score = rmsle_cv(ENet)\n",
    "print(\"ElasticNet score: {:.4f} ({:.4f})\\n\".format(score.mean(), score.std()))"
   ]
  },
  {
   "cell_type": "code",
   "execution_count": 57,
   "id": "00714620",
   "metadata": {
    "execution": {
     "iopub.execute_input": "2022-08-08T00:46:18.756474Z",
     "iopub.status.busy": "2022-08-08T00:46:18.756024Z",
     "iopub.status.idle": "2022-08-08T00:46:19.496084Z",
     "shell.execute_reply": "2022-08-08T00:46:19.494420Z"
    },
    "papermill": {
     "duration": 0.794805,
     "end_time": "2022-08-08T00:46:19.501103",
     "exception": false,
     "start_time": "2022-08-08T00:46:18.706298",
     "status": "completed"
    },
    "tags": []
   },
   "outputs": [
    {
     "name": "stdout",
     "output_type": "stream",
     "text": [
      "Kernel Ridge score: 0.1153 (0.0075)\n",
      "\n"
     ]
    }
   ],
   "source": [
    "score = rmsle_cv(KRR)\n",
    "print(\"Kernel Ridge score: {:.4f} ({:.4f})\\n\".format(score.mean(), score.std()))"
   ]
  },
  {
   "cell_type": "code",
   "execution_count": 58,
   "id": "80b89f45",
   "metadata": {
    "execution": {
     "iopub.execute_input": "2022-08-08T00:46:19.615658Z",
     "iopub.status.busy": "2022-08-08T00:46:19.613748Z",
     "iopub.status.idle": "2022-08-08T00:47:41.898288Z",
     "shell.execute_reply": "2022-08-08T00:47:41.896903Z"
    },
    "papermill": {
     "duration": 82.353347,
     "end_time": "2022-08-08T00:47:41.925141",
     "exception": false,
     "start_time": "2022-08-08T00:46:19.571794",
     "status": "completed"
    },
    "tags": []
   },
   "outputs": [
    {
     "name": "stdout",
     "output_type": "stream",
     "text": [
      "Gradient Boosting score: 0.1167 (0.0083)\n",
      "\n"
     ]
    }
   ],
   "source": [
    "score = rmsle_cv(GBoost)\n",
    "print(\"Gradient Boosting score: {:.4f} ({:.4f})\\n\".format(score.mean(), score.std()))"
   ]
  },
  {
   "cell_type": "code",
   "execution_count": 59,
   "id": "70277f1d",
   "metadata": {
    "execution": {
     "iopub.execute_input": "2022-08-08T00:47:41.977746Z",
     "iopub.status.busy": "2022-08-08T00:47:41.976989Z",
     "iopub.status.idle": "2022-08-08T00:48:53.263860Z",
     "shell.execute_reply": "2022-08-08T00:48:53.262307Z"
    },
    "papermill": {
     "duration": 71.318644,
     "end_time": "2022-08-08T00:48:53.267519",
     "exception": false,
     "start_time": "2022-08-08T00:47:41.948875",
     "status": "completed"
    },
    "tags": []
   },
   "outputs": [
    {
     "name": "stdout",
     "output_type": "stream",
     "text": [
      "[00:47:42] WARNING: ../src/learner.cc:627: \n",
      "Parameters: { \"silent\" } might not be used.\n",
      "\n",
      "  This could be a false alarm, with some parameters getting used by language bindings but\n",
      "  then being mistakenly passed down to XGBoost core, or some parameter actually being used\n",
      "  but getting flagged wrongly here. Please open an issue if you find any such cases.\n",
      "\n",
      "\n",
      "[00:47:56] WARNING: ../src/learner.cc:627: \n",
      "Parameters: { \"silent\" } might not be used.\n",
      "\n",
      "  This could be a false alarm, with some parameters getting used by language bindings but\n",
      "  then being mistakenly passed down to XGBoost core, or some parameter actually being used\n",
      "  but getting flagged wrongly here. Please open an issue if you find any such cases.\n",
      "\n",
      "\n",
      "[00:48:10] WARNING: ../src/learner.cc:627: \n",
      "Parameters: { \"silent\" } might not be used.\n",
      "\n",
      "  This could be a false alarm, with some parameters getting used by language bindings but\n",
      "  then being mistakenly passed down to XGBoost core, or some parameter actually being used\n",
      "  but getting flagged wrongly here. Please open an issue if you find any such cases.\n",
      "\n",
      "\n",
      "[00:48:24] WARNING: ../src/learner.cc:627: \n",
      "Parameters: { \"silent\" } might not be used.\n",
      "\n",
      "  This could be a false alarm, with some parameters getting used by language bindings but\n",
      "  then being mistakenly passed down to XGBoost core, or some parameter actually being used\n",
      "  but getting flagged wrongly here. Please open an issue if you find any such cases.\n",
      "\n",
      "\n",
      "[00:48:38] WARNING: ../src/learner.cc:627: \n",
      "Parameters: { \"silent\" } might not be used.\n",
      "\n",
      "  This could be a false alarm, with some parameters getting used by language bindings but\n",
      "  then being mistakenly passed down to XGBoost core, or some parameter actually being used\n",
      "  but getting flagged wrongly here. Please open an issue if you find any such cases.\n",
      "\n",
      "\n",
      "Xgboost score: 0.1172 (0.0050)\n",
      "\n"
     ]
    }
   ],
   "source": [
    "score = rmsle_cv(model_xgb)\n",
    "print(\"Xgboost score: {:.4f} ({:.4f})\\n\".format(score.mean(), score.std()))"
   ]
  },
  {
   "cell_type": "code",
   "execution_count": 60,
   "id": "ba1c5006",
   "metadata": {
    "execution": {
     "iopub.execute_input": "2022-08-08T00:48:53.318253Z",
     "iopub.status.busy": "2022-08-08T00:48:53.317830Z",
     "iopub.status.idle": "2022-08-08T00:48:55.881962Z",
     "shell.execute_reply": "2022-08-08T00:48:55.880336Z"
    },
    "papermill": {
     "duration": 2.592768,
     "end_time": "2022-08-08T00:48:55.885133",
     "exception": false,
     "start_time": "2022-08-08T00:48:53.292365",
     "status": "completed"
    },
    "tags": []
   },
   "outputs": [
    {
     "name": "stdout",
     "output_type": "stream",
     "text": [
      "[LightGBM] [Warning] feature_fraction is set=0.2319, colsample_bytree=1.0 will be ignored. Current value: feature_fraction=0.2319\n",
      "[LightGBM] [Warning] min_sum_hessian_in_leaf is set=11, min_child_weight=0.001 will be ignored. Current value: min_sum_hessian_in_leaf=11\n",
      "[LightGBM] [Warning] min_data_in_leaf is set=6, min_child_samples=20 will be ignored. Current value: min_data_in_leaf=6\n",
      "[LightGBM] [Warning] bagging_freq is set=5, subsample_freq=0 will be ignored. Current value: bagging_freq=5\n",
      "[LightGBM] [Warning] bagging_fraction is set=0.8, subsample=1.0 will be ignored. Current value: bagging_fraction=0.8\n",
      "[LightGBM] [Warning] feature_fraction is set=0.2319, colsample_bytree=1.0 will be ignored. Current value: feature_fraction=0.2319\n",
      "[LightGBM] [Warning] min_sum_hessian_in_leaf is set=11, min_child_weight=0.001 will be ignored. Current value: min_sum_hessian_in_leaf=11\n",
      "[LightGBM] [Warning] min_data_in_leaf is set=6, min_child_samples=20 will be ignored. Current value: min_data_in_leaf=6\n",
      "[LightGBM] [Warning] bagging_freq is set=5, subsample_freq=0 will be ignored. Current value: bagging_freq=5\n",
      "[LightGBM] [Warning] bagging_fraction is set=0.8, subsample=1.0 will be ignored. Current value: bagging_fraction=0.8\n",
      "[LightGBM] [Warning] feature_fraction is set=0.2319, colsample_bytree=1.0 will be ignored. Current value: feature_fraction=0.2319\n",
      "[LightGBM] [Warning] min_sum_hessian_in_leaf is set=11, min_child_weight=0.001 will be ignored. Current value: min_sum_hessian_in_leaf=11\n",
      "[LightGBM] [Warning] min_data_in_leaf is set=6, min_child_samples=20 will be ignored. Current value: min_data_in_leaf=6\n",
      "[LightGBM] [Warning] bagging_freq is set=5, subsample_freq=0 will be ignored. Current value: bagging_freq=5\n",
      "[LightGBM] [Warning] bagging_fraction is set=0.8, subsample=1.0 will be ignored. Current value: bagging_fraction=0.8\n",
      "[LightGBM] [Warning] feature_fraction is set=0.2319, colsample_bytree=1.0 will be ignored. Current value: feature_fraction=0.2319\n",
      "[LightGBM] [Warning] min_sum_hessian_in_leaf is set=11, min_child_weight=0.001 will be ignored. Current value: min_sum_hessian_in_leaf=11\n",
      "[LightGBM] [Warning] min_data_in_leaf is set=6, min_child_samples=20 will be ignored. Current value: min_data_in_leaf=6\n",
      "[LightGBM] [Warning] bagging_freq is set=5, subsample_freq=0 will be ignored. Current value: bagging_freq=5\n",
      "[LightGBM] [Warning] bagging_fraction is set=0.8, subsample=1.0 will be ignored. Current value: bagging_fraction=0.8\n",
      "[LightGBM] [Warning] feature_fraction is set=0.2319, colsample_bytree=1.0 will be ignored. Current value: feature_fraction=0.2319\n",
      "[LightGBM] [Warning] min_sum_hessian_in_leaf is set=11, min_child_weight=0.001 will be ignored. Current value: min_sum_hessian_in_leaf=11\n",
      "[LightGBM] [Warning] min_data_in_leaf is set=6, min_child_samples=20 will be ignored. Current value: min_data_in_leaf=6\n",
      "[LightGBM] [Warning] bagging_freq is set=5, subsample_freq=0 will be ignored. Current value: bagging_freq=5\n",
      "[LightGBM] [Warning] bagging_fraction is set=0.8, subsample=1.0 will be ignored. Current value: bagging_fraction=0.8\n",
      "LGBM score: 0.1167 (0.0059)\n",
      "\n"
     ]
    }
   ],
   "source": [
    "score = rmsle_cv(model_lgb)\n",
    "print(\"LGBM score: {:.4f} ({:.4f})\\n\" .format(score.mean(), score.std()))"
   ]
  },
  {
   "cell_type": "code",
   "execution_count": 61,
   "id": "6176a8bc",
   "metadata": {
    "execution": {
     "iopub.execute_input": "2022-08-08T00:48:55.939035Z",
     "iopub.status.busy": "2022-08-08T00:48:55.938362Z",
     "iopub.status.idle": "2022-08-08T00:48:55.946204Z",
     "shell.execute_reply": "2022-08-08T00:48:55.945262Z"
    },
    "papermill": {
     "duration": 0.037843,
     "end_time": "2022-08-08T00:48:55.948566",
     "exception": false,
     "start_time": "2022-08-08T00:48:55.910723",
     "status": "completed"
    },
    "tags": []
   },
   "outputs": [],
   "source": [
    "class AveragingModels(BaseEstimator, RegressorMixin, TransformerMixin):\n",
    "    def __init__(self, models):\n",
    "        self.models = models\n",
    "        \n",
    "    # we define clones of the original models to fit the data in\n",
    "    def fit(self, X, y):\n",
    "        self.models_ = [clone(x) for x in self.models]\n",
    "        \n",
    "        # Train cloned base models\n",
    "        for model in self.models_:\n",
    "            model.fit(X, y)\n",
    "\n",
    "        return self\n",
    "    \n",
    "    #Now we do the predictions for cloned models and average them\n",
    "    def predict(self, X):\n",
    "        predictions = np.column_stack([\n",
    "            model.predict(X) for model in self.models_\n",
    "        ])\n",
    "        return np.mean(predictions, axis=1) "
   ]
  },
  {
   "cell_type": "code",
   "execution_count": 62,
   "id": "93f1b465",
   "metadata": {
    "execution": {
     "iopub.execute_input": "2022-08-08T00:48:56.001411Z",
     "iopub.status.busy": "2022-08-08T00:48:56.000754Z",
     "iopub.status.idle": "2022-08-08T00:50:19.092573Z",
     "shell.execute_reply": "2022-08-08T00:50:19.091160Z"
    },
    "papermill": {
     "duration": 83.153351,
     "end_time": "2022-08-08T00:50:19.126821",
     "exception": false,
     "start_time": "2022-08-08T00:48:55.973470",
     "status": "completed"
    },
    "tags": []
   },
   "outputs": [
    {
     "name": "stdout",
     "output_type": "stream",
     "text": [
      " Averaged base models score: 0.1087 (0.0077)\n",
      "\n"
     ]
    }
   ],
   "source": [
    "averaged_models = AveragingModels(models = (ENet, GBoost, KRR, lasso))\n",
    "\n",
    "score = rmsle_cv(averaged_models)\n",
    "print(\" Averaged base models score: {:.4f} ({:.4f})\\n\".format(score.mean(), score.std()))"
   ]
  },
  {
   "cell_type": "code",
   "execution_count": 63,
   "id": "11cafc3d",
   "metadata": {
    "execution": {
     "iopub.execute_input": "2022-08-08T00:50:19.208938Z",
     "iopub.status.busy": "2022-08-08T00:50:19.208448Z",
     "iopub.status.idle": "2022-08-08T00:50:19.221975Z",
     "shell.execute_reply": "2022-08-08T00:50:19.220815Z"
    },
    "papermill": {
     "duration": 0.050972,
     "end_time": "2022-08-08T00:50:19.224792",
     "exception": false,
     "start_time": "2022-08-08T00:50:19.173820",
     "status": "completed"
    },
    "tags": []
   },
   "outputs": [],
   "source": [
    "class StackingAveragedModels(BaseEstimator, RegressorMixin, TransformerMixin):\n",
    "    def __init__(self, base_models, meta_model, n_folds=5):\n",
    "        self.base_models = base_models\n",
    "        self.meta_model = meta_model\n",
    "        self.n_folds = n_folds\n",
    "   \n",
    "    # We again fit the data on clones of the original models\n",
    "    def fit(self, X, y):\n",
    "        self.base_models_ = [list() for x in self.base_models]\n",
    "        self.meta_model_ = clone(self.meta_model)\n",
    "        kfold = KFold(n_splits=self.n_folds, shuffle=True, random_state=156)\n",
    "        \n",
    "        # Train cloned base models then create out-of-fold predictions\n",
    "        # that are needed to train the cloned meta-model\n",
    "        out_of_fold_predictions = np.zeros((X.shape[0], len(self.base_models)))\n",
    "        for i, model in enumerate(self.base_models):\n",
    "            for train_index, holdout_index in kfold.split(X, y):\n",
    "                instance = clone(model)\n",
    "                self.base_models_[i].append(instance)\n",
    "                instance.fit(X[train_index], y[train_index])\n",
    "                y_pred = instance.predict(X[holdout_index])\n",
    "                out_of_fold_predictions[holdout_index, i] = y_pred\n",
    "                \n",
    "        # Now train the cloned  meta-model using the out-of-fold predictions as new feature\n",
    "        self.meta_model_.fit(out_of_fold_predictions, y)\n",
    "        return self\n",
    "   \n",
    "    #Do the predictions of all base models on the test data and use the averaged predictions as \n",
    "    #meta-features for the final prediction which is done by the meta-model\n",
    "    def predict(self, X):\n",
    "        meta_features = np.column_stack([\n",
    "            np.column_stack([model.predict(X) for model in base_models]).mean(axis=1)\n",
    "            for base_models in self.base_models_ ])\n",
    "        return self.meta_model_.predict(meta_features)"
   ]
  },
  {
   "cell_type": "code",
   "execution_count": 64,
   "id": "ee1b36f0",
   "metadata": {
    "execution": {
     "iopub.execute_input": "2022-08-08T00:50:19.280991Z",
     "iopub.status.busy": "2022-08-08T00:50:19.280125Z",
     "iopub.status.idle": "2022-08-08T00:56:42.323830Z",
     "shell.execute_reply": "2022-08-08T00:56:42.321637Z"
    },
    "papermill": {
     "duration": 383.131395,
     "end_time": "2022-08-08T00:56:42.382396",
     "exception": false,
     "start_time": "2022-08-08T00:50:19.251001",
     "status": "completed"
    },
    "tags": []
   },
   "outputs": [
    {
     "name": "stdout",
     "output_type": "stream",
     "text": [
      "Stacking Averaged models score: 0.1081 (0.0073)\n"
     ]
    }
   ],
   "source": [
    "stacked_averaged_models = StackingAveragedModels(base_models = (ENet, GBoost, KRR),\n",
    "                                                 meta_model = lasso)\n",
    "\n",
    "score = rmsle_cv(stacked_averaged_models)\n",
    "print(\"Stacking Averaged models score: {:.4f} ({:.4f})\".format(score.mean(), score.std()))"
   ]
  },
  {
   "cell_type": "code",
   "execution_count": 65,
   "id": "c35698e4",
   "metadata": {
    "execution": {
     "iopub.execute_input": "2022-08-08T00:56:42.458120Z",
     "iopub.status.busy": "2022-08-08T00:56:42.457287Z",
     "iopub.status.idle": "2022-08-08T00:56:42.464118Z",
     "shell.execute_reply": "2022-08-08T00:56:42.462622Z"
    },
    "papermill": {
     "duration": 0.03907,
     "end_time": "2022-08-08T00:56:42.466584",
     "exception": false,
     "start_time": "2022-08-08T00:56:42.427514",
     "status": "completed"
    },
    "tags": []
   },
   "outputs": [],
   "source": [
    "def rmsle(y, y_pred):\n",
    "    return np.sqrt(mean_squared_error(y, y_pred))"
   ]
  },
  {
   "cell_type": "code",
   "execution_count": 66,
   "id": "c6605b90",
   "metadata": {
    "execution": {
     "iopub.execute_input": "2022-08-08T00:56:42.525061Z",
     "iopub.status.busy": "2022-08-08T00:56:42.523713Z",
     "iopub.status.idle": "2022-08-08T00:58:05.757754Z",
     "shell.execute_reply": "2022-08-08T00:58:05.747607Z"
    },
    "papermill": {
     "duration": 83.301318,
     "end_time": "2022-08-08T00:58:05.795099",
     "exception": false,
     "start_time": "2022-08-08T00:56:42.493781",
     "status": "completed"
    },
    "tags": []
   },
   "outputs": [
    {
     "name": "stdout",
     "output_type": "stream",
     "text": [
      "0.07839506096666216\n"
     ]
    }
   ],
   "source": [
    "stacked_averaged_models.fit(train.values, y_train)\n",
    "stacked_train_pred = stacked_averaged_models.predict(train.values)\n",
    "stacked_pred = np.expm1(stacked_averaged_models.predict(test.values))\n",
    "print(rmsle(y_train, stacked_train_pred))"
   ]
  },
  {
   "cell_type": "code",
   "execution_count": 67,
   "id": "3d79a098",
   "metadata": {
    "execution": {
     "iopub.execute_input": "2022-08-08T00:58:05.874262Z",
     "iopub.status.busy": "2022-08-08T00:58:05.873864Z",
     "iopub.status.idle": "2022-08-08T00:58:18.879875Z",
     "shell.execute_reply": "2022-08-08T00:58:18.878578Z"
    },
    "papermill": {
     "duration": 13.047413,
     "end_time": "2022-08-08T00:58:18.883643",
     "exception": false,
     "start_time": "2022-08-08T00:58:05.836230",
     "status": "completed"
    },
    "tags": []
   },
   "outputs": [
    {
     "name": "stdout",
     "output_type": "stream",
     "text": [
      "[00:58:05] WARNING: ../src/learner.cc:627: \n",
      "Parameters: { \"silent\" } might not be used.\n",
      "\n",
      "  This could be a false alarm, with some parameters getting used by language bindings but\n",
      "  then being mistakenly passed down to XGBoost core, or some parameter actually being used\n",
      "  but getting flagged wrongly here. Please open an issue if you find any such cases.\n",
      "\n",
      "\n",
      "0.0790460201201611\n"
     ]
    }
   ],
   "source": [
    "model_xgb.fit(train, y_train)\n",
    "xgb_train_pred = model_xgb.predict(train)\n",
    "xgb_pred = np.expm1(model_xgb.predict(test))\n",
    "print(rmsle(y_train, xgb_train_pred))"
   ]
  },
  {
   "cell_type": "code",
   "execution_count": 68,
   "id": "4c9c3b43",
   "metadata": {
    "execution": {
     "iopub.execute_input": "2022-08-08T00:58:18.936008Z",
     "iopub.status.busy": "2022-08-08T00:58:18.935563Z",
     "iopub.status.idle": "2022-08-08T00:58:19.431001Z",
     "shell.execute_reply": "2022-08-08T00:58:19.429929Z"
    },
    "papermill": {
     "duration": 0.524102,
     "end_time": "2022-08-08T00:58:19.433579",
     "exception": false,
     "start_time": "2022-08-08T00:58:18.909477",
     "status": "completed"
    },
    "tags": []
   },
   "outputs": [
    {
     "name": "stdout",
     "output_type": "stream",
     "text": [
      "[LightGBM] [Warning] feature_fraction is set=0.2319, colsample_bytree=1.0 will be ignored. Current value: feature_fraction=0.2319\n",
      "[LightGBM] [Warning] min_sum_hessian_in_leaf is set=11, min_child_weight=0.001 will be ignored. Current value: min_sum_hessian_in_leaf=11\n",
      "[LightGBM] [Warning] min_data_in_leaf is set=6, min_child_samples=20 will be ignored. Current value: min_data_in_leaf=6\n",
      "[LightGBM] [Warning] bagging_freq is set=5, subsample_freq=0 will be ignored. Current value: bagging_freq=5\n",
      "[LightGBM] [Warning] bagging_fraction is set=0.8, subsample=1.0 will be ignored. Current value: bagging_fraction=0.8\n",
      "0.07169383068991829\n"
     ]
    }
   ],
   "source": [
    "model_lgb.fit(train, y_train)\n",
    "lgb_train_pred = model_lgb.predict(train)\n",
    "lgb_pred = np.expm1(model_lgb.predict(test.values))\n",
    "print(rmsle(y_train, lgb_train_pred))"
   ]
  },
  {
   "cell_type": "code",
   "execution_count": 69,
   "id": "ad83bcba",
   "metadata": {
    "execution": {
     "iopub.execute_input": "2022-08-08T00:58:19.490202Z",
     "iopub.status.busy": "2022-08-08T00:58:19.489757Z",
     "iopub.status.idle": "2022-08-08T00:58:19.497450Z",
     "shell.execute_reply": "2022-08-08T00:58:19.495990Z"
    },
    "papermill": {
     "duration": 0.040296,
     "end_time": "2022-08-08T00:58:19.501419",
     "exception": false,
     "start_time": "2022-08-08T00:58:19.461123",
     "status": "completed"
    },
    "tags": []
   },
   "outputs": [
    {
     "name": "stdout",
     "output_type": "stream",
     "text": [
      "RMSLE score on train data:\n",
      "0.07548697935004199\n"
     ]
    }
   ],
   "source": [
    "'''RMSE on the entire Train data when averaging'''\n",
    "\n",
    "print('RMSLE score on train data:')\n",
    "print(rmsle(y_train,stacked_train_pred*0.70 + xgb_train_pred*0.15 + lgb_train_pred*0.15 ))"
   ]
  },
  {
   "cell_type": "code",
   "execution_count": 70,
   "id": "eb1750ea",
   "metadata": {
    "execution": {
     "iopub.execute_input": "2022-08-08T00:58:19.560215Z",
     "iopub.status.busy": "2022-08-08T00:58:19.558472Z",
     "iopub.status.idle": "2022-08-08T00:58:19.566472Z",
     "shell.execute_reply": "2022-08-08T00:58:19.565403Z"
    },
    "papermill": {
     "duration": 0.038567,
     "end_time": "2022-08-08T00:58:19.569009",
     "exception": false,
     "start_time": "2022-08-08T00:58:19.530442",
     "status": "completed"
    },
    "tags": []
   },
   "outputs": [],
   "source": [
    "ensemble = stacked_pred*0.70 + xgb_pred*0.15 + lgb_pred*0.15"
   ]
  },
  {
   "cell_type": "code",
   "execution_count": 71,
   "id": "288c6886",
   "metadata": {
    "execution": {
     "iopub.execute_input": "2022-08-08T00:58:19.628892Z",
     "iopub.status.busy": "2022-08-08T00:58:19.628438Z",
     "iopub.status.idle": "2022-08-08T00:58:19.645299Z",
     "shell.execute_reply": "2022-08-08T00:58:19.644036Z"
    },
    "papermill": {
     "duration": 0.051201,
     "end_time": "2022-08-08T00:58:19.648246",
     "exception": false,
     "start_time": "2022-08-08T00:58:19.597045",
     "status": "completed"
    },
    "tags": []
   },
   "outputs": [],
   "source": [
    "sub = pd.DataFrame()\n",
    "sub['Id'] = test_ID\n",
    "sub['SalePrice'] = ensemble\n",
    "sub.to_csv('submission.csv',index=False)"
   ]
  },
  {
   "cell_type": "code",
   "execution_count": null,
   "id": "9a56b925",
   "metadata": {
    "papermill": {
     "duration": 0.024998,
     "end_time": "2022-08-08T00:58:19.700755",
     "exception": false,
     "start_time": "2022-08-08T00:58:19.675757",
     "status": "completed"
    },
    "tags": []
   },
   "outputs": [],
   "source": []
  }
 ],
 "metadata": {
  "kernelspec": {
   "display_name": "Python 3",
   "language": "python",
   "name": "python3"
  },
  "language_info": {
   "codemirror_mode": {
    "name": "ipython",
    "version": 3
   },
   "file_extension": ".py",
   "mimetype": "text/x-python",
   "name": "python",
   "nbconvert_exporter": "python",
   "pygments_lexer": "ipython3",
   "version": "3.7.12"
  },
  "papermill": {
   "default_parameters": {},
   "duration": 745.735979,
   "end_time": "2022-08-08T00:58:20.756096",
   "environment_variables": {},
   "exception": null,
   "input_path": "__notebook__.ipynb",
   "output_path": "__notebook__.ipynb",
   "parameters": {},
   "start_time": "2022-08-08T00:45:55.020117",
   "version": "2.3.4"
  }
 },
 "nbformat": 4,
 "nbformat_minor": 5
}
