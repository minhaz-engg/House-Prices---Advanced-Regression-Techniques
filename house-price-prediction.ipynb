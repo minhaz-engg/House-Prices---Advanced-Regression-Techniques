{
 "cells": [
  {
   "cell_type": "markdown",
   "id": "d2e57e56",
   "metadata": {
    "papermill": {
     "duration": 0.025003,
     "end_time": "2022-08-31T02:52:58.031376",
     "exception": false,
     "start_time": "2022-08-31T02:52:58.006373",
     "status": "completed"
    },
    "tags": []
   },
   "source": [
    "### Importing notebook"
   ]
  },
  {
   "cell_type": "code",
   "execution_count": 1,
   "id": "bc7c89d1",
   "metadata": {
    "_cell_guid": "b1076dfc-b9ad-4769-8c92-a6c4dae69d19",
    "_uuid": "8f2839f25d086af736a60e9eeb907d3b93b6e0e5",
    "execution": {
     "iopub.execute_input": "2022-08-31T02:52:58.083114Z",
     "iopub.status.busy": "2022-08-31T02:52:58.082131Z",
     "iopub.status.idle": "2022-08-31T02:52:59.413514Z",
     "shell.execute_reply": "2022-08-31T02:52:59.412184Z"
    },
    "papermill": {
     "duration": 1.35824,
     "end_time": "2022-08-31T02:52:59.416526",
     "exception": false,
     "start_time": "2022-08-31T02:52:58.058286",
     "status": "completed"
    },
    "tags": []
   },
   "outputs": [
    {
     "name": "stdout",
     "output_type": "stream",
     "text": [
      "/kaggle/input/house-prices-advanced-regression-techniques/sample_submission.csv\n",
      "/kaggle/input/house-prices-advanced-regression-techniques/data_description.txt\n",
      "/kaggle/input/house-prices-advanced-regression-techniques/train.csv\n",
      "/kaggle/input/house-prices-advanced-regression-techniques/test.csv\n"
     ]
    }
   ],
   "source": [
    "# This Python 3 environment comes with many helpful analytics libraries installed\n",
    "# It is defined by the kaggle/python Docker image: https://github.com/kaggle/docker-python\n",
    "# For example, here's several helpful packages to load\n",
    "\n",
    "import numpy as np # linear algebra\n",
    "import pandas as pd # data processing, CSV file I/O (e.g. pd.read_csv)\n",
    "import matplotlib.pyplot as plt  # Matlab-style plotting\n",
    "import seaborn as sns\n",
    "from scipy import stats\n",
    "from scipy.stats import norm, skew\n",
    "%matplotlib inline\n",
    "color = sns.color_palette()\n",
    "\n",
    "# Input data files are available in the read-only \"../input/\" directory\n",
    "# For example, running this (by clicking run or pressing Shift+Enter) will list all files under the input directory\n",
    "\n",
    "import os\n",
    "for dirname, _, filenames in os.walk('/kaggle/input'):\n",
    "    for filename in filenames:\n",
    "        print(os.path.join(dirname, filename))\n",
    "\n",
    "# You can write up to 20GB to the current directory (/kaggle/working/) that gets preserved as output when you create a version using \"Save & Run All\" \n",
    "# You can also write temporary files to /kaggle/temp/, but they won't be saved outside of the current session"
   ]
  },
  {
   "cell_type": "markdown",
   "id": "e476d180",
   "metadata": {
    "papermill": {
     "duration": 0.02158,
     "end_time": "2022-08-31T02:52:59.460059",
     "exception": false,
     "start_time": "2022-08-31T02:52:59.438479",
     "status": "completed"
    },
    "tags": []
   },
   "source": [
    "### Importing training and testing datasets"
   ]
  },
  {
   "cell_type": "code",
   "execution_count": 2,
   "id": "a92c09e0",
   "metadata": {
    "execution": {
     "iopub.execute_input": "2022-08-31T02:52:59.504066Z",
     "iopub.status.busy": "2022-08-31T02:52:59.503415Z",
     "iopub.status.idle": "2022-08-31T02:52:59.579709Z",
     "shell.execute_reply": "2022-08-31T02:52:59.578292Z"
    },
    "papermill": {
     "duration": 0.101605,
     "end_time": "2022-08-31T02:52:59.582665",
     "exception": false,
     "start_time": "2022-08-31T02:52:59.481060",
     "status": "completed"
    },
    "tags": []
   },
   "outputs": [],
   "source": [
    "train = pd.read_csv('../input/house-prices-advanced-regression-techniques/train.csv')\n",
    "test = pd.read_csv('../input/house-prices-advanced-regression-techniques/test.csv')"
   ]
  },
  {
   "cell_type": "code",
   "execution_count": 3,
   "id": "a02d3732",
   "metadata": {
    "execution": {
     "iopub.execute_input": "2022-08-31T02:52:59.627739Z",
     "iopub.status.busy": "2022-08-31T02:52:59.626856Z",
     "iopub.status.idle": "2022-08-31T02:52:59.665503Z",
     "shell.execute_reply": "2022-08-31T02:52:59.664582Z"
    },
    "papermill": {
     "duration": 0.063434,
     "end_time": "2022-08-31T02:52:59.667718",
     "exception": false,
     "start_time": "2022-08-31T02:52:59.604284",
     "status": "completed"
    },
    "tags": []
   },
   "outputs": [
    {
     "data": {
      "text/html": [
       "<div>\n",
       "<style scoped>\n",
       "    .dataframe tbody tr th:only-of-type {\n",
       "        vertical-align: middle;\n",
       "    }\n",
       "\n",
       "    .dataframe tbody tr th {\n",
       "        vertical-align: top;\n",
       "    }\n",
       "\n",
       "    .dataframe thead th {\n",
       "        text-align: right;\n",
       "    }\n",
       "</style>\n",
       "<table border=\"1\" class=\"dataframe\">\n",
       "  <thead>\n",
       "    <tr style=\"text-align: right;\">\n",
       "      <th></th>\n",
       "      <th>Id</th>\n",
       "      <th>MSSubClass</th>\n",
       "      <th>MSZoning</th>\n",
       "      <th>LotFrontage</th>\n",
       "      <th>LotArea</th>\n",
       "      <th>Street</th>\n",
       "      <th>Alley</th>\n",
       "      <th>LotShape</th>\n",
       "      <th>LandContour</th>\n",
       "      <th>Utilities</th>\n",
       "      <th>...</th>\n",
       "      <th>PoolArea</th>\n",
       "      <th>PoolQC</th>\n",
       "      <th>Fence</th>\n",
       "      <th>MiscFeature</th>\n",
       "      <th>MiscVal</th>\n",
       "      <th>MoSold</th>\n",
       "      <th>YrSold</th>\n",
       "      <th>SaleType</th>\n",
       "      <th>SaleCondition</th>\n",
       "      <th>SalePrice</th>\n",
       "    </tr>\n",
       "  </thead>\n",
       "  <tbody>\n",
       "    <tr>\n",
       "      <th>0</th>\n",
       "      <td>1</td>\n",
       "      <td>60</td>\n",
       "      <td>RL</td>\n",
       "      <td>65.0</td>\n",
       "      <td>8450</td>\n",
       "      <td>Pave</td>\n",
       "      <td>NaN</td>\n",
       "      <td>Reg</td>\n",
       "      <td>Lvl</td>\n",
       "      <td>AllPub</td>\n",
       "      <td>...</td>\n",
       "      <td>0</td>\n",
       "      <td>NaN</td>\n",
       "      <td>NaN</td>\n",
       "      <td>NaN</td>\n",
       "      <td>0</td>\n",
       "      <td>2</td>\n",
       "      <td>2008</td>\n",
       "      <td>WD</td>\n",
       "      <td>Normal</td>\n",
       "      <td>208500</td>\n",
       "    </tr>\n",
       "    <tr>\n",
       "      <th>1</th>\n",
       "      <td>2</td>\n",
       "      <td>20</td>\n",
       "      <td>RL</td>\n",
       "      <td>80.0</td>\n",
       "      <td>9600</td>\n",
       "      <td>Pave</td>\n",
       "      <td>NaN</td>\n",
       "      <td>Reg</td>\n",
       "      <td>Lvl</td>\n",
       "      <td>AllPub</td>\n",
       "      <td>...</td>\n",
       "      <td>0</td>\n",
       "      <td>NaN</td>\n",
       "      <td>NaN</td>\n",
       "      <td>NaN</td>\n",
       "      <td>0</td>\n",
       "      <td>5</td>\n",
       "      <td>2007</td>\n",
       "      <td>WD</td>\n",
       "      <td>Normal</td>\n",
       "      <td>181500</td>\n",
       "    </tr>\n",
       "    <tr>\n",
       "      <th>2</th>\n",
       "      <td>3</td>\n",
       "      <td>60</td>\n",
       "      <td>RL</td>\n",
       "      <td>68.0</td>\n",
       "      <td>11250</td>\n",
       "      <td>Pave</td>\n",
       "      <td>NaN</td>\n",
       "      <td>IR1</td>\n",
       "      <td>Lvl</td>\n",
       "      <td>AllPub</td>\n",
       "      <td>...</td>\n",
       "      <td>0</td>\n",
       "      <td>NaN</td>\n",
       "      <td>NaN</td>\n",
       "      <td>NaN</td>\n",
       "      <td>0</td>\n",
       "      <td>9</td>\n",
       "      <td>2008</td>\n",
       "      <td>WD</td>\n",
       "      <td>Normal</td>\n",
       "      <td>223500</td>\n",
       "    </tr>\n",
       "    <tr>\n",
       "      <th>3</th>\n",
       "      <td>4</td>\n",
       "      <td>70</td>\n",
       "      <td>RL</td>\n",
       "      <td>60.0</td>\n",
       "      <td>9550</td>\n",
       "      <td>Pave</td>\n",
       "      <td>NaN</td>\n",
       "      <td>IR1</td>\n",
       "      <td>Lvl</td>\n",
       "      <td>AllPub</td>\n",
       "      <td>...</td>\n",
       "      <td>0</td>\n",
       "      <td>NaN</td>\n",
       "      <td>NaN</td>\n",
       "      <td>NaN</td>\n",
       "      <td>0</td>\n",
       "      <td>2</td>\n",
       "      <td>2006</td>\n",
       "      <td>WD</td>\n",
       "      <td>Abnorml</td>\n",
       "      <td>140000</td>\n",
       "    </tr>\n",
       "    <tr>\n",
       "      <th>4</th>\n",
       "      <td>5</td>\n",
       "      <td>60</td>\n",
       "      <td>RL</td>\n",
       "      <td>84.0</td>\n",
       "      <td>14260</td>\n",
       "      <td>Pave</td>\n",
       "      <td>NaN</td>\n",
       "      <td>IR1</td>\n",
       "      <td>Lvl</td>\n",
       "      <td>AllPub</td>\n",
       "      <td>...</td>\n",
       "      <td>0</td>\n",
       "      <td>NaN</td>\n",
       "      <td>NaN</td>\n",
       "      <td>NaN</td>\n",
       "      <td>0</td>\n",
       "      <td>12</td>\n",
       "      <td>2008</td>\n",
       "      <td>WD</td>\n",
       "      <td>Normal</td>\n",
       "      <td>250000</td>\n",
       "    </tr>\n",
       "  </tbody>\n",
       "</table>\n",
       "<p>5 rows × 81 columns</p>\n",
       "</div>"
      ],
      "text/plain": [
       "   Id  MSSubClass MSZoning  LotFrontage  LotArea Street Alley LotShape  \\\n",
       "0   1          60       RL         65.0     8450   Pave   NaN      Reg   \n",
       "1   2          20       RL         80.0     9600   Pave   NaN      Reg   \n",
       "2   3          60       RL         68.0    11250   Pave   NaN      IR1   \n",
       "3   4          70       RL         60.0     9550   Pave   NaN      IR1   \n",
       "4   5          60       RL         84.0    14260   Pave   NaN      IR1   \n",
       "\n",
       "  LandContour Utilities  ... PoolArea PoolQC Fence MiscFeature MiscVal MoSold  \\\n",
       "0         Lvl    AllPub  ...        0    NaN   NaN         NaN       0      2   \n",
       "1         Lvl    AllPub  ...        0    NaN   NaN         NaN       0      5   \n",
       "2         Lvl    AllPub  ...        0    NaN   NaN         NaN       0      9   \n",
       "3         Lvl    AllPub  ...        0    NaN   NaN         NaN       0      2   \n",
       "4         Lvl    AllPub  ...        0    NaN   NaN         NaN       0     12   \n",
       "\n",
       "  YrSold  SaleType  SaleCondition  SalePrice  \n",
       "0   2008        WD         Normal     208500  \n",
       "1   2007        WD         Normal     181500  \n",
       "2   2008        WD         Normal     223500  \n",
       "3   2006        WD        Abnorml     140000  \n",
       "4   2008        WD         Normal     250000  \n",
       "\n",
       "[5 rows x 81 columns]"
      ]
     },
     "execution_count": 3,
     "metadata": {},
     "output_type": "execute_result"
    }
   ],
   "source": [
    "train.head()"
   ]
  },
  {
   "cell_type": "code",
   "execution_count": 4,
   "id": "55ddb4c8",
   "metadata": {
    "execution": {
     "iopub.execute_input": "2022-08-31T02:52:59.712609Z",
     "iopub.status.busy": "2022-08-31T02:52:59.712160Z",
     "iopub.status.idle": "2022-08-31T02:52:59.740899Z",
     "shell.execute_reply": "2022-08-31T02:52:59.739718Z"
    },
    "papermill": {
     "duration": 0.054061,
     "end_time": "2022-08-31T02:52:59.743247",
     "exception": false,
     "start_time": "2022-08-31T02:52:59.689186",
     "status": "completed"
    },
    "tags": []
   },
   "outputs": [
    {
     "data": {
      "text/html": [
       "<div>\n",
       "<style scoped>\n",
       "    .dataframe tbody tr th:only-of-type {\n",
       "        vertical-align: middle;\n",
       "    }\n",
       "\n",
       "    .dataframe tbody tr th {\n",
       "        vertical-align: top;\n",
       "    }\n",
       "\n",
       "    .dataframe thead th {\n",
       "        text-align: right;\n",
       "    }\n",
       "</style>\n",
       "<table border=\"1\" class=\"dataframe\">\n",
       "  <thead>\n",
       "    <tr style=\"text-align: right;\">\n",
       "      <th></th>\n",
       "      <th>Id</th>\n",
       "      <th>MSSubClass</th>\n",
       "      <th>MSZoning</th>\n",
       "      <th>LotFrontage</th>\n",
       "      <th>LotArea</th>\n",
       "      <th>Street</th>\n",
       "      <th>Alley</th>\n",
       "      <th>LotShape</th>\n",
       "      <th>LandContour</th>\n",
       "      <th>Utilities</th>\n",
       "      <th>...</th>\n",
       "      <th>ScreenPorch</th>\n",
       "      <th>PoolArea</th>\n",
       "      <th>PoolQC</th>\n",
       "      <th>Fence</th>\n",
       "      <th>MiscFeature</th>\n",
       "      <th>MiscVal</th>\n",
       "      <th>MoSold</th>\n",
       "      <th>YrSold</th>\n",
       "      <th>SaleType</th>\n",
       "      <th>SaleCondition</th>\n",
       "    </tr>\n",
       "  </thead>\n",
       "  <tbody>\n",
       "    <tr>\n",
       "      <th>0</th>\n",
       "      <td>1461</td>\n",
       "      <td>20</td>\n",
       "      <td>RH</td>\n",
       "      <td>80.0</td>\n",
       "      <td>11622</td>\n",
       "      <td>Pave</td>\n",
       "      <td>NaN</td>\n",
       "      <td>Reg</td>\n",
       "      <td>Lvl</td>\n",
       "      <td>AllPub</td>\n",
       "      <td>...</td>\n",
       "      <td>120</td>\n",
       "      <td>0</td>\n",
       "      <td>NaN</td>\n",
       "      <td>MnPrv</td>\n",
       "      <td>NaN</td>\n",
       "      <td>0</td>\n",
       "      <td>6</td>\n",
       "      <td>2010</td>\n",
       "      <td>WD</td>\n",
       "      <td>Normal</td>\n",
       "    </tr>\n",
       "    <tr>\n",
       "      <th>1</th>\n",
       "      <td>1462</td>\n",
       "      <td>20</td>\n",
       "      <td>RL</td>\n",
       "      <td>81.0</td>\n",
       "      <td>14267</td>\n",
       "      <td>Pave</td>\n",
       "      <td>NaN</td>\n",
       "      <td>IR1</td>\n",
       "      <td>Lvl</td>\n",
       "      <td>AllPub</td>\n",
       "      <td>...</td>\n",
       "      <td>0</td>\n",
       "      <td>0</td>\n",
       "      <td>NaN</td>\n",
       "      <td>NaN</td>\n",
       "      <td>Gar2</td>\n",
       "      <td>12500</td>\n",
       "      <td>6</td>\n",
       "      <td>2010</td>\n",
       "      <td>WD</td>\n",
       "      <td>Normal</td>\n",
       "    </tr>\n",
       "    <tr>\n",
       "      <th>2</th>\n",
       "      <td>1463</td>\n",
       "      <td>60</td>\n",
       "      <td>RL</td>\n",
       "      <td>74.0</td>\n",
       "      <td>13830</td>\n",
       "      <td>Pave</td>\n",
       "      <td>NaN</td>\n",
       "      <td>IR1</td>\n",
       "      <td>Lvl</td>\n",
       "      <td>AllPub</td>\n",
       "      <td>...</td>\n",
       "      <td>0</td>\n",
       "      <td>0</td>\n",
       "      <td>NaN</td>\n",
       "      <td>MnPrv</td>\n",
       "      <td>NaN</td>\n",
       "      <td>0</td>\n",
       "      <td>3</td>\n",
       "      <td>2010</td>\n",
       "      <td>WD</td>\n",
       "      <td>Normal</td>\n",
       "    </tr>\n",
       "    <tr>\n",
       "      <th>3</th>\n",
       "      <td>1464</td>\n",
       "      <td>60</td>\n",
       "      <td>RL</td>\n",
       "      <td>78.0</td>\n",
       "      <td>9978</td>\n",
       "      <td>Pave</td>\n",
       "      <td>NaN</td>\n",
       "      <td>IR1</td>\n",
       "      <td>Lvl</td>\n",
       "      <td>AllPub</td>\n",
       "      <td>...</td>\n",
       "      <td>0</td>\n",
       "      <td>0</td>\n",
       "      <td>NaN</td>\n",
       "      <td>NaN</td>\n",
       "      <td>NaN</td>\n",
       "      <td>0</td>\n",
       "      <td>6</td>\n",
       "      <td>2010</td>\n",
       "      <td>WD</td>\n",
       "      <td>Normal</td>\n",
       "    </tr>\n",
       "    <tr>\n",
       "      <th>4</th>\n",
       "      <td>1465</td>\n",
       "      <td>120</td>\n",
       "      <td>RL</td>\n",
       "      <td>43.0</td>\n",
       "      <td>5005</td>\n",
       "      <td>Pave</td>\n",
       "      <td>NaN</td>\n",
       "      <td>IR1</td>\n",
       "      <td>HLS</td>\n",
       "      <td>AllPub</td>\n",
       "      <td>...</td>\n",
       "      <td>144</td>\n",
       "      <td>0</td>\n",
       "      <td>NaN</td>\n",
       "      <td>NaN</td>\n",
       "      <td>NaN</td>\n",
       "      <td>0</td>\n",
       "      <td>1</td>\n",
       "      <td>2010</td>\n",
       "      <td>WD</td>\n",
       "      <td>Normal</td>\n",
       "    </tr>\n",
       "  </tbody>\n",
       "</table>\n",
       "<p>5 rows × 80 columns</p>\n",
       "</div>"
      ],
      "text/plain": [
       "     Id  MSSubClass MSZoning  LotFrontage  LotArea Street Alley LotShape  \\\n",
       "0  1461          20       RH         80.0    11622   Pave   NaN      Reg   \n",
       "1  1462          20       RL         81.0    14267   Pave   NaN      IR1   \n",
       "2  1463          60       RL         74.0    13830   Pave   NaN      IR1   \n",
       "3  1464          60       RL         78.0     9978   Pave   NaN      IR1   \n",
       "4  1465         120       RL         43.0     5005   Pave   NaN      IR1   \n",
       "\n",
       "  LandContour Utilities  ... ScreenPorch PoolArea PoolQC  Fence MiscFeature  \\\n",
       "0         Lvl    AllPub  ...         120        0    NaN  MnPrv         NaN   \n",
       "1         Lvl    AllPub  ...           0        0    NaN    NaN        Gar2   \n",
       "2         Lvl    AllPub  ...           0        0    NaN  MnPrv         NaN   \n",
       "3         Lvl    AllPub  ...           0        0    NaN    NaN         NaN   \n",
       "4         HLS    AllPub  ...         144        0    NaN    NaN         NaN   \n",
       "\n",
       "  MiscVal MoSold  YrSold  SaleType  SaleCondition  \n",
       "0       0      6    2010        WD         Normal  \n",
       "1   12500      6    2010        WD         Normal  \n",
       "2       0      3    2010        WD         Normal  \n",
       "3       0      6    2010        WD         Normal  \n",
       "4       0      1    2010        WD         Normal  \n",
       "\n",
       "[5 rows x 80 columns]"
      ]
     },
     "execution_count": 4,
     "metadata": {},
     "output_type": "execute_result"
    }
   ],
   "source": [
    "test.head()"
   ]
  },
  {
   "cell_type": "code",
   "execution_count": 5,
   "id": "187c5a84",
   "metadata": {
    "execution": {
     "iopub.execute_input": "2022-08-31T02:52:59.789174Z",
     "iopub.status.busy": "2022-08-31T02:52:59.788265Z",
     "iopub.status.idle": "2022-08-31T02:52:59.798363Z",
     "shell.execute_reply": "2022-08-31T02:52:59.797402Z"
    },
    "papermill": {
     "duration": 0.035784,
     "end_time": "2022-08-31T02:52:59.800926",
     "exception": false,
     "start_time": "2022-08-31T02:52:59.765142",
     "status": "completed"
    },
    "tags": []
   },
   "outputs": [],
   "source": [
    "train_ID = train['Id']\n",
    "test_ID = test['Id']"
   ]
  },
  {
   "cell_type": "markdown",
   "id": "d22b8ad6",
   "metadata": {
    "papermill": {
     "duration": 0.022208,
     "end_time": "2022-08-31T02:52:59.845750",
     "exception": false,
     "start_time": "2022-08-31T02:52:59.823542",
     "status": "completed"
    },
    "tags": []
   },
   "source": [
    "### Drop the  'Id' colum since it's unnecessary for  the prediction process."
   ]
  },
  {
   "cell_type": "code",
   "execution_count": 6,
   "id": "770c09bf",
   "metadata": {
    "execution": {
     "iopub.execute_input": "2022-08-31T02:52:59.891386Z",
     "iopub.status.busy": "2022-08-31T02:52:59.890934Z",
     "iopub.status.idle": "2022-08-31T02:53:03.886753Z",
     "shell.execute_reply": "2022-08-31T02:53:03.885431Z"
    },
    "papermill": {
     "duration": 4.025343,
     "end_time": "2022-08-31T02:53:03.892856",
     "exception": false,
     "start_time": "2022-08-31T02:52:59.867513",
     "status": "completed"
    },
    "tags": []
   },
   "outputs": [
    {
     "name": "stderr",
     "output_type": "stream",
     "text": [
      "/opt/conda/lib/python3.7/site-packages/ipykernel_launcher.py:5: DeprecationWarning: `np.bool` is a deprecated alias for the builtin `bool`. To silence this warning, use `bool` by itself. Doing this will not modify any behavior and is safe. If you specifically wanted the numpy scalar type, use `np.bool_` here.\n",
      "Deprecated in NumPy 1.20; for more details and guidance: https://numpy.org/devdocs/release/1.20.0-notes.html#deprecations\n",
      "  \"\"\"\n"
     ]
    },
    {
     "data": {
      "image/png": "[encoded data removed]",
      "text/plain": [
       "<Figure size 1728x936 with 2 Axes>"
      ]
     },
     "metadata": {
      "needs_background": "light"
     },
     "output_type": "display_data"
    }
   ],
   "source": [
    "plt.figure(figsize=(24,13))\n",
    "d = train.drop(\"Id\",axis=1)\n",
    "corr = d.corr()\n",
    "\n",
    "mask = np.zeros_like(corr, dtype=np.bool)\n",
    "mask[np.triu_indices_from(mask)] = True\n",
    "\n",
    "sns.heatmap(corr, annot=True, fmt=\".2f\", mask=mask);"
   ]
  },
  {
   "cell_type": "code",
   "execution_count": 7,
   "id": "53fa8779",
   "metadata": {
    "execution": {
     "iopub.execute_input": "2022-08-31T02:53:03.948564Z",
     "iopub.status.busy": "2022-08-31T02:53:03.948121Z",
     "iopub.status.idle": "2022-08-31T02:53:03.958107Z",
     "shell.execute_reply": "2022-08-31T02:53:03.957137Z"
    },
    "papermill": {
     "duration": 0.04051,
     "end_time": "2022-08-31T02:53:03.960431",
     "exception": false,
     "start_time": "2022-08-31T02:53:03.919921",
     "status": "completed"
    },
    "tags": []
   },
   "outputs": [],
   "source": [
    "train.drop(\"Id\", axis = 1, inplace = True)\n",
    "test.drop(\"Id\", axis = 1, inplace = True)"
   ]
  },
  {
   "cell_type": "markdown",
   "id": "90b15de5",
   "metadata": {
    "papermill": {
     "duration": 0.025999,
     "end_time": "2022-08-31T02:53:04.012790",
     "exception": false,
     "start_time": "2022-08-31T02:53:03.986791",
     "status": "completed"
    },
    "tags": []
   },
   "source": [
    "## Data Processing"
   ]
  },
  {
   "cell_type": "markdown",
   "id": "765673d4",
   "metadata": {
    "papermill": {
     "duration": 0.025947,
     "end_time": "2022-08-31T02:53:04.064940",
     "exception": false,
     "start_time": "2022-08-31T02:53:04.038993",
     "status": "completed"
    },
    "tags": []
   },
   "source": [
    "Documentation for the Ames Housing Data indicates that there are outliers present in the training data"
   ]
  },
  {
   "cell_type": "code",
   "execution_count": 8,
   "id": "31b2edeb",
   "metadata": {
    "execution": {
     "iopub.execute_input": "2022-08-31T02:53:04.119781Z",
     "iopub.status.busy": "2022-08-31T02:53:04.119092Z",
     "iopub.status.idle": "2022-08-31T02:53:04.318696Z",
     "shell.execute_reply": "2022-08-31T02:53:04.317429Z"
    },
    "papermill": {
     "duration": 0.230052,
     "end_time": "2022-08-31T02:53:04.321254",
     "exception": false,
     "start_time": "2022-08-31T02:53:04.091202",
     "status": "completed"
    },
    "tags": []
   },
   "outputs": [
    {
     "data": {
      "image/png": "[encoded data removed]",
      "text/plain": [
       "<Figure size 432x288 with 1 Axes>"
      ]
     },
     "metadata": {
      "needs_background": "light"
     },
     "output_type": "display_data"
    }
   ],
   "source": [
    "fig, ax = plt.subplots()\n",
    "ax.scatter(x = train['GrLivArea'], y = train['SalePrice'])\n",
    "plt.ylabel('SalePrice', fontsize=13)\n",
    "plt.xlabel('GrLivArea', fontsize=13)\n",
    "plt.show()"
   ]
  },
  {
   "cell_type": "markdown",
   "id": "4673f178",
   "metadata": {
    "papermill": {
     "duration": 0.026237,
     "end_time": "2022-08-31T02:53:04.374236",
     "exception": false,
     "start_time": "2022-08-31T02:53:04.347999",
     "status": "completed"
    },
    "tags": []
   },
   "source": [
    "We can see at the bottom right two with extremely large GrLivArea that are of a low price. These values are huge oultliers. Therefore, we will safely delete them."
   ]
  },
  {
   "cell_type": "code",
   "execution_count": 9,
   "id": "9a8a62e4",
   "metadata": {
    "execution": {
     "iopub.execute_input": "2022-08-31T02:53:04.429869Z",
     "iopub.status.busy": "2022-08-31T02:53:04.429020Z",
     "iopub.status.idle": "2022-08-31T02:53:04.437842Z",
     "shell.execute_reply": "2022-08-31T02:53:04.436824Z"
    },
    "papermill": {
     "duration": 0.039532,
     "end_time": "2022-08-31T02:53:04.440375",
     "exception": false,
     "start_time": "2022-08-31T02:53:04.400843",
     "status": "completed"
    },
    "tags": []
   },
   "outputs": [],
   "source": [
    "train = train.drop(train[(train['GrLivArea']>4000) & (train['SalePrice']<300000)].index)"
   ]
  },
  {
   "cell_type": "markdown",
   "id": "7e885ddb",
   "metadata": {
    "papermill": {
     "duration": 0.02741,
     "end_time": "2022-08-31T02:53:04.495529",
     "exception": false,
     "start_time": "2022-08-31T02:53:04.468119",
     "status": "completed"
    },
    "tags": []
   },
   "source": [
    "now plotting again"
   ]
  },
  {
   "cell_type": "code",
   "execution_count": 10,
   "id": "49e475c6",
   "metadata": {
    "execution": {
     "iopub.execute_input": "2022-08-31T02:53:04.551609Z",
     "iopub.status.busy": "2022-08-31T02:53:04.550880Z",
     "iopub.status.idle": "2022-08-31T02:53:04.873216Z",
     "shell.execute_reply": "2022-08-31T02:53:04.871867Z"
    },
    "papermill": {
     "duration": 0.353685,
     "end_time": "2022-08-31T02:53:04.876082",
     "exception": false,
     "start_time": "2022-08-31T02:53:04.522397",
     "status": "completed"
    },
    "tags": []
   },
   "outputs": [
    {
     "data": {
      "image/png": "[encoded data removed]",
      "text/plain": [
       "<Figure size 432x288 with 1 Axes>"
      ]
     },
     "metadata": {
      "needs_background": "light"
     },
     "output_type": "display_data"
    }
   ],
   "source": [
    "fig, ax = plt.subplots()\n",
    "ax.scatter(train['GrLivArea'], train['SalePrice'])\n",
    "plt.ylabel('SalePrice', fontsize=13)\n",
    "plt.xlabel('GrLivArea', fontsize=13)\n",
    "plt.show()"
   ]
  },
  {
   "cell_type": "code",
   "execution_count": 11,
   "id": "a2ee0539",
   "metadata": {
    "execution": {
     "iopub.execute_input": "2022-08-31T02:53:04.933264Z",
     "iopub.status.busy": "2022-08-31T02:53:04.932521Z",
     "iopub.status.idle": "2022-08-31T02:53:04.953224Z",
     "shell.execute_reply": "2022-08-31T02:53:04.952275Z"
    },
    "papermill": {
     "duration": 0.052629,
     "end_time": "2022-08-31T02:53:04.955849",
     "exception": false,
     "start_time": "2022-08-31T02:53:04.903220",
     "status": "completed"
    },
    "tags": []
   },
   "outputs": [
    {
     "data": {
      "text/plain": [
       "Index(['LotFrontage', 'MasVnrArea', 'GarageYrBlt'], dtype='object')"
      ]
     },
     "execution_count": 11,
     "metadata": {},
     "output_type": "execute_result"
    }
   ],
   "source": [
    "numeric_na_features = train.select_dtypes(np.number).loc[:, train.isna().sum() > 0].columns\n",
    "numeric_na_features"
   ]
  },
  {
   "cell_type": "code",
   "execution_count": 12,
   "id": "5504e116",
   "metadata": {
    "execution": {
     "iopub.execute_input": "2022-08-31T02:53:05.014266Z",
     "iopub.status.busy": "2022-08-31T02:53:05.013459Z",
     "iopub.status.idle": "2022-08-31T02:53:05.523787Z",
     "shell.execute_reply": "2022-08-31T02:53:05.522440Z"
    },
    "papermill": {
     "duration": 0.543065,
     "end_time": "2022-08-31T02:53:05.527050",
     "exception": false,
     "start_time": "2022-08-31T02:53:04.983985",
     "status": "completed"
    },
    "tags": []
   },
   "outputs": [
    {
     "data": {
      "image/png": "[encoded data removed]",
      "text/plain": [
       "<Figure size 432x288 with 1 Axes>"
      ]
     },
     "metadata": {
      "needs_background": "light"
     },
     "output_type": "display_data"
    },
    {
     "name": "stderr",
     "output_type": "stream",
     "text": [
      "/opt/conda/lib/python3.7/site-packages/pandas/core/arraylike.py:364: RuntimeWarning: divide by zero encountered in log\n",
      "  result = getattr(ufunc, method)(*inputs, **kwargs)\n",
      "/opt/conda/lib/python3.7/site-packages/numpy/lib/function_base.py:4009: RuntimeWarning: invalid value encountered in subtract\n",
      "  diff_b_a = subtract(b, a)\n",
      "/opt/conda/lib/python3.7/site-packages/matplotlib/cbook/__init__.py:1220: RuntimeWarning: invalid value encountered in less_equal\n",
      "  wiskhi = x[x <= hival]\n",
      "/opt/conda/lib/python3.7/site-packages/matplotlib/cbook/__init__.py:1227: RuntimeWarning: invalid value encountered in greater_equal\n",
      "  wisklo = x[x >= loval]\n",
      "/opt/conda/lib/python3.7/site-packages/matplotlib/cbook/__init__.py:1235: RuntimeWarning: invalid value encountered in less\n",
      "  x[x < stats['whislo']],\n"
     ]
    },
    {
     "data": {
      "image/png": "[encoded data removed]",
      "text/plain": [
       "<Figure size 432x288 with 1 Axes>"
      ]
     },
     "metadata": {
      "needs_background": "light"
     },
     "output_type": "display_data"
    },
    {
     "data": {
      "image/png": "[encoded data removed]",
      "text/plain": [
       "<Figure size 432x288 with 1 Axes>"
      ]
     },
     "metadata": {
      "needs_background": "light"
     },
     "output_type": "display_data"
    }
   ],
   "source": [
    "for feature in numeric_na_features:\n",
    "    df = train.copy()\n",
    "    df[feature] = np.log(df[feature])\n",
    "    df.boxplot(column=feature)\n",
    "    plt.ylabel(feature)\n",
    "    plt.title(f\"{feature}'s Outliers'\")\n",
    "    plt.show()"
   ]
  },
  {
   "cell_type": "markdown",
   "id": "15d58700",
   "metadata": {
    "papermill": {
     "duration": 0.028318,
     "end_time": "2022-08-31T02:53:05.583751",
     "exception": false,
     "start_time": "2022-08-31T02:53:05.555433",
     "status": "completed"
    },
    "tags": []
   },
   "source": [
    "SalePrice is the variable we need to predict"
   ]
  },
  {
   "cell_type": "code",
   "execution_count": 13,
   "id": "5a2da4ca",
   "metadata": {
    "execution": {
     "iopub.execute_input": "2022-08-31T02:53:05.642822Z",
     "iopub.status.busy": "2022-08-31T02:53:05.642408Z",
     "iopub.status.idle": "2022-08-31T02:53:06.409007Z",
     "shell.execute_reply": "2022-08-31T02:53:06.407788Z"
    },
    "papermill": {
     "duration": 0.799314,
     "end_time": "2022-08-31T02:53:06.411886",
     "exception": false,
     "start_time": "2022-08-31T02:53:05.612572",
     "status": "completed"
    },
    "tags": []
   },
   "outputs": [
    {
     "name": "stderr",
     "output_type": "stream",
     "text": [
      "/opt/conda/lib/python3.7/site-packages/seaborn/distributions.py:2619: FutureWarning: `distplot` is a deprecated function and will be removed in a future version. Please adapt your code to use either `displot` (a figure-level function with similar flexibility) or `histplot` (an axes-level function for histograms).\n",
      "  warnings.warn(msg, FutureWarning)\n"
     ]
    },
    {
     "name": "stdout",
     "output_type": "stream",
     "text": [
      "\n",
      " mu = 180932.92 and sigma = 79467.79\n",
      "\n"
     ]
    },
    {
     "data": {
      "image/png": "[encoded data removed]",
      "text/plain": [
       "<Figure size 432x288 with 1 Axes>"
      ]
     },
     "metadata": {
      "needs_background": "light"
     },
     "output_type": "display_data"
    },
    {
     "data": {
      "image/png": "[encoded data removed]",
      "text/plain": [
       "<Figure size 432x288 with 1 Axes>"
      ]
     },
     "metadata": {
      "needs_background": "light"
     },
     "output_type": "display_data"
    }
   ],
   "source": [
    "sns.distplot(train['SalePrice'] , fit=norm);\n",
    "\n",
    "# Get the fitted parameters used by the function\n",
    "(mu, sigma) = norm.fit(train['SalePrice'])\n",
    "print( '\\n mu = {:.2f} and sigma = {:.2f}\\n'.format(mu, sigma))\n",
    "#Now plot the distribution\n",
    "plt.legend(['Normal dist. ($\\mu=$ {:.2f} and $\\sigma=$ {:.2f} )'.format(mu, sigma)],\n",
    "            loc='best')\n",
    "plt.ylabel('Frequency')\n",
    "plt.title('SalePrice distribution')\n",
    "\n",
    "#Get also the QQ-plot\n",
    "fig = plt.figure()\n",
    "res = stats.probplot(train['SalePrice'], plot=plt)\n",
    "plt.show()"
   ]
  },
  {
   "cell_type": "markdown",
   "id": "a154b7c7",
   "metadata": {
    "papermill": {
     "duration": 0.029542,
     "end_time": "2022-08-31T02:53:06.470422",
     "exception": false,
     "start_time": "2022-08-31T02:53:06.440880",
     "status": "completed"
    },
    "tags": []
   },
   "source": [
    "### log transformation of the target variable"
   ]
  },
  {
   "cell_type": "markdown",
   "id": "c96ce0f8",
   "metadata": {
    "papermill": {
     "duration": 0.029042,
     "end_time": "2022-08-31T02:53:06.528913",
     "exception": false,
     "start_time": "2022-08-31T02:53:06.499871",
     "status": "completed"
    },
    "tags": []
   },
   "source": [
    "We use the numpy fuction log1p which  applies log(1+x) to all elements of the column"
   ]
  },
  {
   "cell_type": "code",
   "execution_count": 14,
   "id": "51209f5c",
   "metadata": {
    "execution": {
     "iopub.execute_input": "2022-08-31T02:53:06.590236Z",
     "iopub.status.busy": "2022-08-31T02:53:06.588959Z",
     "iopub.status.idle": "2022-08-31T02:53:06.595447Z",
     "shell.execute_reply": "2022-08-31T02:53:06.594375Z"
    },
    "papermill": {
     "duration": 0.039841,
     "end_time": "2022-08-31T02:53:06.597756",
     "exception": false,
     "start_time": "2022-08-31T02:53:06.557915",
     "status": "completed"
    },
    "tags": []
   },
   "outputs": [],
   "source": [
    "train[\"SalePrice\"] = np.log1p(train[\"SalePrice\"])"
   ]
  },
  {
   "cell_type": "markdown",
   "id": "09236095",
   "metadata": {
    "papermill": {
     "duration": 0.029349,
     "end_time": "2022-08-31T02:53:06.656443",
     "exception": false,
     "start_time": "2022-08-31T02:53:06.627094",
     "status": "completed"
    },
    "tags": []
   },
   "source": [
    "Checking the new distribution "
   ]
  },
  {
   "cell_type": "code",
   "execution_count": 15,
   "id": "000375dc",
   "metadata": {
    "execution": {
     "iopub.execute_input": "2022-08-31T02:53:06.718299Z",
     "iopub.status.busy": "2022-08-31T02:53:06.717510Z",
     "iopub.status.idle": "2022-08-31T02:53:07.249315Z",
     "shell.execute_reply": "2022-08-31T02:53:07.247990Z"
    },
    "papermill": {
     "duration": 0.56601,
     "end_time": "2022-08-31T02:53:07.252005",
     "exception": false,
     "start_time": "2022-08-31T02:53:06.685995",
     "status": "completed"
    },
    "tags": []
   },
   "outputs": [
    {
     "name": "stderr",
     "output_type": "stream",
     "text": [
      "/opt/conda/lib/python3.7/site-packages/seaborn/distributions.py:2619: FutureWarning: `distplot` is a deprecated function and will be removed in a future version. Please adapt your code to use either `displot` (a figure-level function with similar flexibility) or `histplot` (an axes-level function for histograms).\n",
      "  warnings.warn(msg, FutureWarning)\n"
     ]
    },
    {
     "name": "stdout",
     "output_type": "stream",
     "text": [
      "\n",
      " mu = 12.02 and sigma = 0.40\n",
      "\n"
     ]
    },
    {
     "data": {
      "image/png": "[encoded data removed]",
      "text/plain": [
       "<Figure size 432x288 with 1 Axes>"
      ]
     },
     "metadata": {
      "needs_background": "light"
     },
     "output_type": "display_data"
    },
    {
     "data": {
      "image/png": "[encoded data removed]",
      "text/plain": [
       "<Figure size 432x288 with 1 Axes>"
      ]
     },
     "metadata": {
      "needs_background": "light"
     },
     "output_type": "display_data"
    }
   ],
   "source": [
    "sns.distplot(train['SalePrice'] , fit=norm);\n",
    "# Get the fitted parameters used by the function\n",
    "(mu, sigma) = norm.fit(train['SalePrice'])\n",
    "print( '\\n mu = {:.2f} and sigma = {:.2f}\\n'.format(mu, sigma))\n",
    "\n",
    "#Now plot the distribution\n",
    "plt.legend(['Normal dist. ($\\mu=$ {:.2f} and $\\sigma=$ {:.2f} )'.format(mu, sigma)],\n",
    "            loc='best')\n",
    "plt.ylabel('Frequency')\n",
    "plt.title('SalePrice distribution')\n",
    "\n",
    "#Get also the QQ-plot\n",
    "fig = plt.figure()\n",
    "res = stats.probplot(train['SalePrice'], plot=plt)\n",
    "plt.show()"
   ]
  },
  {
   "cell_type": "markdown",
   "id": "531e8f2e",
   "metadata": {
    "execution": {
     "iopub.execute_input": "2022-08-30T16:59:50.852084Z",
     "iopub.status.busy": "2022-08-30T16:59:50.851501Z",
     "iopub.status.idle": "2022-08-30T16:59:50.857370Z",
     "shell.execute_reply": "2022-08-30T16:59:50.856100Z",
     "shell.execute_reply.started": "2022-08-30T16:59:50.852032Z"
    },
    "papermill": {
     "duration": 0.030332,
     "end_time": "2022-08-31T02:53:07.312621",
     "exception": false,
     "start_time": "2022-08-31T02:53:07.282289",
     "status": "completed"
    },
    "tags": []
   },
   "source": [
    "## Feature Engineering"
   ]
  },
  {
   "cell_type": "code",
   "execution_count": 16,
   "id": "5bf6ddb6",
   "metadata": {
    "execution": {
     "iopub.execute_input": "2022-08-31T02:53:07.375074Z",
     "iopub.status.busy": "2022-08-31T02:53:07.374668Z",
     "iopub.status.idle": "2022-08-31T02:53:07.408745Z",
     "shell.execute_reply": "2022-08-31T02:53:07.407309Z"
    },
    "papermill": {
     "duration": 0.068024,
     "end_time": "2022-08-31T02:53:07.411318",
     "exception": false,
     "start_time": "2022-08-31T02:53:07.343294",
     "status": "completed"
    },
    "tags": []
   },
   "outputs": [
    {
     "name": "stdout",
     "output_type": "stream",
     "text": [
      "all_data size is : (2917, 79)\n"
     ]
    }
   ],
   "source": [
    "ntrain = train.shape[0]\n",
    "ntest = test.shape[0]\n",
    "y_train = train.SalePrice.values\n",
    "all_data = pd.concat((train, test)).reset_index(drop=True)\n",
    "all_data.drop(['SalePrice'], axis=1, inplace=True)\n",
    "print(\"all_data size is : {}\".format(all_data.shape))"
   ]
  },
  {
   "cell_type": "markdown",
   "id": "1ac44405",
   "metadata": {
    "papermill": {
     "duration": 0.029942,
     "end_time": "2022-08-31T02:53:07.471340",
     "exception": false,
     "start_time": "2022-08-31T02:53:07.441398",
     "status": "completed"
    },
    "tags": []
   },
   "source": [
    "missing data"
   ]
  },
  {
   "cell_type": "code",
   "execution_count": 17,
   "id": "83382bee",
   "metadata": {
    "execution": {
     "iopub.execute_input": "2022-08-31T02:53:07.532983Z",
     "iopub.status.busy": "2022-08-31T02:53:07.532593Z",
     "iopub.status.idle": "2022-08-31T02:53:07.556162Z",
     "shell.execute_reply": "2022-08-31T02:53:07.555185Z"
    },
    "papermill": {
     "duration": 0.058116,
     "end_time": "2022-08-31T02:53:07.559345",
     "exception": false,
     "start_time": "2022-08-31T02:53:07.501229",
     "status": "completed"
    },
    "tags": []
   },
   "outputs": [
    {
     "data": {
      "text/html": [
       "<div>\n",
       "<style scoped>\n",
       "    .dataframe tbody tr th:only-of-type {\n",
       "        vertical-align: middle;\n",
       "    }\n",
       "\n",
       "    .dataframe tbody tr th {\n",
       "        vertical-align: top;\n",
       "    }\n",
       "\n",
       "    .dataframe thead th {\n",
       "        text-align: right;\n",
       "    }\n",
       "</style>\n",
       "<table border=\"1\" class=\"dataframe\">\n",
       "  <thead>\n",
       "    <tr style=\"text-align: right;\">\n",
       "      <th></th>\n",
       "      <th>Missing Ratio</th>\n",
       "    </tr>\n",
       "  </thead>\n",
       "  <tbody>\n",
       "    <tr>\n",
       "      <th>PoolQC</th>\n",
       "      <td>99.691464</td>\n",
       "    </tr>\n",
       "    <tr>\n",
       "      <th>MiscFeature</th>\n",
       "      <td>96.400411</td>\n",
       "    </tr>\n",
       "    <tr>\n",
       "      <th>Alley</th>\n",
       "      <td>93.212204</td>\n",
       "    </tr>\n",
       "    <tr>\n",
       "      <th>Fence</th>\n",
       "      <td>80.425094</td>\n",
       "    </tr>\n",
       "    <tr>\n",
       "      <th>FireplaceQu</th>\n",
       "      <td>48.680151</td>\n",
       "    </tr>\n",
       "    <tr>\n",
       "      <th>LotFrontage</th>\n",
       "      <td>16.660953</td>\n",
       "    </tr>\n",
       "    <tr>\n",
       "      <th>GarageFinish</th>\n",
       "      <td>5.450806</td>\n",
       "    </tr>\n",
       "    <tr>\n",
       "      <th>GarageQual</th>\n",
       "      <td>5.450806</td>\n",
       "    </tr>\n",
       "    <tr>\n",
       "      <th>GarageCond</th>\n",
       "      <td>5.450806</td>\n",
       "    </tr>\n",
       "    <tr>\n",
       "      <th>GarageYrBlt</th>\n",
       "      <td>5.450806</td>\n",
       "    </tr>\n",
       "    <tr>\n",
       "      <th>GarageType</th>\n",
       "      <td>5.382242</td>\n",
       "    </tr>\n",
       "    <tr>\n",
       "      <th>BsmtExposure</th>\n",
       "      <td>2.811107</td>\n",
       "    </tr>\n",
       "    <tr>\n",
       "      <th>BsmtCond</th>\n",
       "      <td>2.811107</td>\n",
       "    </tr>\n",
       "    <tr>\n",
       "      <th>BsmtQual</th>\n",
       "      <td>2.776826</td>\n",
       "    </tr>\n",
       "    <tr>\n",
       "      <th>BsmtFinType2</th>\n",
       "      <td>2.742544</td>\n",
       "    </tr>\n",
       "    <tr>\n",
       "      <th>BsmtFinType1</th>\n",
       "      <td>2.708262</td>\n",
       "    </tr>\n",
       "    <tr>\n",
       "      <th>MasVnrType</th>\n",
       "      <td>0.822763</td>\n",
       "    </tr>\n",
       "    <tr>\n",
       "      <th>MasVnrArea</th>\n",
       "      <td>0.788481</td>\n",
       "    </tr>\n",
       "    <tr>\n",
       "      <th>MSZoning</th>\n",
       "      <td>0.137127</td>\n",
       "    </tr>\n",
       "    <tr>\n",
       "      <th>BsmtFullBath</th>\n",
       "      <td>0.068564</td>\n",
       "    </tr>\n",
       "  </tbody>\n",
       "</table>\n",
       "</div>"
      ],
      "text/plain": [
       "              Missing Ratio\n",
       "PoolQC            99.691464\n",
       "MiscFeature       96.400411\n",
       "Alley             93.212204\n",
       "Fence             80.425094\n",
       "FireplaceQu       48.680151\n",
       "LotFrontage       16.660953\n",
       "GarageFinish       5.450806\n",
       "GarageQual         5.450806\n",
       "GarageCond         5.450806\n",
       "GarageYrBlt        5.450806\n",
       "GarageType         5.382242\n",
       "BsmtExposure       2.811107\n",
       "BsmtCond           2.811107\n",
       "BsmtQual           2.776826\n",
       "BsmtFinType2       2.742544\n",
       "BsmtFinType1       2.708262\n",
       "MasVnrType         0.822763\n",
       "MasVnrArea         0.788481\n",
       "MSZoning           0.137127\n",
       "BsmtFullBath       0.068564"
      ]
     },
     "execution_count": 17,
     "metadata": {},
     "output_type": "execute_result"
    }
   ],
   "source": [
    "all_data_na = (all_data.isnull().sum() / len(all_data)) * 100\n",
    "all_data_na = all_data_na.drop(all_data_na[all_data_na == 0].index).sort_values(ascending=False)[:30]\n",
    "missing_data = pd.DataFrame({'Missing Ratio' :all_data_na})\n",
    "missing_data.head(20)"
   ]
  },
  {
   "cell_type": "code",
   "execution_count": 18,
   "id": "b4edecd2",
   "metadata": {
    "execution": {
     "iopub.execute_input": "2022-08-31T02:53:07.644602Z",
     "iopub.status.busy": "2022-08-31T02:53:07.643760Z",
     "iopub.status.idle": "2022-08-31T02:53:08.205941Z",
     "shell.execute_reply": "2022-08-31T02:53:08.204637Z"
    },
    "papermill": {
     "duration": 0.61366,
     "end_time": "2022-08-31T02:53:08.209799",
     "exception": false,
     "start_time": "2022-08-31T02:53:07.596139",
     "status": "completed"
    },
    "tags": []
   },
   "outputs": [
    {
     "data": {
      "text/plain": [
       "Text(0.5, 1.0, 'Percent missing data by feature')"
      ]
     },
     "execution_count": 18,
     "metadata": {},
     "output_type": "execute_result"
    },
    {
     "data": {
      "image/png": "[encoded data removed]",
      "text/plain": [
       "<Figure size 1080x864 with 1 Axes>"
      ]
     },
     "metadata": {
      "needs_background": "light"
     },
     "output_type": "display_data"
    }
   ],
   "source": [
    "f, ax = plt.subplots(figsize=(15, 12))\n",
    "plt.xticks(rotation='90')\n",
    "sns.barplot(x=all_data_na.index, y=all_data_na)\n",
    "plt.xlabel('Features', fontsize=15)\n",
    "plt.ylabel('Percent of missing values', fontsize=15)\n",
    "plt.title('Percent missing data by feature', fontsize=15)"
   ]
  },
  {
   "cell_type": "markdown",
   "id": "a638685b",
   "metadata": {
    "papermill": {
     "duration": 0.031355,
     "end_time": "2022-08-31T02:53:08.276751",
     "exception": false,
     "start_time": "2022-08-31T02:53:08.245396",
     "status": "completed"
    },
    "tags": []
   },
   "source": [
    "data correlation"
   ]
  },
  {
   "cell_type": "code",
   "execution_count": 19,
   "id": "30d69f9d",
   "metadata": {
    "execution": {
     "iopub.execute_input": "2022-08-31T02:53:08.342684Z",
     "iopub.status.busy": "2022-08-31T02:53:08.341462Z",
     "iopub.status.idle": "2022-08-31T02:53:09.406373Z",
     "shell.execute_reply": "2022-08-31T02:53:09.405097Z"
    },
    "papermill": {
     "duration": 1.101375,
     "end_time": "2022-08-31T02:53:09.409857",
     "exception": false,
     "start_time": "2022-08-31T02:53:08.308482",
     "status": "completed"
    },
    "tags": []
   },
   "outputs": [
    {
     "data": {
      "text/plain": [
       "<AxesSubplot:>"
      ]
     },
     "execution_count": 19,
     "metadata": {},
     "output_type": "execute_result"
    },
    {
     "data": {
      "image/png": "[encoded data removed]",
      "text/plain": [
       "<Figure size 864x648 with 2 Axes>"
      ]
     },
     "metadata": {
      "needs_background": "light"
     },
     "output_type": "display_data"
    }
   ],
   "source": [
    "corrmat = train.corr()\n",
    "plt.subplots(figsize=(12,9))\n",
    "sns.heatmap(corrmat, vmax=0.9, square=True)"
   ]
  },
  {
   "cell_type": "markdown",
   "id": "c50c615a",
   "metadata": {
    "papermill": {
     "duration": 0.051008,
     "end_time": "2022-08-31T02:53:09.493654",
     "exception": false,
     "start_time": "2022-08-31T02:53:09.442646",
     "status": "completed"
    },
    "tags": []
   },
   "source": [
    "### Imputing missing values"
   ]
  },
  {
   "cell_type": "code",
   "execution_count": 20,
   "id": "6535bfc4",
   "metadata": {
    "execution": {
     "iopub.execute_input": "2022-08-31T02:53:09.561147Z",
     "iopub.status.busy": "2022-08-31T02:53:09.560750Z",
     "iopub.status.idle": "2022-08-31T02:53:09.571857Z",
     "shell.execute_reply": "2022-08-31T02:53:09.570747Z"
    },
    "papermill": {
     "duration": 0.04783,
     "end_time": "2022-08-31T02:53:09.574182",
     "exception": false,
     "start_time": "2022-08-31T02:53:09.526352",
     "status": "completed"
    },
    "tags": []
   },
   "outputs": [],
   "source": [
    "all_data[\"PoolQC\"] = all_data[\"PoolQC\"].fillna(\"None\")\n",
    "all_data[\"MiscFeature\"] = all_data[\"MiscFeature\"].fillna(\"None\")\n",
    "all_data[\"Alley\"] = all_data[\"Alley\"].fillna(\"None\")\n",
    "all_data[\"Fence\"] = all_data[\"Fence\"].fillna(\"None\")\n",
    "all_data[\"FireplaceQu\"] = all_data[\"FireplaceQu\"].fillna(\"None\")"
   ]
  },
  {
   "cell_type": "markdown",
   "id": "0ae865fa",
   "metadata": {
    "papermill": {
     "duration": 0.032919,
     "end_time": "2022-08-31T02:53:09.640797",
     "exception": false,
     "start_time": "2022-08-31T02:53:09.607878",
     "status": "completed"
    },
    "tags": []
   },
   "source": [
    "Since the area of each street connected to the house property most likely have a similar area to other houses in its neighborhood , we can fill in missing values by the median LotFrontage of the neighborhood."
   ]
  },
  {
   "cell_type": "code",
   "execution_count": 21,
   "id": "b1ba7879",
   "metadata": {
    "execution": {
     "iopub.execute_input": "2022-08-31T02:53:09.708575Z",
     "iopub.status.busy": "2022-08-31T02:53:09.707452Z",
     "iopub.status.idle": "2022-08-31T02:53:09.729299Z",
     "shell.execute_reply": "2022-08-31T02:53:09.728382Z"
    },
    "papermill": {
     "duration": 0.058414,
     "end_time": "2022-08-31T02:53:09.731833",
     "exception": false,
     "start_time": "2022-08-31T02:53:09.673419",
     "status": "completed"
    },
    "tags": []
   },
   "outputs": [],
   "source": [
    "all_data[\"LotFrontage\"] = all_data.groupby(\"Neighborhood\")[\"LotFrontage\"].transform(lambda x: x.fillna(x.median()))"
   ]
  },
  {
   "cell_type": "markdown",
   "id": "d274bcae",
   "metadata": {
    "papermill": {
     "duration": 0.032422,
     "end_time": "2022-08-31T02:53:09.796766",
     "exception": false,
     "start_time": "2022-08-31T02:53:09.764344",
     "status": "completed"
    },
    "tags": []
   },
   "source": [
    "For garaze"
   ]
  },
  {
   "cell_type": "code",
   "execution_count": 22,
   "id": "1bb8c100",
   "metadata": {
    "execution": {
     "iopub.execute_input": "2022-08-31T02:53:09.864511Z",
     "iopub.status.busy": "2022-08-31T02:53:09.863498Z",
     "iopub.status.idle": "2022-08-31T02:53:09.873499Z",
     "shell.execute_reply": "2022-08-31T02:53:09.872577Z"
    },
    "papermill": {
     "duration": 0.046451,
     "end_time": "2022-08-31T02:53:09.875959",
     "exception": false,
     "start_time": "2022-08-31T02:53:09.829508",
     "status": "completed"
    },
    "tags": []
   },
   "outputs": [],
   "source": [
    "for col in ('GarageType', 'GarageFinish', 'GarageQual', 'GarageCond'):\n",
    "    all_data[col] = all_data[col].fillna('None')\n",
    "\n",
    "\n",
    "for col in ('GarageYrBlt', 'GarageArea', 'GarageCars'):\n",
    "    all_data[col] = all_data[col].fillna(0)"
   ]
  },
  {
   "cell_type": "markdown",
   "id": "ac119ab2",
   "metadata": {
    "papermill": {
     "duration": 0.032157,
     "end_time": "2022-08-31T02:53:09.941003",
     "exception": false,
     "start_time": "2022-08-31T02:53:09.908846",
     "status": "completed"
    },
    "tags": []
   },
   "source": [
    "For basement"
   ]
  },
  {
   "cell_type": "code",
   "execution_count": 23,
   "id": "b3d55808",
   "metadata": {
    "execution": {
     "iopub.execute_input": "2022-08-31T02:53:10.009816Z",
     "iopub.status.busy": "2022-08-31T02:53:10.009385Z",
     "iopub.status.idle": "2022-08-31T02:53:10.021585Z",
     "shell.execute_reply": "2022-08-31T02:53:10.020309Z"
    },
    "papermill": {
     "duration": 0.04891,
     "end_time": "2022-08-31T02:53:10.024048",
     "exception": false,
     "start_time": "2022-08-31T02:53:09.975138",
     "status": "completed"
    },
    "tags": []
   },
   "outputs": [],
   "source": [
    "for col in ('BsmtFinSF1', 'BsmtFinSF2', 'BsmtUnfSF','TotalBsmtSF', 'BsmtFullBath', 'BsmtHalfBath'):\n",
    "    all_data[col] = all_data[col].fillna(0)\n",
    "\n",
    "\n",
    "for col in ('BsmtQual', 'BsmtCond', 'BsmtExposure', 'BsmtFinType1', 'BsmtFinType2'):\n",
    "    all_data[col] = all_data[col].fillna('None')"
   ]
  },
  {
   "cell_type": "markdown",
   "id": "f54c164f",
   "metadata": {
    "papermill": {
     "duration": 0.032424,
     "end_time": "2022-08-31T02:53:10.089707",
     "exception": false,
     "start_time": "2022-08-31T02:53:10.057283",
     "status": "completed"
    },
    "tags": []
   },
   "source": [
    "MasVnrArea and MasVnrType"
   ]
  },
  {
   "cell_type": "code",
   "execution_count": 24,
   "id": "0a0e501b",
   "metadata": {
    "execution": {
     "iopub.execute_input": "2022-08-31T02:53:10.157978Z",
     "iopub.status.busy": "2022-08-31T02:53:10.156703Z",
     "iopub.status.idle": "2022-08-31T02:53:10.165112Z",
     "shell.execute_reply": "2022-08-31T02:53:10.164159Z"
    },
    "papermill": {
     "duration": 0.045059,
     "end_time": "2022-08-31T02:53:10.167586",
     "exception": false,
     "start_time": "2022-08-31T02:53:10.122527",
     "status": "completed"
    },
    "tags": []
   },
   "outputs": [],
   "source": [
    "all_data[\"MasVnrType\"] = all_data[\"MasVnrType\"].fillna(\"None\")\n",
    "all_data[\"MasVnrArea\"] = all_data[\"MasVnrArea\"].fillna(0)\n",
    "all_data['MSZoning'] = all_data['MSZoning'].fillna(all_data['MSZoning'].mode()[0])"
   ]
  },
  {
   "cell_type": "markdown",
   "id": "443ef545",
   "metadata": {
    "papermill": {
     "duration": 0.032488,
     "end_time": "2022-08-31T02:53:10.232716",
     "exception": false,
     "start_time": "2022-08-31T02:53:10.200228",
     "status": "completed"
    },
    "tags": []
   },
   "source": [
    "For Utilities, Functional, Electrical, KitchenQual"
   ]
  },
  {
   "cell_type": "code",
   "execution_count": 25,
   "id": "ce08c6a9",
   "metadata": {
    "execution": {
     "iopub.execute_input": "2022-08-31T02:53:10.300209Z",
     "iopub.status.busy": "2022-08-31T02:53:10.299743Z",
     "iopub.status.idle": "2022-08-31T02:53:10.313425Z",
     "shell.execute_reply": "2022-08-31T02:53:10.311618Z"
    },
    "papermill": {
     "duration": 0.050464,
     "end_time": "2022-08-31T02:53:10.315968",
     "exception": false,
     "start_time": "2022-08-31T02:53:10.265504",
     "status": "completed"
    },
    "tags": []
   },
   "outputs": [],
   "source": [
    "all_data = all_data.drop(['Utilities'], axis=1)\n",
    "all_data[\"Functional\"] = all_data[\"Functional\"].fillna(\"Typ\")\n",
    "all_data['Electrical'] = all_data['Electrical'].fillna(all_data['Electrical'].mode()[0])\n",
    "all_data['KitchenQual'] = all_data['KitchenQual'].fillna(all_data['KitchenQual'].mode()[0])"
   ]
  },
  {
   "cell_type": "markdown",
   "id": "f696e0d2",
   "metadata": {
    "papermill": {
     "duration": 0.032705,
     "end_time": "2022-08-31T02:53:10.381546",
     "exception": false,
     "start_time": "2022-08-31T02:53:10.348841",
     "status": "completed"
    },
    "tags": []
   },
   "source": [
    "Exterior1st and Exterior2nd"
   ]
  },
  {
   "cell_type": "code",
   "execution_count": 26,
   "id": "b51f302e",
   "metadata": {
    "execution": {
     "iopub.execute_input": "2022-08-31T02:53:10.449203Z",
     "iopub.status.busy": "2022-08-31T02:53:10.448799Z",
     "iopub.status.idle": "2022-08-31T02:53:10.457298Z",
     "shell.execute_reply": "2022-08-31T02:53:10.456046Z"
    },
    "papermill": {
     "duration": 0.044926,
     "end_time": "2022-08-31T02:53:10.459406",
     "exception": false,
     "start_time": "2022-08-31T02:53:10.414480",
     "status": "completed"
    },
    "tags": []
   },
   "outputs": [],
   "source": [
    "all_data['Exterior1st'] = all_data['Exterior1st'].fillna(all_data['Exterior1st'].mode()[0])\n",
    "all_data['Exterior2nd'] = all_data['Exterior2nd'].fillna(all_data['Exterior2nd'].mode()[0])"
   ]
  },
  {
   "cell_type": "code",
   "execution_count": 27,
   "id": "f7769a50",
   "metadata": {
    "execution": {
     "iopub.execute_input": "2022-08-31T02:53:10.527770Z",
     "iopub.status.busy": "2022-08-31T02:53:10.527022Z",
     "iopub.status.idle": "2022-08-31T02:53:10.533936Z",
     "shell.execute_reply": "2022-08-31T02:53:10.532791Z"
    },
    "papermill": {
     "duration": 0.043442,
     "end_time": "2022-08-31T02:53:10.536256",
     "exception": false,
     "start_time": "2022-08-31T02:53:10.492814",
     "status": "completed"
    },
    "tags": []
   },
   "outputs": [],
   "source": [
    "all_data['SaleType'] = all_data['SaleType'].fillna(all_data['SaleType'].mode()[0])\n",
    "all_data['MSSubClass'] = all_data['MSSubClass'].fillna(\"None\")"
   ]
  },
  {
   "cell_type": "markdown",
   "id": "b008b39b",
   "metadata": {
    "papermill": {
     "duration": 0.03236,
     "end_time": "2022-08-31T02:53:10.601140",
     "exception": false,
     "start_time": "2022-08-31T02:53:10.568780",
     "status": "completed"
    },
    "tags": []
   },
   "source": [
    "checking again the missing ratio"
   ]
  },
  {
   "cell_type": "code",
   "execution_count": 28,
   "id": "1c1647c0",
   "metadata": {
    "execution": {
     "iopub.execute_input": "2022-08-31T02:53:10.668637Z",
     "iopub.status.busy": "2022-08-31T02:53:10.668196Z",
     "iopub.status.idle": "2022-08-31T02:53:10.688354Z",
     "shell.execute_reply": "2022-08-31T02:53:10.687147Z"
    },
    "papermill": {
     "duration": 0.056783,
     "end_time": "2022-08-31T02:53:10.690776",
     "exception": false,
     "start_time": "2022-08-31T02:53:10.633993",
     "status": "completed"
    },
    "tags": []
   },
   "outputs": [
    {
     "data": {
      "text/html": [
       "<div>\n",
       "<style scoped>\n",
       "    .dataframe tbody tr th:only-of-type {\n",
       "        vertical-align: middle;\n",
       "    }\n",
       "\n",
       "    .dataframe tbody tr th {\n",
       "        vertical-align: top;\n",
       "    }\n",
       "\n",
       "    .dataframe thead th {\n",
       "        text-align: right;\n",
       "    }\n",
       "</style>\n",
       "<table border=\"1\" class=\"dataframe\">\n",
       "  <thead>\n",
       "    <tr style=\"text-align: right;\">\n",
       "      <th></th>\n",
       "      <th>Missing Ratio</th>\n",
       "    </tr>\n",
       "  </thead>\n",
       "  <tbody>\n",
       "  </tbody>\n",
       "</table>\n",
       "</div>"
      ],
      "text/plain": [
       "Empty DataFrame\n",
       "Columns: [Missing Ratio]\n",
       "Index: []"
      ]
     },
     "execution_count": 28,
     "metadata": {},
     "output_type": "execute_result"
    }
   ],
   "source": [
    "all_data_na = (all_data.isnull().sum() / len(all_data)) * 100\n",
    "all_data_na = all_data_na.drop(all_data_na[all_data_na == 0].index).sort_values(ascending=False)\n",
    "missing_data = pd.DataFrame({'Missing Ratio' :all_data_na})\n",
    "missing_data.head()"
   ]
  },
  {
   "cell_type": "markdown",
   "id": "80c62109",
   "metadata": {
    "papermill": {
     "duration": 0.032745,
     "end_time": "2022-08-31T02:53:10.756423",
     "exception": false,
     "start_time": "2022-08-31T02:53:10.723678",
     "status": "completed"
    },
    "tags": []
   },
   "source": [
    "Transforming some numerical variables that are really categorical"
   ]
  },
  {
   "cell_type": "code",
   "execution_count": 29,
   "id": "dff7cef6",
   "metadata": {
    "execution": {
     "iopub.execute_input": "2022-08-31T02:53:10.824649Z",
     "iopub.status.busy": "2022-08-31T02:53:10.823738Z",
     "iopub.status.idle": "2022-08-31T02:53:10.840366Z",
     "shell.execute_reply": "2022-08-31T02:53:10.839289Z"
    },
    "papermill": {
     "duration": 0.053698,
     "end_time": "2022-08-31T02:53:10.842968",
     "exception": false,
     "start_time": "2022-08-31T02:53:10.789270",
     "status": "completed"
    },
    "tags": []
   },
   "outputs": [],
   "source": [
    "#MSSubClass=The building class\n",
    "all_data['MSSubClass'] = all_data['MSSubClass'].apply(str)\n",
    "\n",
    "\n",
    "#Changing OverallCond into a categorical variable\n",
    "all_data['OverallCond'] = all_data['OverallCond'].astype(str)\n",
    "\n",
    "\n",
    "#Year and month sold are transformed into categorical features.\n",
    "all_data['YrSold'] = all_data['YrSold'].astype(str)\n",
    "all_data['MoSold'] = all_data['MoSold'].astype(str)"
   ]
  },
  {
   "cell_type": "markdown",
   "id": "e4ae4ab7",
   "metadata": {
    "papermill": {
     "duration": 0.032575,
     "end_time": "2022-08-31T02:53:10.909059",
     "exception": false,
     "start_time": "2022-08-31T02:53:10.876484",
     "status": "completed"
    },
    "tags": []
   },
   "source": [
    "Label Encoding some categorical variables that may contain information in their ordering set"
   ]
  },
  {
   "cell_type": "code",
   "execution_count": 30,
   "id": "bb95406d",
   "metadata": {
    "execution": {
     "iopub.execute_input": "2022-08-31T02:53:10.979984Z",
     "iopub.status.busy": "2022-08-31T02:53:10.978981Z",
     "iopub.status.idle": "2022-08-31T02:53:11.251443Z",
     "shell.execute_reply": "2022-08-31T02:53:11.249846Z"
    },
    "papermill": {
     "duration": 0.311724,
     "end_time": "2022-08-31T02:53:11.254130",
     "exception": false,
     "start_time": "2022-08-31T02:53:10.942406",
     "status": "completed"
    },
    "tags": []
   },
   "outputs": [
    {
     "name": "stdout",
     "output_type": "stream",
     "text": [
      "Shape all_data: (2917, 78)\n"
     ]
    }
   ],
   "source": [
    "from sklearn.preprocessing import LabelEncoder\n",
    "cols = ('FireplaceQu', 'BsmtQual', 'BsmtCond', 'GarageQual', 'GarageCond', \n",
    "        'ExterQual', 'ExterCond','HeatingQC', 'PoolQC', 'KitchenQual', 'BsmtFinType1', \n",
    "        'BsmtFinType2', 'Functional', 'Fence', 'BsmtExposure', 'GarageFinish', 'LandSlope',\n",
    "        'LotShape', 'PavedDrive', 'Street', 'Alley', 'CentralAir', 'MSSubClass', 'OverallCond', \n",
    "        'YrSold', 'MoSold')\n",
    "# process columns, apply LabelEncoder to categorical features\n",
    "for c in cols:\n",
    "    lbl = LabelEncoder()\n",
    "    lbl.fit(list(all_data[c].values))\n",
    "    all_data[c] = lbl.transform(list(all_data[c].values))\n",
    "\n",
    "# shape\n",
    "print('Shape all_data: {}'.format(all_data.shape))"
   ]
  },
  {
   "cell_type": "markdown",
   "id": "92b7ca0c",
   "metadata": {
    "papermill": {
     "duration": 0.032618,
     "end_time": "2022-08-31T02:53:11.320164",
     "exception": false,
     "start_time": "2022-08-31T02:53:11.287546",
     "status": "completed"
    },
    "tags": []
   },
   "source": [
    "### Adding Some Total features"
   ]
  },
  {
   "cell_type": "code",
   "execution_count": 31,
   "id": "43363439",
   "metadata": {
    "execution": {
     "iopub.execute_input": "2022-08-31T02:53:11.387751Z",
     "iopub.status.busy": "2022-08-31T02:53:11.387270Z",
     "iopub.status.idle": "2022-08-31T02:53:11.398634Z",
     "shell.execute_reply": "2022-08-31T02:53:11.397576Z"
    },
    "papermill": {
     "duration": 0.047635,
     "end_time": "2022-08-31T02:53:11.400896",
     "exception": false,
     "start_time": "2022-08-31T02:53:11.353261",
     "status": "completed"
    },
    "tags": []
   },
   "outputs": [],
   "source": [
    "all_data['TotalSF'] = all_data['TotalBsmtSF'] + all_data['1stFlrSF'] + all_data['2ndFlrSF']\n",
    "all_data['Total_Bathrooms'] = (all_data['FullBath'] + (0.5 * all_data['HalfBath']) +\n",
    "                               all_data['BsmtFullBath'] + (0.5 * all_data['BsmtHalfBath']))\n",
    "all_data['Total_porch_sf'] = (all_data['OpenPorchSF'] + all_data['3SsnPorch'] +\n",
    "                              all_data['EnclosedPorch'] + all_data['ScreenPorch'] +\n",
    "                              all_data['WoodDeckSF'])"
   ]
  },
  {
   "cell_type": "markdown",
   "id": "223dd761",
   "metadata": {
    "papermill": {
     "duration": 0.033754,
     "end_time": "2022-08-31T02:53:11.467988",
     "exception": false,
     "start_time": "2022-08-31T02:53:11.434234",
     "status": "completed"
    },
    "tags": []
   },
   "source": [
    "### Deleting some unnecessary features"
   ]
  },
  {
   "cell_type": "code",
   "execution_count": 32,
   "id": "ec7345b7",
   "metadata": {
    "execution": {
     "iopub.execute_input": "2022-08-31T02:53:11.536634Z",
     "iopub.status.busy": "2022-08-31T02:53:11.535917Z",
     "iopub.status.idle": "2022-08-31T02:53:11.553807Z",
     "shell.execute_reply": "2022-08-31T02:53:11.552924Z"
    },
    "papermill": {
     "duration": 0.054626,
     "end_time": "2022-08-31T02:53:11.556362",
     "exception": false,
     "start_time": "2022-08-31T02:53:11.501736",
     "status": "completed"
    },
    "tags": []
   },
   "outputs": [],
   "source": [
    "all_data['haspool'] = all_data['PoolArea'].apply(lambda x: 1 if x > 0 else 0)\n",
    "all_data['hasgarage'] = all_data['GarageArea'].apply(lambda x: 1 if x > 0 else 0)\n",
    "all_data['hasbsmt'] = all_data['TotalBsmtSF'].apply(lambda x: 1 if x > 0 else 0)\n",
    "all_data['hasfireplace'] = all_data['Fireplaces'].apply(lambda x: 1 if x > 0 else 0)\n",
    "\n",
    "\n",
    "# Not normaly distributed can not be normalised and has no central tendecy\n",
    "all_data = all_data.drop(['MasVnrArea', 'OpenPorchSF', 'WoodDeckSF', 'BsmtFinSF1','2ndFlrSF'], axis=1)"
   ]
  },
  {
   "cell_type": "markdown",
   "id": "e84516ce",
   "metadata": {
    "papermill": {
     "duration": 0.033188,
     "end_time": "2022-08-31T02:53:11.623475",
     "exception": false,
     "start_time": "2022-08-31T02:53:11.590287",
     "status": "completed"
    },
    "tags": []
   },
   "source": [
    "### Skewed featured"
   ]
  },
  {
   "cell_type": "code",
   "execution_count": 33,
   "id": "44e685f0",
   "metadata": {
    "execution": {
     "iopub.execute_input": "2022-08-31T02:53:11.691537Z",
     "iopub.status.busy": "2022-08-31T02:53:11.690483Z",
     "iopub.status.idle": "2022-08-31T02:53:11.724002Z",
     "shell.execute_reply": "2022-08-31T02:53:11.722722Z"
    },
    "papermill": {
     "duration": 0.070762,
     "end_time": "2022-08-31T02:53:11.726977",
     "exception": false,
     "start_time": "2022-08-31T02:53:11.656215",
     "status": "completed"
    },
    "tags": []
   },
   "outputs": [
    {
     "name": "stdout",
     "output_type": "stream",
     "text": [
      "\n",
      "Skew in numerical features: \n",
      "\n"
     ]
    },
    {
     "data": {
      "text/html": [
       "<div>\n",
       "<style scoped>\n",
       "    .dataframe tbody tr th:only-of-type {\n",
       "        vertical-align: middle;\n",
       "    }\n",
       "\n",
       "    .dataframe tbody tr th {\n",
       "        vertical-align: top;\n",
       "    }\n",
       "\n",
       "    .dataframe thead th {\n",
       "        text-align: right;\n",
       "    }\n",
       "</style>\n",
       "<table border=\"1\" class=\"dataframe\">\n",
       "  <thead>\n",
       "    <tr style=\"text-align: right;\">\n",
       "      <th></th>\n",
       "      <th>Skew</th>\n",
       "    </tr>\n",
       "  </thead>\n",
       "  <tbody>\n",
       "    <tr>\n",
       "      <th>MiscVal</th>\n",
       "      <td>21.939672</td>\n",
       "    </tr>\n",
       "    <tr>\n",
       "      <th>PoolArea</th>\n",
       "      <td>17.688664</td>\n",
       "    </tr>\n",
       "    <tr>\n",
       "      <th>haspool</th>\n",
       "      <td>15.494756</td>\n",
       "    </tr>\n",
       "    <tr>\n",
       "      <th>LotArea</th>\n",
       "      <td>13.109495</td>\n",
       "    </tr>\n",
       "    <tr>\n",
       "      <th>LowQualFinSF</th>\n",
       "      <td>12.084539</td>\n",
       "    </tr>\n",
       "    <tr>\n",
       "      <th>3SsnPorch</th>\n",
       "      <td>11.372080</td>\n",
       "    </tr>\n",
       "    <tr>\n",
       "      <th>LandSlope</th>\n",
       "      <td>4.973254</td>\n",
       "    </tr>\n",
       "    <tr>\n",
       "      <th>KitchenAbvGr</th>\n",
       "      <td>4.300550</td>\n",
       "    </tr>\n",
       "    <tr>\n",
       "      <th>BsmtFinSF2</th>\n",
       "      <td>4.144503</td>\n",
       "    </tr>\n",
       "    <tr>\n",
       "      <th>EnclosedPorch</th>\n",
       "      <td>4.002344</td>\n",
       "    </tr>\n",
       "  </tbody>\n",
       "</table>\n",
       "</div>"
      ],
      "text/plain": [
       "                    Skew\n",
       "MiscVal        21.939672\n",
       "PoolArea       17.688664\n",
       "haspool        15.494756\n",
       "LotArea        13.109495\n",
       "LowQualFinSF   12.084539\n",
       "3SsnPorch      11.372080\n",
       "LandSlope       4.973254\n",
       "KitchenAbvGr    4.300550\n",
       "BsmtFinSF2      4.144503\n",
       "EnclosedPorch   4.002344"
      ]
     },
     "execution_count": 33,
     "metadata": {},
     "output_type": "execute_result"
    }
   ],
   "source": [
    "numeric_feats = all_data.dtypes[all_data.dtypes != \"object\"].index\n",
    "\n",
    "# Check the skew of all numerical features\n",
    "skewed_feats = all_data[numeric_feats].apply(lambda x: skew(x.dropna())).sort_values(ascending=False)\n",
    "print(\"\\nSkew in numerical features: \\n\")\n",
    "skewness = pd.DataFrame({'Skew' :skewed_feats})\n",
    "skewness.head(10)"
   ]
  },
  {
   "cell_type": "markdown",
   "id": "749729fd",
   "metadata": {
    "papermill": {
     "duration": 0.033702,
     "end_time": "2022-08-31T02:53:11.794867",
     "exception": false,
     "start_time": "2022-08-31T02:53:11.761165",
     "status": "completed"
    },
    "tags": []
   },
   "source": [
    "Box Cox Transformation of (highly) skewed features"
   ]
  },
  {
   "cell_type": "code",
   "execution_count": 34,
   "id": "9674b143",
   "metadata": {
    "execution": {
     "iopub.execute_input": "2022-08-31T02:53:11.864174Z",
     "iopub.status.busy": "2022-08-31T02:53:11.863037Z",
     "iopub.status.idle": "2022-08-31T02:53:11.903007Z",
     "shell.execute_reply": "2022-08-31T02:53:11.901593Z"
    },
    "papermill": {
     "duration": 0.077109,
     "end_time": "2022-08-31T02:53:11.905694",
     "exception": false,
     "start_time": "2022-08-31T02:53:11.828585",
     "status": "completed"
    },
    "tags": []
   },
   "outputs": [
    {
     "name": "stdout",
     "output_type": "stream",
     "text": [
      "There are 60 skewed numerical features to Box Cox transform\n"
     ]
    }
   ],
   "source": [
    "skewness = skewness[abs(skewness) > 0.75]\n",
    "print(\"There are {} skewed numerical features to Box Cox transform\".format(skewness.shape[0]))\n",
    "\n",
    "from scipy.special import boxcox1p\n",
    "skewed_features = skewness.index\n",
    "lam = 0.15\n",
    "for feat in skewed_features:\n",
    "    #all_data[feat] += 1\n",
    "    all_data[feat] = boxcox1p(all_data[feat], lam)"
   ]
  },
  {
   "cell_type": "markdown",
   "id": "562027f6",
   "metadata": {
    "papermill": {
     "duration": 0.034159,
     "end_time": "2022-08-31T02:53:11.973277",
     "exception": false,
     "start_time": "2022-08-31T02:53:11.939118",
     "status": "completed"
    },
    "tags": []
   },
   "source": [
    "Getting dummy categorical features"
   ]
  },
  {
   "cell_type": "code",
   "execution_count": 35,
   "id": "68ac25da",
   "metadata": {
    "execution": {
     "iopub.execute_input": "2022-08-31T02:53:12.043532Z",
     "iopub.status.busy": "2022-08-31T02:53:12.043078Z",
     "iopub.status.idle": "2022-08-31T02:53:12.080262Z",
     "shell.execute_reply": "2022-08-31T02:53:12.078624Z"
    },
    "papermill": {
     "duration": 0.07584,
     "end_time": "2022-08-31T02:53:12.083200",
     "exception": false,
     "start_time": "2022-08-31T02:53:12.007360",
     "status": "completed"
    },
    "tags": []
   },
   "outputs": [
    {
     "name": "stdout",
     "output_type": "stream",
     "text": [
      "(2917, 221)\n"
     ]
    }
   ],
   "source": [
    "all_data = pd.get_dummies(all_data)\n",
    "print(all_data.shape)"
   ]
  },
  {
   "cell_type": "code",
   "execution_count": 36,
   "id": "a2f81aa7",
   "metadata": {
    "execution": {
     "iopub.execute_input": "2022-08-31T02:53:12.151934Z",
     "iopub.status.busy": "2022-08-31T02:53:12.151517Z",
     "iopub.status.idle": "2022-08-31T02:53:12.157811Z",
     "shell.execute_reply": "2022-08-31T02:53:12.156572Z"
    },
    "papermill": {
     "duration": 0.043565,
     "end_time": "2022-08-31T02:53:12.160377",
     "exception": false,
     "start_time": "2022-08-31T02:53:12.116812",
     "status": "completed"
    },
    "tags": []
   },
   "outputs": [],
   "source": [
    "train = all_data[:ntrain]\n",
    "test = all_data[ntrain:]"
   ]
  },
  {
   "cell_type": "markdown",
   "id": "8cc64df4",
   "metadata": {
    "papermill": {
     "duration": 0.033009,
     "end_time": "2022-08-31T02:53:12.226585",
     "exception": false,
     "start_time": "2022-08-31T02:53:12.193576",
     "status": "completed"
    },
    "tags": []
   },
   "source": [
    "## Modelling"
   ]
  },
  {
   "cell_type": "code",
   "execution_count": 37,
   "id": "a75b823d",
   "metadata": {
    "execution": {
     "iopub.execute_input": "2022-08-31T02:53:12.296264Z",
     "iopub.status.busy": "2022-08-31T02:53:12.295467Z",
     "iopub.status.idle": "2022-08-31T02:53:13.800390Z",
     "shell.execute_reply": "2022-08-31T02:53:13.799193Z"
    },
    "papermill": {
     "duration": 1.543245,
     "end_time": "2022-08-31T02:53:13.803447",
     "exception": false,
     "start_time": "2022-08-31T02:53:12.260202",
     "status": "completed"
    },
    "tags": []
   },
   "outputs": [
    {
     "data": {
      "text/html": [
       "<style type='text/css'>\n",
       ".datatable table.frame { margin-bottom: 0; }\n",
       ".datatable table.frame thead { border-bottom: none; }\n",
       ".datatable table.frame tr.coltypes td {  color: #FFFFFF;  line-height: 6px;  padding: 0 0.5em;}\n",
       ".datatable .bool    { background: #DDDD99; }\n",
       ".datatable .object  { background: #565656; }\n",
       ".datatable .int     { background: #5D9E5D; }\n",
       ".datatable .float   { background: #4040CC; }\n",
       ".datatable .str     { background: #CC4040; }\n",
       ".datatable .time    { background: #40CC40; }\n",
       ".datatable .row_index {  background: var(--jp-border-color3);  border-right: 1px solid var(--jp-border-color0);  color: var(--jp-ui-font-color3);  font-size: 9px;}\n",
       ".datatable .frame tbody td { text-align: left; }\n",
       ".datatable .frame tr.coltypes .row_index {  background: var(--jp-border-color0);}\n",
       ".datatable th:nth-child(2) { padding-left: 12px; }\n",
       ".datatable .hellipsis {  color: var(--jp-cell-editor-border-color);}\n",
       ".datatable .vellipsis {  background: var(--jp-layout-color0);  color: var(--jp-cell-editor-border-color);}\n",
       ".datatable .na {  color: var(--jp-cell-editor-border-color);  font-size: 80%;}\n",
       ".datatable .sp {  opacity: 0.25;}\n",
       ".datatable .footer { font-size: 9px; }\n",
       ".datatable .frame_dimensions {  background: var(--jp-border-color3);  border-top: 1px solid var(--jp-border-color0);  color: var(--jp-ui-font-color3);  display: inline-block;  opacity: 0.6;  padding: 1px 10px 1px 5px;}\n",
       "</style>\n"
      ],
      "text/plain": [
       "<IPython.core.display.HTML object>"
      ]
     },
     "metadata": {},
     "output_type": "display_data"
    }
   ],
   "source": [
    "from sklearn.linear_model import ElasticNet, Lasso,  BayesianRidge, LassoLarsIC\n",
    "from sklearn.ensemble import RandomForestRegressor,  GradientBoostingRegressor\n",
    "from sklearn.kernel_ridge import KernelRidge\n",
    "from sklearn.pipeline import make_pipeline\n",
    "from sklearn.preprocessing import RobustScaler\n",
    "from sklearn.base import BaseEstimator, TransformerMixin, RegressorMixin, clone\n",
    "from sklearn.model_selection import KFold, cross_val_score, train_test_split\n",
    "from sklearn.metrics import mean_squared_error\n",
    "import xgboost as xgb\n",
    "import lightgbm as lgb"
   ]
  },
  {
   "cell_type": "markdown",
   "id": "dbe021ee",
   "metadata": {
    "papermill": {
     "duration": 0.033637,
     "end_time": "2022-08-31T02:53:13.870783",
     "exception": false,
     "start_time": "2022-08-31T02:53:13.837146",
     "status": "completed"
    },
    "tags": []
   },
   "source": [
    "Define a cross validation strategy"
   ]
  },
  {
   "cell_type": "code",
   "execution_count": 38,
   "id": "55004f31",
   "metadata": {
    "execution": {
     "iopub.execute_input": "2022-08-31T02:53:13.941500Z",
     "iopub.status.busy": "2022-08-31T02:53:13.940486Z",
     "iopub.status.idle": "2022-08-31T02:53:13.946575Z",
     "shell.execute_reply": "2022-08-31T02:53:13.945692Z"
    },
    "papermill": {
     "duration": 0.044184,
     "end_time": "2022-08-31T02:53:13.948815",
     "exception": false,
     "start_time": "2022-08-31T02:53:13.904631",
     "status": "completed"
    },
    "tags": []
   },
   "outputs": [],
   "source": [
    "n_folds = 5\n",
    "\n",
    "def rmsle_cv(model):\n",
    "    kf = KFold(n_folds, shuffle=True, random_state=42).get_n_splits(train.values)\n",
    "    rmse= np.sqrt(-cross_val_score(model, train.values, y_train, scoring=\"neg_mean_squared_error\", cv = kf))\n",
    "    return(rmse)"
   ]
  },
  {
   "cell_type": "markdown",
   "id": "1d6f2449",
   "metadata": {
    "papermill": {
     "duration": 0.033599,
     "end_time": "2022-08-31T02:53:14.015736",
     "exception": false,
     "start_time": "2022-08-31T02:53:13.982137",
     "status": "completed"
    },
    "tags": []
   },
   "source": [
    "### Base Models"
   ]
  },
  {
   "cell_type": "markdown",
   "id": "f3751af3",
   "metadata": {
    "papermill": {
     "duration": 0.033977,
     "end_time": "2022-08-31T02:53:14.083068",
     "exception": false,
     "start_time": "2022-08-31T02:53:14.049091",
     "status": "completed"
    },
    "tags": []
   },
   "source": [
    "lasso regression"
   ]
  },
  {
   "cell_type": "code",
   "execution_count": 39,
   "id": "4eb1784a",
   "metadata": {
    "execution": {
     "iopub.execute_input": "2022-08-31T02:53:14.153870Z",
     "iopub.status.busy": "2022-08-31T02:53:14.153116Z",
     "iopub.status.idle": "2022-08-31T02:53:14.157861Z",
     "shell.execute_reply": "2022-08-31T02:53:14.157021Z"
    },
    "papermill": {
     "duration": 0.043223,
     "end_time": "2022-08-31T02:53:14.160094",
     "exception": false,
     "start_time": "2022-08-31T02:53:14.116871",
     "status": "completed"
    },
    "tags": []
   },
   "outputs": [],
   "source": [
    "lasso = make_pipeline(RobustScaler(), Lasso(alpha =0.0005, random_state=1))"
   ]
  },
  {
   "cell_type": "markdown",
   "id": "51396845",
   "metadata": {
    "papermill": {
     "duration": 0.033488,
     "end_time": "2022-08-31T02:53:14.227568",
     "exception": false,
     "start_time": "2022-08-31T02:53:14.194080",
     "status": "completed"
    },
    "tags": []
   },
   "source": [
    "elastic net regression"
   ]
  },
  {
   "cell_type": "code",
   "execution_count": 40,
   "id": "7804d617",
   "metadata": {
    "execution": {
     "iopub.execute_input": "2022-08-31T02:53:14.297138Z",
     "iopub.status.busy": "2022-08-31T02:53:14.296431Z",
     "iopub.status.idle": "2022-08-31T02:53:14.301160Z",
     "shell.execute_reply": "2022-08-31T02:53:14.300371Z"
    },
    "papermill": {
     "duration": 0.042258,
     "end_time": "2022-08-31T02:53:14.303451",
     "exception": false,
     "start_time": "2022-08-31T02:53:14.261193",
     "status": "completed"
    },
    "tags": []
   },
   "outputs": [],
   "source": [
    "ENet = make_pipeline(RobustScaler(), ElasticNet(alpha=0.0005, l1_ratio=.9, random_state=3))"
   ]
  },
  {
   "cell_type": "markdown",
   "id": "cf5de5f3",
   "metadata": {
    "papermill": {
     "duration": 0.033604,
     "end_time": "2022-08-31T02:53:14.370511",
     "exception": false,
     "start_time": "2022-08-31T02:53:14.336907",
     "status": "completed"
    },
    "tags": []
   },
   "source": [
    "kernel ridge regression"
   ]
  },
  {
   "cell_type": "code",
   "execution_count": 41,
   "id": "e6760cb1",
   "metadata": {
    "execution": {
     "iopub.execute_input": "2022-08-31T02:53:14.440611Z",
     "iopub.status.busy": "2022-08-31T02:53:14.439797Z",
     "iopub.status.idle": "2022-08-31T02:53:14.444626Z",
     "shell.execute_reply": "2022-08-31T02:53:14.443649Z"
    },
    "papermill": {
     "duration": 0.042622,
     "end_time": "2022-08-31T02:53:14.446922",
     "exception": false,
     "start_time": "2022-08-31T02:53:14.404300",
     "status": "completed"
    },
    "tags": []
   },
   "outputs": [],
   "source": [
    "KRR = KernelRidge(alpha=0.6, kernel='polynomial', degree=2, coef0=2.5)"
   ]
  },
  {
   "cell_type": "markdown",
   "id": "4859a406",
   "metadata": {
    "papermill": {
     "duration": 0.165166,
     "end_time": "2022-08-31T02:53:14.646173",
     "exception": false,
     "start_time": "2022-08-31T02:53:14.481007",
     "status": "completed"
    },
    "tags": []
   },
   "source": [
    "gredient boosting regression"
   ]
  },
  {
   "cell_type": "code",
   "execution_count": 42,
   "id": "8187b6af",
   "metadata": {
    "execution": {
     "iopub.execute_input": "2022-08-31T02:53:14.718167Z",
     "iopub.status.busy": "2022-08-31T02:53:14.717257Z",
     "iopub.status.idle": "2022-08-31T02:53:14.723470Z",
     "shell.execute_reply": "2022-08-31T02:53:14.722508Z"
    },
    "papermill": {
     "duration": 0.04517,
     "end_time": "2022-08-31T02:53:14.725981",
     "exception": false,
     "start_time": "2022-08-31T02:53:14.680811",
     "status": "completed"
    },
    "tags": []
   },
   "outputs": [],
   "source": [
    "GBoost = GradientBoostingRegressor(n_estimators=3000, learning_rate=0.05,\n",
    "                                   max_depth=4, max_features='sqrt',\n",
    "                                   min_samples_leaf=15, min_samples_split=10, \n",
    "                                   loss='huber', random_state =5)"
   ]
  },
  {
   "cell_type": "markdown",
   "id": "95887081",
   "metadata": {
    "papermill": {
     "duration": 0.033327,
     "end_time": "2022-08-31T02:53:14.792846",
     "exception": false,
     "start_time": "2022-08-31T02:53:14.759519",
     "status": "completed"
    },
    "tags": []
   },
   "source": [
    "xgboost"
   ]
  },
  {
   "cell_type": "code",
   "execution_count": 43,
   "id": "c7318ad2",
   "metadata": {
    "execution": {
     "iopub.execute_input": "2022-08-31T02:53:14.864206Z",
     "iopub.status.busy": "2022-08-31T02:53:14.863364Z",
     "iopub.status.idle": "2022-08-31T02:53:14.869879Z",
     "shell.execute_reply": "2022-08-31T02:53:14.868917Z"
    },
    "papermill": {
     "duration": 0.045366,
     "end_time": "2022-08-31T02:53:14.872486",
     "exception": false,
     "start_time": "2022-08-31T02:53:14.827120",
     "status": "completed"
    },
    "tags": []
   },
   "outputs": [],
   "source": [
    "model_xgb = xgb.XGBRegressor(colsample_bytree=0.4603, gamma=0.0468, \n",
    "                             learning_rate=0.05, max_depth=3, \n",
    "                             min_child_weight=1.7817, n_estimators=2200,\n",
    "                             reg_alpha=0.4640, reg_lambda=0.8571,\n",
    "                             subsample=0.5213, silent=1,\n",
    "                             random_state =7, nthread = -1)"
   ]
  },
  {
   "cell_type": "markdown",
   "id": "b95a462d",
   "metadata": {
    "papermill": {
     "duration": 0.033297,
     "end_time": "2022-08-31T02:53:14.939740",
     "exception": false,
     "start_time": "2022-08-31T02:53:14.906443",
     "status": "completed"
    },
    "tags": []
   },
   "source": [
    "lightgbm"
   ]
  },
  {
   "cell_type": "code",
   "execution_count": 44,
   "id": "0b5ff291",
   "metadata": {
    "execution": {
     "iopub.execute_input": "2022-08-31T02:53:15.008671Z",
     "iopub.status.busy": "2022-08-31T02:53:15.007916Z",
     "iopub.status.idle": "2022-08-31T02:53:15.014700Z",
     "shell.execute_reply": "2022-08-31T02:53:15.013401Z"
    },
    "papermill": {
     "duration": 0.044665,
     "end_time": "2022-08-31T02:53:15.017720",
     "exception": false,
     "start_time": "2022-08-31T02:53:14.973055",
     "status": "completed"
    },
    "tags": []
   },
   "outputs": [],
   "source": [
    "model_lgb = lgb.LGBMRegressor(objective='regression',num_leaves=5,\n",
    "                              learning_rate=0.05, n_estimators=720,\n",
    "                              max_bin = 55, bagging_fraction = 0.8,\n",
    "                              bagging_freq = 5, feature_fraction = 0.2319,\n",
    "                              feature_fraction_seed=9, bagging_seed=9,\n",
    "                              min_data_in_leaf =6, min_sum_hessian_in_leaf = 11)"
   ]
  },
  {
   "cell_type": "markdown",
   "id": "63f029bf",
   "metadata": {
    "papermill": {
     "duration": 0.033293,
     "end_time": "2022-08-31T02:53:15.085656",
     "exception": false,
     "start_time": "2022-08-31T02:53:15.052363",
     "status": "completed"
    },
    "tags": []
   },
   "source": [
    "### Base Model Scores"
   ]
  },
  {
   "cell_type": "code",
   "execution_count": 45,
   "id": "4299642f",
   "metadata": {
    "execution": {
     "iopub.execute_input": "2022-08-31T02:53:15.155120Z",
     "iopub.status.busy": "2022-08-31T02:53:15.154351Z",
     "iopub.status.idle": "2022-08-31T02:53:15.871270Z",
     "shell.execute_reply": "2022-08-31T02:53:15.869915Z"
    },
    "papermill": {
     "duration": 0.75541,
     "end_time": "2022-08-31T02:53:15.874698",
     "exception": false,
     "start_time": "2022-08-31T02:53:15.119288",
     "status": "completed"
    },
    "tags": []
   },
   "outputs": [
    {
     "name": "stdout",
     "output_type": "stream",
     "text": [
      "\n",
      "Lasso score: 0.1120 (0.0078)\n",
      "\n"
     ]
    }
   ],
   "source": [
    "score = rmsle_cv(lasso)\n",
    "print(\"\\nLasso score: {:.4f} ({:.4f})\\n\".format(score.mean(), score.std()))"
   ]
  },
  {
   "cell_type": "code",
   "execution_count": 46,
   "id": "dae0f62c",
   "metadata": {
    "execution": {
     "iopub.execute_input": "2022-08-31T02:53:16.030980Z",
     "iopub.status.busy": "2022-08-31T02:53:16.029744Z",
     "iopub.status.idle": "2022-08-31T02:53:16.888685Z",
     "shell.execute_reply": "2022-08-31T02:53:16.887083Z"
    },
    "papermill": {
     "duration": 0.898712,
     "end_time": "2022-08-31T02:53:16.893229",
     "exception": false,
     "start_time": "2022-08-31T02:53:15.994517",
     "status": "completed"
    },
    "tags": []
   },
   "outputs": [
    {
     "name": "stdout",
     "output_type": "stream",
     "text": [
      "ElasticNet score: 0.1120 (0.0078)\n",
      "\n"
     ]
    }
   ],
   "source": [
    "score = rmsle_cv(ENet)\n",
    "print(\"ElasticNet score: {:.4f} ({:.4f})\\n\".format(score.mean(), score.std()))"
   ]
  },
  {
   "cell_type": "code",
   "execution_count": 47,
   "id": "b1e8050f",
   "metadata": {
    "execution": {
     "iopub.execute_input": "2022-08-31T02:53:17.032798Z",
     "iopub.status.busy": "2022-08-31T02:53:17.032412Z",
     "iopub.status.idle": "2022-08-31T02:53:17.706902Z",
     "shell.execute_reply": "2022-08-31T02:53:17.705575Z"
    },
    "papermill": {
     "duration": 0.71581,
     "end_time": "2022-08-31T02:53:17.709992",
     "exception": false,
     "start_time": "2022-08-31T02:53:16.994182",
     "status": "completed"
    },
    "tags": []
   },
   "outputs": [
    {
     "name": "stdout",
     "output_type": "stream",
     "text": [
      "Kernel Ridge score: 0.1133 (0.0077)\n",
      "\n"
     ]
    }
   ],
   "source": [
    "score = rmsle_cv(KRR)\n",
    "print(\"Kernel Ridge score: {:.4f} ({:.4f})\\n\".format(score.mean(), score.std()))"
   ]
  },
  {
   "cell_type": "code",
   "execution_count": 48,
   "id": "3a5d5ede",
   "metadata": {
    "execution": {
     "iopub.execute_input": "2022-08-31T02:53:17.850372Z",
     "iopub.status.busy": "2022-08-31T02:53:17.849975Z",
     "iopub.status.idle": "2022-08-31T02:54:31.523858Z",
     "shell.execute_reply": "2022-08-31T02:54:31.522107Z"
    },
    "papermill": {
     "duration": 73.75001,
     "end_time": "2022-08-31T02:54:31.560472",
     "exception": false,
     "start_time": "2022-08-31T02:53:17.810462",
     "status": "completed"
    },
    "tags": []
   },
   "outputs": [
    {
     "name": "stdout",
     "output_type": "stream",
     "text": [
      "Gradient Boosting score: 0.1149 (0.0062)\n",
      "\n"
     ]
    }
   ],
   "source": [
    "score = rmsle_cv(GBoost)\n",
    "print(\"Gradient Boosting score: {:.4f} ({:.4f})\\n\".format(score.mean(), score.std()))"
   ]
  },
  {
   "cell_type": "code",
   "execution_count": 49,
   "id": "f6fcb423",
   "metadata": {
    "execution": {
     "iopub.execute_input": "2022-08-31T02:54:31.632009Z",
     "iopub.status.busy": "2022-08-31T02:54:31.631520Z",
     "iopub.status.idle": "2022-08-31T02:55:38.024093Z",
     "shell.execute_reply": "2022-08-31T02:55:38.022205Z"
    },
    "papermill": {
     "duration": 66.431353,
     "end_time": "2022-08-31T02:55:38.026814",
     "exception": false,
     "start_time": "2022-08-31T02:54:31.595461",
     "status": "completed"
    },
    "tags": []
   },
   "outputs": [
    {
     "name": "stdout",
     "output_type": "stream",
     "text": [
      "[02:54:31] WARNING: ../src/learner.cc:627: \n",
      "Parameters: { \"silent\" } might not be used.\n",
      "\n",
      "  This could be a false alarm, with some parameters getting used by language bindings but\n",
      "  then being mistakenly passed down to XGBoost core, or some parameter actually being used\n",
      "  but getting flagged wrongly here. Please open an issue if you find any such cases.\n",
      "\n",
      "\n",
      "[02:54:45] WARNING: ../src/learner.cc:627: \n",
      "Parameters: { \"silent\" } might not be used.\n",
      "\n",
      "  This could be a false alarm, with some parameters getting used by language bindings but\n",
      "  then being mistakenly passed down to XGBoost core, or some parameter actually being used\n",
      "  but getting flagged wrongly here. Please open an issue if you find any such cases.\n",
      "\n",
      "\n",
      "[02:54:58] WARNING: ../src/learner.cc:627: \n",
      "Parameters: { \"silent\" } might not be used.\n",
      "\n",
      "  This could be a false alarm, with some parameters getting used by language bindings but\n",
      "  then being mistakenly passed down to XGBoost core, or some parameter actually being used\n",
      "  but getting flagged wrongly here. Please open an issue if you find any such cases.\n",
      "\n",
      "\n",
      "[02:55:11] WARNING: ../src/learner.cc:627: \n",
      "Parameters: { \"silent\" } might not be used.\n",
      "\n",
      "  This could be a false alarm, with some parameters getting used by language bindings but\n",
      "  then being mistakenly passed down to XGBoost core, or some parameter actually being used\n",
      "  but getting flagged wrongly here. Please open an issue if you find any such cases.\n",
      "\n",
      "\n",
      "[02:55:25] WARNING: ../src/learner.cc:627: \n",
      "Parameters: { \"silent\" } might not be used.\n",
      "\n",
      "  This could be a false alarm, with some parameters getting used by language bindings but\n",
      "  then being mistakenly passed down to XGBoost core, or some parameter actually being used\n",
      "  but getting flagged wrongly here. Please open an issue if you find any such cases.\n",
      "\n",
      "\n",
      "Xgboost score: 0.1143 (0.0071)\n",
      "\n"
     ]
    }
   ],
   "source": [
    "score = rmsle_cv(model_xgb)\n",
    "print(\"Xgboost score: {:.4f} ({:.4f})\\n\".format(score.mean(), score.std()))"
   ]
  },
  {
   "cell_type": "code",
   "execution_count": 50,
   "id": "90f0449b",
   "metadata": {
    "execution": {
     "iopub.execute_input": "2022-08-31T02:55:38.098207Z",
     "iopub.status.busy": "2022-08-31T02:55:38.097785Z",
     "iopub.status.idle": "2022-08-31T02:55:40.465204Z",
     "shell.execute_reply": "2022-08-31T02:55:40.463491Z"
    },
    "papermill": {
     "duration": 2.40674,
     "end_time": "2022-08-31T02:55:40.468364",
     "exception": false,
     "start_time": "2022-08-31T02:55:38.061624",
     "status": "completed"
    },
    "tags": []
   },
   "outputs": [
    {
     "name": "stdout",
     "output_type": "stream",
     "text": [
      "[LightGBM] [Warning] feature_fraction is set=0.2319, colsample_bytree=1.0 will be ignored. Current value: feature_fraction=0.2319\n",
      "[LightGBM] [Warning] min_sum_hessian_in_leaf is set=11, min_child_weight=0.001 will be ignored. Current value: min_sum_hessian_in_leaf=11\n",
      "[LightGBM] [Warning] min_data_in_leaf is set=6, min_child_samples=20 will be ignored. Current value: min_data_in_leaf=6\n",
      "[LightGBM] [Warning] bagging_freq is set=5, subsample_freq=0 will be ignored. Current value: bagging_freq=5\n",
      "[LightGBM] [Warning] bagging_fraction is set=0.8, subsample=1.0 will be ignored. Current value: bagging_fraction=0.8\n",
      "[LightGBM] [Warning] feature_fraction is set=0.2319, colsample_bytree=1.0 will be ignored. Current value: feature_fraction=0.2319\n",
      "[LightGBM] [Warning] min_sum_hessian_in_leaf is set=11, min_child_weight=0.001 will be ignored. Current value: min_sum_hessian_in_leaf=11\n",
      "[LightGBM] [Warning] min_data_in_leaf is set=6, min_child_samples=20 will be ignored. Current value: min_data_in_leaf=6\n",
      "[LightGBM] [Warning] bagging_freq is set=5, subsample_freq=0 will be ignored. Current value: bagging_freq=5\n",
      "[LightGBM] [Warning] bagging_fraction is set=0.8, subsample=1.0 will be ignored. Current value: bagging_fraction=0.8\n",
      "[LightGBM] [Warning] feature_fraction is set=0.2319, colsample_bytree=1.0 will be ignored. Current value: feature_fraction=0.2319\n",
      "[LightGBM] [Warning] min_sum_hessian_in_leaf is set=11, min_child_weight=0.001 will be ignored. Current value: min_sum_hessian_in_leaf=11\n",
      "[LightGBM] [Warning] min_data_in_leaf is set=6, min_child_samples=20 will be ignored. Current value: min_data_in_leaf=6\n",
      "[LightGBM] [Warning] bagging_freq is set=5, subsample_freq=0 will be ignored. Current value: bagging_freq=5\n",
      "[LightGBM] [Warning] bagging_fraction is set=0.8, subsample=1.0 will be ignored. Current value: bagging_fraction=0.8\n",
      "[LightGBM] [Warning] feature_fraction is set=0.2319, colsample_bytree=1.0 will be ignored. Current value: feature_fraction=0.2319\n",
      "[LightGBM] [Warning] min_sum_hessian_in_leaf is set=11, min_child_weight=0.001 will be ignored. Current value: min_sum_hessian_in_leaf=11\n",
      "[LightGBM] [Warning] min_data_in_leaf is set=6, min_child_samples=20 will be ignored. Current value: min_data_in_leaf=6\n",
      "[LightGBM] [Warning] bagging_freq is set=5, subsample_freq=0 will be ignored. Current value: bagging_freq=5\n",
      "[LightGBM] [Warning] bagging_fraction is set=0.8, subsample=1.0 will be ignored. Current value: bagging_fraction=0.8\n",
      "[LightGBM] [Warning] feature_fraction is set=0.2319, colsample_bytree=1.0 will be ignored. Current value: feature_fraction=0.2319\n",
      "[LightGBM] [Warning] min_sum_hessian_in_leaf is set=11, min_child_weight=0.001 will be ignored. Current value: min_sum_hessian_in_leaf=11\n",
      "[LightGBM] [Warning] min_data_in_leaf is set=6, min_child_samples=20 will be ignored. Current value: min_data_in_leaf=6\n",
      "[LightGBM] [Warning] bagging_freq is set=5, subsample_freq=0 will be ignored. Current value: bagging_freq=5\n",
      "[LightGBM] [Warning] bagging_fraction is set=0.8, subsample=1.0 will be ignored. Current value: bagging_fraction=0.8\n",
      "LGBM score: 0.1141 (0.0052)\n",
      "\n"
     ]
    }
   ],
   "source": [
    "score = rmsle_cv(model_lgb)\n",
    "print(\"LGBM score: {:.4f} ({:.4f})\\n\" .format(score.mean(), score.std()))"
   ]
  },
  {
   "cell_type": "markdown",
   "id": "ba3865be",
   "metadata": {
    "papermill": {
     "duration": 0.034391,
     "end_time": "2022-08-31T02:55:40.537953",
     "exception": false,
     "start_time": "2022-08-31T02:55:40.503562",
     "status": "completed"
    },
    "tags": []
   },
   "source": [
    "## Stacking Models"
   ]
  },
  {
   "cell_type": "markdown",
   "id": "cc0ed643",
   "metadata": {
    "papermill": {
     "duration": 0.035539,
     "end_time": "2022-08-31T02:55:40.608486",
     "exception": false,
     "start_time": "2022-08-31T02:55:40.572947",
     "status": "completed"
    },
    "tags": []
   },
   "source": [
    "Averaged base models class\n",
    "\n"
   ]
  },
  {
   "cell_type": "code",
   "execution_count": 51,
   "id": "5e90683a",
   "metadata": {
    "execution": {
     "iopub.execute_input": "2022-08-31T02:55:40.680679Z",
     "iopub.status.busy": "2022-08-31T02:55:40.679378Z",
     "iopub.status.idle": "2022-08-31T02:55:40.687925Z",
     "shell.execute_reply": "2022-08-31T02:55:40.686707Z"
    },
    "papermill": {
     "duration": 0.04728,
     "end_time": "2022-08-31T02:55:40.690451",
     "exception": false,
     "start_time": "2022-08-31T02:55:40.643171",
     "status": "completed"
    },
    "tags": []
   },
   "outputs": [],
   "source": [
    "class AveragingModels(BaseEstimator, RegressorMixin, TransformerMixin):\n",
    "    def __init__(self, models):\n",
    "        self.models = models\n",
    "        \n",
    "    # we define clones of the original models to fit the data in\n",
    "    def fit(self, X, y):\n",
    "        self.models_ = [clone(x) for x in self.models]\n",
    "        \n",
    "        # Train cloned base models\n",
    "        for model in self.models_:\n",
    "            model.fit(X, y)\n",
    "\n",
    "        return self\n",
    "    \n",
    "    #Now we do the predictions for cloned models and average them\n",
    "    def predict(self, X):\n",
    "        predictions = np.column_stack([\n",
    "            model.predict(X) for model in self.models_\n",
    "        ])\n",
    "        return np.mean(predictions, axis=1)"
   ]
  },
  {
   "cell_type": "markdown",
   "id": "61339054",
   "metadata": {
    "papermill": {
     "duration": 0.034749,
     "end_time": "2022-08-31T02:55:40.760255",
     "exception": false,
     "start_time": "2022-08-31T02:55:40.725506",
     "status": "completed"
    },
    "tags": []
   },
   "source": [
    "Averaged base models score"
   ]
  },
  {
   "cell_type": "code",
   "execution_count": 52,
   "id": "07bbb457",
   "metadata": {
    "execution": {
     "iopub.execute_input": "2022-08-31T02:55:40.832499Z",
     "iopub.status.busy": "2022-08-31T02:55:40.831720Z",
     "iopub.status.idle": "2022-08-31T02:56:56.586950Z",
     "shell.execute_reply": "2022-08-31T02:56:56.585437Z"
    },
    "papermill": {
     "duration": 75.838496,
     "end_time": "2022-08-31T02:56:56.633365",
     "exception": false,
     "start_time": "2022-08-31T02:55:40.794869",
     "status": "completed"
    },
    "tags": []
   },
   "outputs": [
    {
     "name": "stdout",
     "output_type": "stream",
     "text": [
      " Averaged base models score: 0.1084 (0.0075)\n",
      "\n"
     ]
    }
   ],
   "source": [
    "averaged_models = AveragingModels(models = (ENet, GBoost, KRR, lasso))\n",
    "\n",
    "score = rmsle_cv(averaged_models)\n",
    "print(\" Averaged base models score: {:.4f} ({:.4f})\\n\".format(score.mean(), score.std()))"
   ]
  },
  {
   "cell_type": "markdown",
   "id": "4a98fcf7",
   "metadata": {
    "papermill": {
     "duration": 0.035392,
     "end_time": "2022-08-31T02:56:56.727207",
     "exception": false,
     "start_time": "2022-08-31T02:56:56.691815",
     "status": "completed"
    },
    "tags": []
   },
   "source": [
    "Stacking averaged Models Class"
   ]
  },
  {
   "cell_type": "code",
   "execution_count": 53,
   "id": "788b425f",
   "metadata": {
    "execution": {
     "iopub.execute_input": "2022-08-31T02:56:56.801569Z",
     "iopub.status.busy": "2022-08-31T02:56:56.801114Z",
     "iopub.status.idle": "2022-08-31T02:56:56.813601Z",
     "shell.execute_reply": "2022-08-31T02:56:56.812381Z"
    },
    "papermill": {
     "duration": 0.052458,
     "end_time": "2022-08-31T02:56:56.816166",
     "exception": false,
     "start_time": "2022-08-31T02:56:56.763708",
     "status": "completed"
    },
    "tags": []
   },
   "outputs": [],
   "source": [
    "class StackingAveragedModels(BaseEstimator, RegressorMixin, TransformerMixin):\n",
    "    def __init__(self, base_models, meta_model, n_folds=5):\n",
    "        self.base_models = base_models\n",
    "        self.meta_model = meta_model\n",
    "        self.n_folds = n_folds\n",
    "   \n",
    "    # We again fit the data on clones of the original models\n",
    "    def fit(self, X, y):\n",
    "        self.base_models_ = [list() for x in self.base_models]\n",
    "        self.meta_model_ = clone(self.meta_model)\n",
    "        kfold = KFold(n_splits=self.n_folds, shuffle=True, random_state=156)\n",
    "        \n",
    "        # Train cloned base models then create out-of-fold predictions\n",
    "        # that are needed to train the cloned meta-model\n",
    "        out_of_fold_predictions = np.zeros((X.shape[0], len(self.base_models)))\n",
    "        for i, model in enumerate(self.base_models):\n",
    "            for train_index, holdout_index in kfold.split(X, y):\n",
    "                instance = clone(model)\n",
    "                self.base_models_[i].append(instance)\n",
    "                instance.fit(X[train_index], y[train_index])\n",
    "                y_pred = instance.predict(X[holdout_index])\n",
    "                out_of_fold_predictions[holdout_index, i] = y_pred\n",
    "                \n",
    "        # Now train the cloned  meta-model using the out-of-fold predictions as new feature\n",
    "        self.meta_model_.fit(out_of_fold_predictions, y)\n",
    "        return self\n",
    "   \n",
    "    #Do the predictions of all base models on the test data and use the averaged predictions as \n",
    "    #meta-features for the final prediction which is done by the meta-model\n",
    "    def predict(self, X):\n",
    "        meta_features = np.column_stack([\n",
    "            np.column_stack([model.predict(X) for model in base_models]).mean(axis=1)\n",
    "            for base_models in self.base_models_ ])\n",
    "        return self.meta_model_.predict(meta_features)"
   ]
  },
  {
   "cell_type": "markdown",
   "id": "aed5e6e5",
   "metadata": {
    "papermill": {
     "duration": 0.034957,
     "end_time": "2022-08-31T02:56:56.886591",
     "exception": false,
     "start_time": "2022-08-31T02:56:56.851634",
     "status": "completed"
    },
    "tags": []
   },
   "source": [
    "Stacking Averaged models Score"
   ]
  },
  {
   "cell_type": "code",
   "execution_count": 54,
   "id": "8c25bf5a",
   "metadata": {
    "execution": {
     "iopub.execute_input": "2022-08-31T02:56:57.026012Z",
     "iopub.status.busy": "2022-08-31T02:56:57.025614Z",
     "iopub.status.idle": "2022-08-31T03:02:42.720721Z",
     "shell.execute_reply": "2022-08-31T03:02:42.719447Z"
    },
    "papermill": {
     "duration": 345.793407,
     "end_time": "2022-08-31T03:02:42.782529",
     "exception": false,
     "start_time": "2022-08-31T02:56:56.989122",
     "status": "completed"
    },
    "tags": []
   },
   "outputs": [
    {
     "name": "stdout",
     "output_type": "stream",
     "text": [
      "Stacking Averaged models score: 0.1078 (0.0074)\n"
     ]
    }
   ],
   "source": [
    "stacked_averaged_models = StackingAveragedModels(base_models = (ENet, GBoost, KRR),\n",
    "                                                 meta_model = lasso)\n",
    "\n",
    "score = rmsle_cv(stacked_averaged_models)\n",
    "print(\"Stacking Averaged models score: {:.4f} ({:.4f})\".format(score.mean(), score.std()))"
   ]
  },
  {
   "cell_type": "markdown",
   "id": "93826cc7",
   "metadata": {
    "papermill": {
     "duration": 0.035088,
     "end_time": "2022-08-31T03:02:42.871732",
     "exception": false,
     "start_time": "2022-08-31T03:02:42.836644",
     "status": "completed"
    },
    "tags": []
   },
   "source": [
    "### Ensembling StackedRegressor, XGBoost and LightGBM"
   ]
  },
  {
   "cell_type": "code",
   "execution_count": 55,
   "id": "7ea22b76",
   "metadata": {
    "execution": {
     "iopub.execute_input": "2022-08-31T03:02:42.944254Z",
     "iopub.status.busy": "2022-08-31T03:02:42.943872Z",
     "iopub.status.idle": "2022-08-31T03:02:42.949209Z",
     "shell.execute_reply": "2022-08-31T03:02:42.947781Z"
    },
    "papermill": {
     "duration": 0.04432,
     "end_time": "2022-08-31T03:02:42.951373",
     "exception": false,
     "start_time": "2022-08-31T03:02:42.907053",
     "status": "completed"
    },
    "tags": []
   },
   "outputs": [],
   "source": [
    "def rmsle(y, y_pred):\n",
    "    return np.sqrt(mean_squared_error(y, y_pred))"
   ]
  },
  {
   "cell_type": "markdown",
   "id": "1cf8dcfa",
   "metadata": {
    "papermill": {
     "duration": 0.038806,
     "end_time": "2022-08-31T03:02:43.026027",
     "exception": false,
     "start_time": "2022-08-31T03:02:42.987221",
     "status": "completed"
    },
    "tags": []
   },
   "source": [
    "StackedRegressor:"
   ]
  },
  {
   "cell_type": "code",
   "execution_count": 56,
   "id": "d6fbe2ca",
   "metadata": {
    "execution": {
     "iopub.execute_input": "2022-08-31T03:02:43.117711Z",
     "iopub.status.busy": "2022-08-31T03:02:43.116612Z",
     "iopub.status.idle": "2022-08-31T03:03:58.918376Z",
     "shell.execute_reply": "2022-08-31T03:03:58.908106Z"
    },
    "papermill": {
     "duration": 75.906148,
     "end_time": "2022-08-31T03:03:58.977303",
     "exception": false,
     "start_time": "2022-08-31T03:02:43.071155",
     "status": "completed"
    },
    "tags": []
   },
   "outputs": [
    {
     "name": "stdout",
     "output_type": "stream",
     "text": [
      "0.077608028860207\n"
     ]
    }
   ],
   "source": [
    "stacked_averaged_models.fit(train.values, y_train)\n",
    "stacked_train_pred = stacked_averaged_models.predict(train.values)\n",
    "stacked_pred = np.expm1(stacked_averaged_models.predict(test.values))\n",
    "print(rmsle(y_train, stacked_train_pred))"
   ]
  },
  {
   "cell_type": "markdown",
   "id": "bc1eb206",
   "metadata": {
    "papermill": {
     "duration": 0.035221,
     "end_time": "2022-08-31T03:03:59.066953",
     "exception": false,
     "start_time": "2022-08-31T03:03:59.031732",
     "status": "completed"
    },
    "tags": []
   },
   "source": [
    "XGBoost:"
   ]
  },
  {
   "cell_type": "code",
   "execution_count": 57,
   "id": "e64b0ec5",
   "metadata": {
    "execution": {
     "iopub.execute_input": "2022-08-31T03:03:59.140160Z",
     "iopub.status.busy": "2022-08-31T03:03:59.139749Z",
     "iopub.status.idle": "2022-08-31T03:04:11.860146Z",
     "shell.execute_reply": "2022-08-31T03:04:11.859095Z"
    },
    "papermill": {
     "duration": 12.761077,
     "end_time": "2022-08-31T03:04:11.863705",
     "exception": false,
     "start_time": "2022-08-31T03:03:59.102628",
     "status": "completed"
    },
    "tags": []
   },
   "outputs": [
    {
     "name": "stdout",
     "output_type": "stream",
     "text": [
      "[03:03:59] WARNING: ../src/learner.cc:627: \n",
      "Parameters: { \"silent\" } might not be used.\n",
      "\n",
      "  This could be a false alarm, with some parameters getting used by language bindings but\n",
      "  then being mistakenly passed down to XGBoost core, or some parameter actually being used\n",
      "  but getting flagged wrongly here. Please open an issue if you find any such cases.\n",
      "\n",
      "\n",
      "0.07894779477502241\n"
     ]
    }
   ],
   "source": [
    "model_xgb.fit(train, y_train)\n",
    "xgb_train_pred = model_xgb.predict(train)\n",
    "xgb_pred = np.expm1(model_xgb.predict(test))\n",
    "print(rmsle(y_train, xgb_train_pred))"
   ]
  },
  {
   "cell_type": "markdown",
   "id": "c3ecbe7e",
   "metadata": {
    "papermill": {
     "duration": 0.037204,
     "end_time": "2022-08-31T03:04:11.943372",
     "exception": false,
     "start_time": "2022-08-31T03:04:11.906168",
     "status": "completed"
    },
    "tags": []
   },
   "source": [
    "LightGBM:"
   ]
  },
  {
   "cell_type": "code",
   "execution_count": 58,
   "id": "eab69e90",
   "metadata": {
    "execution": {
     "iopub.execute_input": "2022-08-31T03:04:12.017808Z",
     "iopub.status.busy": "2022-08-31T03:04:12.016587Z",
     "iopub.status.idle": "2022-08-31T03:04:12.743964Z",
     "shell.execute_reply": "2022-08-31T03:04:12.742517Z"
    },
    "papermill": {
     "duration": 0.76825,
     "end_time": "2022-08-31T03:04:12.747538",
     "exception": false,
     "start_time": "2022-08-31T03:04:11.979288",
     "status": "completed"
    },
    "tags": []
   },
   "outputs": [
    {
     "name": "stdout",
     "output_type": "stream",
     "text": [
      "[LightGBM] [Warning] feature_fraction is set=0.2319, colsample_bytree=1.0 will be ignored. Current value: feature_fraction=0.2319\n",
      "[LightGBM] [Warning] min_sum_hessian_in_leaf is set=11, min_child_weight=0.001 will be ignored. Current value: min_sum_hessian_in_leaf=11\n",
      "[LightGBM] [Warning] min_data_in_leaf is set=6, min_child_samples=20 will be ignored. Current value: min_data_in_leaf=6\n",
      "[LightGBM] [Warning] bagging_freq is set=5, subsample_freq=0 will be ignored. Current value: bagging_freq=5\n",
      "[LightGBM] [Warning] bagging_fraction is set=0.8, subsample=1.0 will be ignored. Current value: bagging_fraction=0.8\n",
      "0.07224132642400272\n"
     ]
    }
   ],
   "source": [
    "model_lgb.fit(train, y_train)\n",
    "lgb_train_pred = model_lgb.predict(train)\n",
    "lgb_pred = np.expm1(model_lgb.predict(test.values))\n",
    "print(rmsle(y_train, lgb_train_pred))"
   ]
  },
  {
   "cell_type": "code",
   "execution_count": 59,
   "id": "14ab7743",
   "metadata": {
    "execution": {
     "iopub.execute_input": "2022-08-31T03:04:12.824099Z",
     "iopub.status.busy": "2022-08-31T03:04:12.823122Z",
     "iopub.status.idle": "2022-08-31T03:04:12.831295Z",
     "shell.execute_reply": "2022-08-31T03:04:12.830019Z"
    },
    "papermill": {
     "duration": 0.048932,
     "end_time": "2022-08-31T03:04:12.833921",
     "exception": false,
     "start_time": "2022-08-31T03:04:12.784989",
     "status": "completed"
    },
    "tags": []
   },
   "outputs": [
    {
     "name": "stdout",
     "output_type": "stream",
     "text": [
      "RMSLE score on train data:\n",
      "0.07494842783760507\n"
     ]
    }
   ],
   "source": [
    "print('RMSLE score on train data:')\n",
    "print(rmsle(y_train,stacked_train_pred*0.70 +\n",
    "               xgb_train_pred*0.15 + lgb_train_pred*0.15 ))"
   ]
  },
  {
   "cell_type": "markdown",
   "id": "4f9e05cf",
   "metadata": {
    "papermill": {
     "duration": 0.036647,
     "end_time": "2022-08-31T03:04:12.906652",
     "exception": false,
     "start_time": "2022-08-31T03:04:12.870005",
     "status": "completed"
    },
    "tags": []
   },
   "source": [
    "### Ensembling!"
   ]
  },
  {
   "cell_type": "code",
   "execution_count": 60,
   "id": "6ac7e308",
   "metadata": {
    "execution": {
     "iopub.execute_input": "2022-08-31T03:04:12.981818Z",
     "iopub.status.busy": "2022-08-31T03:04:12.980499Z",
     "iopub.status.idle": "2022-08-31T03:04:12.987749Z",
     "shell.execute_reply": "2022-08-31T03:04:12.986458Z"
    },
    "papermill": {
     "duration": 0.047595,
     "end_time": "2022-08-31T03:04:12.990382",
     "exception": false,
     "start_time": "2022-08-31T03:04:12.942787",
     "status": "completed"
    },
    "tags": []
   },
   "outputs": [],
   "source": [
    "ensemble = stacked_pred*0.70 + xgb_pred*0.15 + lgb_pred*0.15"
   ]
  },
  {
   "cell_type": "code",
   "execution_count": 61,
   "id": "8ef47970",
   "metadata": {
    "execution": {
     "iopub.execute_input": "2022-08-31T03:04:13.063015Z",
     "iopub.status.busy": "2022-08-31T03:04:13.062596Z",
     "iopub.status.idle": "2022-08-31T03:04:13.068630Z",
     "shell.execute_reply": "2022-08-31T03:04:13.067797Z"
    },
    "papermill": {
     "duration": 0.045128,
     "end_time": "2022-08-31T03:04:13.070632",
     "exception": false,
     "start_time": "2022-08-31T03:04:13.025504",
     "status": "completed"
    },
    "tags": []
   },
   "outputs": [
    {
     "data": {
      "text/plain": [
       "array([118129.72747969, 163445.4034674 , 184293.57673091, ...,\n",
       "       168746.30434662, 117559.86680859, 219748.19530045])"
      ]
     },
     "execution_count": 61,
     "metadata": {},
     "output_type": "execute_result"
    }
   ],
   "source": [
    "ensemble"
   ]
  },
  {
   "cell_type": "code",
   "execution_count": 62,
   "id": "ca040de2",
   "metadata": {
    "execution": {
     "iopub.execute_input": "2022-08-31T03:04:13.144650Z",
     "iopub.status.busy": "2022-08-31T03:04:13.143521Z",
     "iopub.status.idle": "2022-08-31T03:04:13.157888Z",
     "shell.execute_reply": "2022-08-31T03:04:13.156847Z"
    },
    "papermill": {
     "duration": 0.054176,
     "end_time": "2022-08-31T03:04:13.160427",
     "exception": false,
     "start_time": "2022-08-31T03:04:13.106251",
     "status": "completed"
    },
    "tags": []
   },
   "outputs": [],
   "source": [
    "sub = pd.DataFrame()\n",
    "sub['Id'] = test_ID\n",
    "sub['SalePrice'] = ensemble\n",
    "sub.to_csv('submission.csv',index=False)"
   ]
  }
 ],
 "metadata": {
  "kernelspec": {
   "display_name": "Python 3",
   "language": "python",
   "name": "python3"
  },
  "language_info": {
   "codemirror_mode": {
    "name": "ipython",
    "version": 3
   },
   "file_extension": ".py",
   "mimetype": "text/x-python",
   "name": "python",
   "nbconvert_exporter": "python",
   "pygments_lexer": "ipython3",
   "version": "3.7.12"
  },
  "papermill": {
   "default_parameters": {},
   "duration": 685.805914,
   "end_time": "2022-08-31T03:04:14.020438",
   "environment_variables": {},
   "exception": null,
   "input_path": "__notebook__.ipynb",
   "output_path": "__notebook__.ipynb",
   "parameters": {},
   "start_time": "2022-08-31T02:52:48.214524",
   "version": "2.3.4"
  }
 },
 "nbformat": 4,
 "nbformat_minor": 5
}
